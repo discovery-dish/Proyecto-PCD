{
 "cells": [
  {
   "cell_type": "markdown",
   "id": "54cd47c2",
   "metadata": {},
   "source": [
    "___\n",
    "\n",
    "# <font color= black> Proyecto en Ciencia de Datos.</font>\n",
    "<img style=\"float: right; margin: 0px 0px 15px 15px;\" src=\"https://i0.wp.com/cimtrajalisco.org/wp-content/uploads/2019/02/Logo_Horizontal-1024x472.jpg?fit=1024%2C472\" width=\"300px\" height=\"100px\" />\n",
    "\n",
    "# <font color= black>Discovery Dish &copy;</font>\n",
    "\n",
    "- <Strong> Sergio Daniel Dueñas Godinez </Strong>\n",
    "- <Strong> Andre Yahir Gonzalez Cuevas </Strong>\n",
    "- <Strong> Manuel Alejandro Murguia Orantes </Strong>\n",
    "\n",
    "___"
   ]
  },
  {
   "cell_type": "markdown",
   "id": "be500c22",
   "metadata": {},
   "source": [
    "### Introducción\n",
    "\n",
    "\n",
    "<p style=\"text-align: justify;\"> Nuestro proyecto final es crear una página web empleando HTML, CSS, JavaScript & Python. En dicha página web habrá una gran variedad de recetas que vayan desde platillos sencillos, ya sea individuales, para citas o familiares; hasta recetas de repostería y coctelería. La página web será alimentada por medio de una API que contenga todas las recetas. La página web será de libre acceso, por lo que toda persona tendrá total libertad de ver las recetas como desee, así como también tendrá un sistema de registro / inicio de sesión que brinde a los usuarios registrados nuevas opciones como puntuar recetas, dejar comentarios en otras recetas y editar sus perfiles. </p> \n",
    "\n",
    "<p style=\"text-align: justify;\"> Para la creación de la página usaremos un modelo de machine learning que haga el funcionamiento de la página web como si fuera una especie de red social. El modelo usará un sistema de recomendaciones que muestre a los usuarios diferentes platillos en base a sus gustos. El modelo se basará en las puntuaciones, búsquedas, e ingredientes más usados por los usuarios, es decir, un modelo content-based. </p>"
   ]
  },
  {
   "cell_type": "markdown",
   "id": "e8644475",
   "metadata": {},
   "source": [
    "### Antecedentes\n",
    "\n",
    "<p style=\"text-align: justify;\"> Antes de la creación de los sistemas de recomendación, los desarrolladores y sitios web utilizaban enfoques más simples y manuales para proporcionar recomendaciones o sugerencias a los usuarios. Algunos ejemplos de modelos utilizados incluían la promoción de contenido \"Más Popular\", la selección manual de contenido relacionado y la presentación de novedades. Estos métodos, aunque útiles en su momento, tenían limitaciones evidentes. Las recomendaciones basadas en popularidad podrían pasar por alto los gustos individuales, mientras que la selección manual de contenido relacionado requería una inversión considerable de tiempo y recursos, y no siempre garantizaba recomendaciones precisas.\n",
    "    \n",
    "<p style=\"text-align: justify;\"> Con la creación de los sistemas de recomendación, se abrió paso a un mundo con un sin fin de modelos para hacer recomendaciones. A diferencia de los modelos vistos con anterioridad, los sistemas de recomendación se caracterizan por la experiencia y personalización que brindan. Estos sistemas tienen la capacidad de analizar vastas cantidades de datos de usuario, como búsquedas, clics, puntuaciones, comentarios y más. A partir de esta información, los modelos son capaces de generar patrones y tendencias, lo que les permite ofrecer recomendaciones altamente personalizadas basadas en los gustos y preferencias individuales de cada usuario.\n",
    "    \n",
    "<p style=\"text-align: justify;\"> Uno de los elementos más destacados de los sistemas de recomendación es la capacidad de aprendizaje automático. A través de algoritmos avanzados, estos sistemas pueden identificar relaciones complejas entre usuarios y elementos, y predecir qué productos, servicios o contenido podrían interesar a un usuario en función de su historial y comportamiento previo. Esto no solo mejora la satisfacción del usuario al proporcionar contenido relevante, sino que también puede tener un impacto significativo en la retención de usuarios y el aumento de las tasas de conversión.\n",
    "    \n",
    "<p style=\"text-align: justify;\"> La importancia de los sistemas de recomendación en la sociedad actual es innegable. Los encontramos en una amplia gama de aplicaciones, desde el comercio electrónico, donde sugieren productos relacionados y aumentan las ventas, hasta el entretenimiento, donde personalizan la experiencia de transmisión de contenido, y las redes sociales, donde conectan a usuarios con amigos y contenido relevante. Los sistemas de recomendación son una herramienta poderosa para empresas y plataformas que buscan mejorar la satisfacción del cliente, aumentar la participación de los usuarios y fomentar el crecimiento de sus negocios.\n",
    "    \n",
    "<p style=\"text-align: justify;\"> En este contexto, el presente proyecto se centra en la creación y desarrollo de un sistema de recomendación altamente personalizado. Este sistema se basa en algoritmos avanzados y análisis de datos para proporcionar a los usuarios recomendaciones precisas y relevantes, contribuyendo así a una experiencia de usuario más enriquecedora y a la consecución de objetivos específicos en el ámbito de aplicación."
   ]
  },
  {
   "cell_type": "markdown",
   "id": "374221cb",
   "metadata": {},
   "source": [
    "### Objetivos\n",
    "\n",
    "#### Generales\n",
    "\n",
    "- Mejorar la experiencia del usuario haciendo que su visita sea más personalizada y agradable al proporcionar recomendaciones relevantes y útiles.\n",
    "\n",
    "- Maximizar la eficiencia en la presentación de contenido al evitar mostrar elementos que no son relevantes para el usuario.\n",
    "    \n",
    "\n",
    "\n",
    "#### Específicos\n",
    "\n",
    "- Recopilar y analizar datos sobre las preferencias de los usuarios a través de la interacción con el sistema.\n",
    "\n",
    "- Generar un modelo capaz de generar recomendaciones precisas y relevantes para los usuarios\n",
    "\n",
    "- Adaptar las recomendaciones a las preferencias y el comportamiento de cada usuario de manera individual.\n",
    "\n",
    "- Asegurarse de que las recomendaciones incluyan una variedad de contenido para evitar la repetición y presentar opciones nuevas y diversas.\n",
    "\n",
    "- Establecer métricas de rendimiento y realizar evaluaciones periódicas para medir la efectividad del sistema de recomendaciones.\n",
    "\n",
    "- Permitir a los usuarios proporcionar retroalimentación sobre las recomendaciones para mejorar continuamente el sistema.\n",
    "\n",
    "- Proteger la privacidad de los usuarios y garantizar que los datos se almacenan y manejan de manera segura."
   ]
  },
  {
   "cell_type": "markdown",
   "id": "d3711d61",
   "metadata": {},
   "source": [
    "### Planteamiento del Problema\n",
    "\n",
    "<p style=\"text-align: justify;\"> En el contexto de una nuestra página web de recetas, el problema identificado radica en la falta de recomendaciones de recetas altamente personalizadas y relevantes para los usuarios. A pesar de la abundancia de contenido de recetas disponibles en internet, los usuarios a menudo se sienten abrumados por la cantidad de opciones y encuentran dificultades para descubrir recetas que se ajusten a sus preferencias individuales. Este problema plantea desafíos significativos, ya que la satisfacción del usuario, la retención y la participación son cruciales para el éxito de la plataforma. Además, existe un potencial sin explotar para optimizar la experiencia del usuario y aumentar la interacción en la plataforma a través de recomendaciones de recetas precisas y personalizadas."
   ]
  },
  {
   "cell_type": "markdown",
   "id": "cc8267e2",
   "metadata": {},
   "source": [
    "### Desarrollo de la Solución\n",
    "\n",
    "#### Análisis Exploratorio de Datos\n",
    "\n"
   ]
  },
  {
   "cell_type": "markdown",
   "id": "d47894e2",
   "metadata": {},
   "source": [
    "Aquí se importaran las librerias a usar dentro del proyecto"
   ]
  },
  {
   "cell_type": "code",
   "execution_count": 2,
   "id": "748d6a2b",
   "metadata": {},
   "outputs": [],
   "source": [
    "import requests\n",
    "import pandas as pd\n",
    "import matplotlib.pyplot as plt\n",
    "\n",
    "import warnings\n",
    "\n",
    "warnings.filterwarnings('ignore')"
   ]
  },
  {
   "cell_type": "markdown",
   "id": "e5db4067",
   "metadata": {},
   "source": [
    "Para crear nuestra base de datos, primero tenemos que obtener el acceso a la API usando las Keys que solicitamos, usando el url de la API obtenemos la base de nuestra informacion."
   ]
  },
  {
   "cell_type": "code",
   "execution_count": 3,
   "id": "01caf5b1",
   "metadata": {},
   "outputs": [],
   "source": [
    "# Dieta balanceada\n",
    "# URL de la API\n",
    "url = \"https://api.edamam.com/api/recipes/v2?type=public&app_id=0377f47a&app_key=0e2c51998deea4b8476d99ceaf4a8970&diet=balanced\"\n",
    "\n",
    "# Realizar la solicitud a la API\n",
    "response = requests.get(url)\n",
    "\n",
    "# Verificar si la solicitud fue exitosa (código de estado 200)\n",
    "if response.status_code == 200:\n",
    "    # Convertir la respuesta JSON en un DataFrame\n",
    "    data = response.json()\n",
    "    df_balanced = pd.json_normalize(data['hits'])\n",
    "else:\n",
    "    print(f\"Error en la solicitud: {response.status_code}\")\n",
    "\n",
    "# high-fiber ----------------------------------------------------\n",
    "\n",
    "# URL de la API\n",
    "url = \"https://api.edamam.com/api/recipes/v2?type=public&app_id=0377f47a&app_key=0e2c51998deea4b8476d99ceaf4a8970&diet=high-fiber\"\n",
    "\n",
    "# Realizar la solicitud a la API\n",
    "response = requests.get(url)\n",
    "\n",
    "# Verificar si la solicitud fue exitosa (código de estado 200)\n",
    "if response.status_code == 200:\n",
    "    # Convertir la respuesta JSON en un DataFrame\n",
    "    data = response.json()\n",
    "    df_highfiber = pd.json_normalize(data['hits'])\n",
    "else:\n",
    "    print(f\"Error en la solicitud: {response.status_code}\")\n",
    "    \n",
    "\n",
    "# high-protein ----------------------------------------------------\n",
    "\n",
    "# URL de la API\n",
    "url = \"https://api.edamam.com/api/recipes/v2?type=public&app_id=0377f47a&app_key=0e2c51998deea4b8476d99ceaf4a8970&diet=high-protein\"\n",
    "\n",
    "# Realizar la solicitud a la API\n",
    "response = requests.get(url)\n",
    "\n",
    "# Verificar si la solicitud fue exitosa (código de estado 200)\n",
    "if response.status_code == 200:\n",
    "    # Convertir la respuesta JSON en un DataFrame\n",
    "    data = response.json()\n",
    "    df_highprotein = pd.json_normalize(data['hits'])\n",
    "else:\n",
    "    print(f\"Error en la solicitud: {response.status_code}\")\n",
    "    \n",
    "    \n",
    "# low-carb ----------------------------------------------------\n",
    "\n",
    "# URL de la API\n",
    "url = \"https://api.edamam.com/api/recipes/v2?type=public&app_id=0377f47a&app_key=0e2c51998deea4b8476d99ceaf4a8970&diet=low-carb\"\n",
    "\n",
    "# Realizar la solicitud a la API\n",
    "response = requests.get(url)\n",
    "\n",
    "# Verificar si la solicitud fue exitosa (código de estado 200)\n",
    "if response.status_code == 200:\n",
    "    # Convertir la respuesta JSON en un DataFrame\n",
    "    data = response.json()\n",
    "    df_lowcarb = pd.json_normalize(data['hits'])\n",
    "else:\n",
    "    print(f\"Error en la solicitud: {response.status_code}\")\n",
    "    \n",
    "# low-fat ----------------------------------------------------\n",
    "\n",
    "# URL de la API\n",
    "url = \"https://api.edamam.com/api/recipes/v2?type=public&app_id=0377f47a&app_key=0e2c51998deea4b8476d99ceaf4a8970&diet=low-fat\"\n",
    "\n",
    "# Realizar la solicitud a la API\n",
    "response = requests.get(url)\n",
    "\n",
    "# Verificar si la solicitud fue exitosa (código de estado 200)\n",
    "if response.status_code == 200:\n",
    "    # Convertir la respuesta JSON en un DataFrame\n",
    "    data = response.json()\n",
    "    df_lowfat = pd.json_normalize(data['hits'])\n",
    "else:\n",
    "    print(f\"Error en la solicitud: {response.status_code}\")\n",
    "    \n",
    "# low-sodium ----------------------------------------------------\n",
    "\n",
    "# URL de la API\n",
    "url = \"https://api.edamam.com/api/recipes/v2?type=public&app_id=0377f47a&app_key=0e2c51998deea4b8476d99ceaf4a8970&diet=low-sodium\"\n",
    "\n",
    "# Realizar la solicitud a la API\n",
    "response = requests.get(url)\n",
    "\n",
    "# Verificar si la solicitud fue exitosa (código de estado 200)\n",
    "if response.status_code == 200:\n",
    "    # Convertir la respuesta JSON en un DataFrame\n",
    "    data = response.json()\n",
    "    df_lowsodium = pd.json_normalize(data['hits'])\n",
    "else:\n",
    "    print(f\"Error en la solicitud: {response.status_code}\")"
   ]
  },
  {
   "cell_type": "markdown",
   "id": "2ac01464",
   "metadata": {},
   "source": [
    "Ahora solo nos quedamos con las variables que creemos que son necesarias, en este caso nos quedamos con el label, el tipo de dieta, y los nutrientes escenciales"
   ]
  },
  {
   "cell_type": "code",
   "execution_count": 4,
   "id": "e8737fe9",
   "metadata": {},
   "outputs": [],
   "source": [
    "def columnas(df):\n",
    "    df = df[['recipe.uri', \n",
    "            'recipe.label',\n",
    "            'recipe.dietLabels',\n",
    "            'recipe.healthLabels',\n",
    "            'recipe.totalNutrients.ENERC_KCAL.quantity',\n",
    "            'recipe.totalNutrients.FAT.quantity',\n",
    "            'recipe.totalNutrients.PROCNT.quantity',\n",
    "            'recipe.totalNutrients.CHOCDF.quantity',\n",
    "            'recipe.totalNutrients.FIBTG.quantity']]\n",
    "    \n",
    "    df = df.rename(columns={'recipe.uri': 'recipe_uri', \n",
    "                            'recipe.label': 'label',\n",
    "                            'recipe.dietLabels': 'dietLabels',\n",
    "                            'recipe.healthLabels': 'healthLabels',\n",
    "                            'recipe.totalNutrients.ENERC_KCAL.quantity': 'Energy(cal)',\n",
    "                            'recipe.totalNutrients.FAT.quantity': 'Fat(g)',\n",
    "                            'recipe.totalNutrients.PROCNT.quantity': 'Protein(g)',\n",
    "                            'recipe.totalNutrients.CHOCDF.quantity': 'Carbohydrates(g)',\n",
    "                            'recipe.totalNutrients.FIBTG.quantity': 'Fiber(g)'})\n",
    "    return df"
   ]
  },
  {
   "cell_type": "code",
   "execution_count": 5,
   "id": "29753cbb",
   "metadata": {},
   "outputs": [
    {
     "data": {
      "text/plain": [
       "'http://www.edamam.com/ontologies/edamam.owl#recipe_2e9b699be433fab7da069629e1699455'"
      ]
     },
     "execution_count": 5,
     "metadata": {},
     "output_type": "execute_result"
    }
   ],
   "source": [
    "df_balanced['recipe.uri'][0]"
   ]
  },
  {
   "cell_type": "code",
   "execution_count": 6,
   "id": "c65c5b4a",
   "metadata": {},
   "outputs": [],
   "source": [
    "df_balanced = columnas(df_balanced)\n",
    "df_highfiber = columnas(df_highfiber)\n",
    "df_highprotein = columnas(df_highprotein)\n",
    "df_lowcarb = columnas(df_lowcarb)\n",
    "df_lowfat = columnas(df_lowfat)\n",
    "df_lowsodium = columnas(df_lowsodium)"
   ]
  },
  {
   "cell_type": "code",
   "execution_count": 7,
   "id": "10d7bf38",
   "metadata": {},
   "outputs": [],
   "source": [
    "def juntar_df(df1,df2,df3,df4,df5,df6):\n",
    "    \n",
    "    # Lista de DataFrames\n",
    "    dataframes = [df1, df2, df3, df4, df5, df6]\n",
    "\n",
    "    # Unir DataFrames por la columna 'enlace'\n",
    "    df = pd.concat(dataframes, ignore_index=True)\n",
    "    \n",
    "    return df"
   ]
  },
  {
   "cell_type": "code",
   "execution_count": 8,
   "id": "34b9bb5d",
   "metadata": {},
   "outputs": [],
   "source": [
    "df = juntar_df(df_balanced, df_highfiber, df_highprotein, df_lowcarb, df_lowfat, df_lowsodium)"
   ]
  },
  {
   "cell_type": "code",
   "execution_count": 9,
   "id": "aa318c91",
   "metadata": {},
   "outputs": [],
   "source": [
    "dup = df['label'].duplicated()\n",
    "\n",
    "df = df.drop_duplicates(subset=['label'], keep='first')"
   ]
  },
  {
   "cell_type": "code",
   "execution_count": 10,
   "id": "39d6682d",
   "metadata": {},
   "outputs": [
    {
     "data": {
      "text/html": [
       "<div>\n",
       "<style scoped>\n",
       "    .dataframe tbody tr th:only-of-type {\n",
       "        vertical-align: middle;\n",
       "    }\n",
       "\n",
       "    .dataframe tbody tr th {\n",
       "        vertical-align: top;\n",
       "    }\n",
       "\n",
       "    .dataframe thead th {\n",
       "        text-align: right;\n",
       "    }\n",
       "</style>\n",
       "<table border=\"1\" class=\"dataframe\">\n",
       "  <thead>\n",
       "    <tr style=\"text-align: right;\">\n",
       "      <th></th>\n",
       "      <th>recipe_uri</th>\n",
       "      <th>label</th>\n",
       "      <th>dietLabels</th>\n",
       "      <th>healthLabels</th>\n",
       "      <th>Energy(cal)</th>\n",
       "      <th>Fat(g)</th>\n",
       "      <th>Protein(g)</th>\n",
       "      <th>Carbohydrates(g)</th>\n",
       "      <th>Fiber(g)</th>\n",
       "    </tr>\n",
       "  </thead>\n",
       "  <tbody>\n",
       "    <tr>\n",
       "      <th>0</th>\n",
       "      <td>http://www.edamam.com/ontologies/edamam.owl#re...</td>\n",
       "      <td>Easy Mango-Blackberry Smoothie Recipe</td>\n",
       "      <td>[Balanced, High-Fiber, Low-Sodium]</td>\n",
       "      <td>[Vegetarian, Pescatarian, Mediterranean, Glute...</td>\n",
       "      <td>274.596327</td>\n",
       "      <td>9.032777</td>\n",
       "      <td>11.235393</td>\n",
       "      <td>41.249251</td>\n",
       "      <td>8.635761</td>\n",
       "    </tr>\n",
       "    <tr>\n",
       "      <th>1</th>\n",
       "      <td>http://www.edamam.com/ontologies/edamam.owl#re...</td>\n",
       "      <td>Maple Banana Frozen Yogurt</td>\n",
       "      <td>[Balanced, Low-Sodium]</td>\n",
       "      <td>[Vegetarian, Pescatarian, Mediterranean, Glute...</td>\n",
       "      <td>494.733346</td>\n",
       "      <td>15.507892</td>\n",
       "      <td>18.264435</td>\n",
       "      <td>74.425804</td>\n",
       "      <td>6.016400</td>\n",
       "    </tr>\n",
       "    <tr>\n",
       "      <th>2</th>\n",
       "      <td>http://www.edamam.com/ontologies/edamam.owl#re...</td>\n",
       "      <td>Crispy Frizzled Artichokes recipes</td>\n",
       "      <td>[Balanced, Low-Sodium]</td>\n",
       "      <td>[Sugar-Conscious, Low Potassium, Kidney-Friend...</td>\n",
       "      <td>51.880314</td>\n",
       "      <td>2.100200</td>\n",
       "      <td>1.397880</td>\n",
       "      <td>11.768520</td>\n",
       "      <td>3.541200</td>\n",
       "    </tr>\n",
       "    <tr>\n",
       "      <th>3</th>\n",
       "      <td>http://www.edamam.com/ontologies/edamam.owl#re...</td>\n",
       "      <td>Frothy Indian Coffee</td>\n",
       "      <td>[Balanced, Low-Sodium]</td>\n",
       "      <td>[Kidney-Friendly, Vegetarian, Pescatarian, Glu...</td>\n",
       "      <td>187.236000</td>\n",
       "      <td>5.962500</td>\n",
       "      <td>6.130500</td>\n",
       "      <td>27.846000</td>\n",
       "      <td>0.000000</td>\n",
       "    </tr>\n",
       "    <tr>\n",
       "      <th>4</th>\n",
       "      <td>http://www.edamam.com/ontologies/edamam.owl#re...</td>\n",
       "      <td>Ultimate Chickpea Noodle Soup recipes</td>\n",
       "      <td>[Balanced, High-Fiber]</td>\n",
       "      <td>[Vegan, Vegetarian, Pescatarian, Mediterranean...</td>\n",
       "      <td>2788.287342</td>\n",
       "      <td>99.070496</td>\n",
       "      <td>104.456175</td>\n",
       "      <td>380.376323</td>\n",
       "      <td>54.626713</td>\n",
       "    </tr>\n",
       "    <tr>\n",
       "      <th>...</th>\n",
       "      <td>...</td>\n",
       "      <td>...</td>\n",
       "      <td>...</td>\n",
       "      <td>...</td>\n",
       "      <td>...</td>\n",
       "      <td>...</td>\n",
       "      <td>...</td>\n",
       "      <td>...</td>\n",
       "      <td>...</td>\n",
       "    </tr>\n",
       "    <tr>\n",
       "      <th>95</th>\n",
       "      <td>http://www.edamam.com/ontologies/edamam.owl#re...</td>\n",
       "      <td>Rice Vinegar From 'Bar Tartine'</td>\n",
       "      <td>[Low-Fat, Low-Sodium]</td>\n",
       "      <td>[Sugar-Conscious, Low Potassium, Kidney-Friend...</td>\n",
       "      <td>1271.166241</td>\n",
       "      <td>0.000000</td>\n",
       "      <td>4.723143</td>\n",
       "      <td>47.243347</td>\n",
       "      <td>0.000000</td>\n",
       "    </tr>\n",
       "    <tr>\n",
       "      <th>96</th>\n",
       "      <td>http://www.edamam.com/ontologies/edamam.owl#re...</td>\n",
       "      <td>Time for a Drink: The Stinger Recipe</td>\n",
       "      <td>[Low-Fat, Low-Sodium]</td>\n",
       "      <td>[Low Potassium, Kidney-Friendly, Keto-Friendly...</td>\n",
       "      <td>183.563162</td>\n",
       "      <td>0.042524</td>\n",
       "      <td>0.000000</td>\n",
       "      <td>5.896701</td>\n",
       "      <td>0.000000</td>\n",
       "    </tr>\n",
       "    <tr>\n",
       "      <th>97</th>\n",
       "      <td>http://www.edamam.com/ontologies/edamam.owl#re...</td>\n",
       "      <td>Habanero Tequila Recipe</td>\n",
       "      <td>[Low-Fat, Low-Sodium]</td>\n",
       "      <td>[Sugar-Conscious, Kidney-Friendly, Keto-Friend...</td>\n",
       "      <td>2241.242243</td>\n",
       "      <td>0.593073</td>\n",
       "      <td>3.000253</td>\n",
       "      <td>16.187413</td>\n",
       "      <td>5.930733</td>\n",
       "    </tr>\n",
       "    <tr>\n",
       "      <th>98</th>\n",
       "      <td>http://www.edamam.com/ontologies/edamam.owl#re...</td>\n",
       "      <td>Candy Apple Recipe</td>\n",
       "      <td>[Low-Fat, Low-Sodium]</td>\n",
       "      <td>[Sugar-Conscious, Low Sugar, Low Potassium, Ki...</td>\n",
       "      <td>146.283539</td>\n",
       "      <td>0.000000</td>\n",
       "      <td>1.564894</td>\n",
       "      <td>12.076897</td>\n",
       "      <td>0.000000</td>\n",
       "    </tr>\n",
       "    <tr>\n",
       "      <th>99</th>\n",
       "      <td>http://www.edamam.com/ontologies/edamam.owl#re...</td>\n",
       "      <td>Ferrari Cocktail Recipe</td>\n",
       "      <td>[Low-Fat, Low-Sodium]</td>\n",
       "      <td>[Sugar-Conscious, Low Sugar, Low Potassium, Ki...</td>\n",
       "      <td>196.462195</td>\n",
       "      <td>0.000000</td>\n",
       "      <td>0.000000</td>\n",
       "      <td>0.000000</td>\n",
       "      <td>0.000000</td>\n",
       "    </tr>\n",
       "  </tbody>\n",
       "</table>\n",
       "<p>86 rows × 9 columns</p>\n",
       "</div>"
      ],
      "text/plain": [
       "                                           recipe_uri  \\\n",
       "0   http://www.edamam.com/ontologies/edamam.owl#re...   \n",
       "1   http://www.edamam.com/ontologies/edamam.owl#re...   \n",
       "2   http://www.edamam.com/ontologies/edamam.owl#re...   \n",
       "3   http://www.edamam.com/ontologies/edamam.owl#re...   \n",
       "4   http://www.edamam.com/ontologies/edamam.owl#re...   \n",
       "..                                                ...   \n",
       "95  http://www.edamam.com/ontologies/edamam.owl#re...   \n",
       "96  http://www.edamam.com/ontologies/edamam.owl#re...   \n",
       "97  http://www.edamam.com/ontologies/edamam.owl#re...   \n",
       "98  http://www.edamam.com/ontologies/edamam.owl#re...   \n",
       "99  http://www.edamam.com/ontologies/edamam.owl#re...   \n",
       "\n",
       "                                    label                          dietLabels  \\\n",
       "0   Easy Mango-Blackberry Smoothie Recipe  [Balanced, High-Fiber, Low-Sodium]   \n",
       "1              Maple Banana Frozen Yogurt              [Balanced, Low-Sodium]   \n",
       "2      Crispy Frizzled Artichokes recipes              [Balanced, Low-Sodium]   \n",
       "3                    Frothy Indian Coffee              [Balanced, Low-Sodium]   \n",
       "4   Ultimate Chickpea Noodle Soup recipes              [Balanced, High-Fiber]   \n",
       "..                                    ...                                 ...   \n",
       "95        Rice Vinegar From 'Bar Tartine'               [Low-Fat, Low-Sodium]   \n",
       "96   Time for a Drink: The Stinger Recipe               [Low-Fat, Low-Sodium]   \n",
       "97                Habanero Tequila Recipe               [Low-Fat, Low-Sodium]   \n",
       "98                     Candy Apple Recipe               [Low-Fat, Low-Sodium]   \n",
       "99                Ferrari Cocktail Recipe               [Low-Fat, Low-Sodium]   \n",
       "\n",
       "                                         healthLabels  Energy(cal)     Fat(g)  \\\n",
       "0   [Vegetarian, Pescatarian, Mediterranean, Glute...   274.596327   9.032777   \n",
       "1   [Vegetarian, Pescatarian, Mediterranean, Glute...   494.733346  15.507892   \n",
       "2   [Sugar-Conscious, Low Potassium, Kidney-Friend...    51.880314   2.100200   \n",
       "3   [Kidney-Friendly, Vegetarian, Pescatarian, Glu...   187.236000   5.962500   \n",
       "4   [Vegan, Vegetarian, Pescatarian, Mediterranean...  2788.287342  99.070496   \n",
       "..                                                ...          ...        ...   \n",
       "95  [Sugar-Conscious, Low Potassium, Kidney-Friend...  1271.166241   0.000000   \n",
       "96  [Low Potassium, Kidney-Friendly, Keto-Friendly...   183.563162   0.042524   \n",
       "97  [Sugar-Conscious, Kidney-Friendly, Keto-Friend...  2241.242243   0.593073   \n",
       "98  [Sugar-Conscious, Low Sugar, Low Potassium, Ki...   146.283539   0.000000   \n",
       "99  [Sugar-Conscious, Low Sugar, Low Potassium, Ki...   196.462195   0.000000   \n",
       "\n",
       "    Protein(g)  Carbohydrates(g)   Fiber(g)  \n",
       "0    11.235393         41.249251   8.635761  \n",
       "1    18.264435         74.425804   6.016400  \n",
       "2     1.397880         11.768520   3.541200  \n",
       "3     6.130500         27.846000   0.000000  \n",
       "4   104.456175        380.376323  54.626713  \n",
       "..         ...               ...        ...  \n",
       "95    4.723143         47.243347   0.000000  \n",
       "96    0.000000          5.896701   0.000000  \n",
       "97    3.000253         16.187413   5.930733  \n",
       "98    1.564894         12.076897   0.000000  \n",
       "99    0.000000          0.000000   0.000000  \n",
       "\n",
       "[86 rows x 9 columns]"
      ]
     },
     "execution_count": 10,
     "metadata": {},
     "output_type": "execute_result"
    }
   ],
   "source": [
    "df"
   ]
  },
  {
   "cell_type": "markdown",
   "id": "93c1b4a2",
   "metadata": {},
   "source": [
    "## EDA (Análisis Exploratorio de Datos)\n",
    "\n",
    "En este apartado se dara un paso a paso como exploramos los datos para su posterior analización identificando patrones, tendencias y características importantes."
   ]
  },
  {
   "cell_type": "markdown",
   "id": "e1c46e3e",
   "metadata": {},
   "source": [
    "### Variable Calorías"
   ]
  },
  {
   "cell_type": "code",
   "execution_count": 11,
   "id": "807f5d4e",
   "metadata": {},
   "outputs": [
    {
     "data": {
      "image/png": "[encoded data removed]",
      "text/plain": [
       "<Figure size 640x480 with 1 Axes>"
      ]
     },
     "metadata": {},
     "output_type": "display_data"
    }
   ],
   "source": [
    "# Obtener las calorías\n",
    "calories = df[\"Energy(cal)\"]\n",
    "\n",
    "# Crear el histograma\n",
    "plt.hist(calories)\n",
    "\n",
    "# Agregar un título\n",
    "plt.title(\"Distribución de calorías\")\n",
    "\n",
    "# Mostrar el gráfico\n",
    "plt.show()"
   ]
  },
  {
   "cell_type": "markdown",
   "id": "ac3513e3",
   "metadata": {},
   "source": [
    "Con esta visualización podemos observar que las calorías siguen una distribución a la izquierda, es decir la mayoría de nuestras recetas tienen una cantidad menor a las 500 calorías. También podemos observar que la otra gran parte de nuestras recetas tienen entre 500 y 2000 calorías, mientras que una mínima cantidad de nuestras recetas se encuentran por encima de las 2000 calorías."
   ]
  },
  {
   "cell_type": "markdown",
   "id": "fd9a9e17",
   "metadata": {},
   "source": [
    "### Calorías vs Grasas"
   ]
  },
  {
   "cell_type": "code",
   "execution_count": 12,
   "id": "e421ba61",
   "metadata": {},
   "outputs": [
    {
     "data": {
      "image/png": "[encoded data removed]",
      "text/plain": [
       "<Figure size 640x480 with 1 Axes>"
      ]
     },
     "metadata": {},
     "output_type": "display_data"
    }
   ],
   "source": [
    "# Obtener las calorías y las grasas\n",
    "calories = df[\"Energy(cal)\"]\n",
    "fat = df[\"Fat(g)\"]\n",
    "\n",
    "# Crear el diagrama de dispersión\n",
    "plt.scatter(calories, fat)\n",
    "\n",
    "# Agregar un título\n",
    "plt.title(\"Relación entre calorías y grasas\")\n",
    "plt.xlabel('Calorias')\n",
    "plt.ylabel('Grasas')\n",
    "\n",
    "# Mostrar el gráfico\n",
    "plt.show()"
   ]
  },
  {
   "cell_type": "markdown",
   "id": "4c61c433",
   "metadata": {},
   "source": [
    "En esta visualización podemos observar que nuestros datos siguen una distribución semi lineal, es decir, entre menos calorías en la receta menos las grasas y viceversa. Digo semi porque también existen datos con gran cantidad de calorías pero muy pocas grasas. Esto nos indica que tenemos alimentos posiblemente saludables, pero tendríamos que observar más a detalle el contenido en cada receta para realmente saber si son altos en otros nutrientes."
   ]
  },
  {
   "cell_type": "markdown",
   "id": "b4a132a1",
   "metadata": {},
   "source": [
    "### Distribución de las Proteinas, Carbohidratos y Fibra"
   ]
  },
  {
   "cell_type": "code",
   "execution_count": 13,
   "id": "c0c44cb8",
   "metadata": {},
   "outputs": [
    {
     "data": {
      "image/png": "[encoded data removed]",
      "text/plain": [
       "<Figure size 800x1200 with 3 Axes>"
      ]
     },
     "metadata": {},
     "output_type": "display_data"
    }
   ],
   "source": [
    "# Obtener los datos\n",
    "fiber = df[\"Fiber(g)\"]\n",
    "protein = df[\"Protein(g)\"]\n",
    "carbo = df[\"Carbohydrates(g)\"]\n",
    "\n",
    "# Crear subgráficos\n",
    "fig, axes = plt.subplots(nrows=3, ncols=1, figsize=(8, 12))\n",
    "\n",
    "# Histograma para la fibra\n",
    "axes[0].hist(fiber, bins=20, color='blue', alpha=0.7)\n",
    "axes[0].set_title(\"Distribución de la variable fibra\")\n",
    "axes[0].set_xlabel(\"Cantidad de fibra (g)\")\n",
    "axes[0].set_ylabel(\"Frecuencia\")\n",
    "\n",
    "# Histograma para la proteína\n",
    "axes[1].hist(protein, bins=20, color='green', alpha=0.7)\n",
    "axes[1].set_title(\"Distribución de la variable proteína\")\n",
    "axes[1].set_xlabel(\"Cantidad de proteína (g)\")\n",
    "axes[1].set_ylabel(\"Frecuencia\")\n",
    "\n",
    "# Histograma para los carbohidratos\n",
    "axes[2].hist(carbo, bins=20, color='orange', alpha=0.7)\n",
    "axes[2].set_title(\"Distribución de la variable carbohidratos\")\n",
    "axes[2].set_xlabel(\"Cantidad de carbohidratos (g)\")\n",
    "axes[2].set_ylabel(\"Frecuencia\")\n",
    "\n",
    "# Ajustar el diseño\n",
    "plt.tight_layout()\n",
    "\n",
    "# Mostrar los subgráficos\n",
    "plt.show()"
   ]
  },
  {
   "cell_type": "markdown",
   "id": "9259a82f",
   "metadata": {},
   "source": [
    "Gracias a estos histogramas podemos concluir que estas 3 variables cuentan con una distribución positiva, es decir, están sesgadas hacia la izquierda, lo que esto nos dice es que tanto la cantidad de carbohidratos, proteinas y fibras, son en su gran mayoría pocas. En el caso de proteina y carbohidratos se encuentran en gran parte entre 0 y 100 gramos, y en el caso de las fibras entre 0 y 10 gramos por receta."
   ]
  },
  {
   "cell_type": "markdown",
   "id": "d977fb64",
   "metadata": {},
   "source": [
    "## Implementación de los sistemas de recomendación\n",
    "\n",
    "En esta sección se verán los sistemas de recomendación propuestos para este proyecto.\n",
    "El primero será un sistema en el cuál te recomienda más recetas conforme el tipo de dieta que se tiene y que el usuario prefiere.\n",
    "Para el segundo modelo propuesto (Que aún no se completa, este necesitamos terminar la página web diseñada y meter usuarios), se recomendará conforme la calificación que el usaurio de a la receta, para este modelo tenemos pensado usar la libreria de tensorflow rankings."
   ]
  },
  {
   "cell_type": "markdown",
   "metadata": {},
   "source": [
    "#### Primer modelo:\n",
    "Para este modelo urilizamos el coseno de similitud para poder recomendar recetas con base en su tipo de dieta, ya sea  balanceada, de alto contenido en fibra, alto contenido en proteóna, bajo en carbohidratos, bajo en grasa o bajo en sodio."
   ]
  },
  {
   "cell_type": "code",
   "execution_count": 22,
   "id": "0fb334b6",
   "metadata": {},
   "outputs": [],
   "source": [
    "# Librerias a utilizar\n",
    "from sentence_transformers import SentenceTransformer\n",
    "import numpy as np\n",
    "from sklearn.metrics.pairwise import cosine_similarity"
   ]
  },
  {
   "cell_type": "markdown",
   "metadata": {},
   "source": [
    "Creamos un nuevo dataframe usando solo las variables deseadas"
   ]
  },
  {
   "cell_type": "code",
   "execution_count": 18,
   "metadata": {},
   "outputs": [
    {
     "data": {
      "text/html": [
       "<div>\n",
       "<style scoped>\n",
       "    .dataframe tbody tr th:only-of-type {\n",
       "        vertical-align: middle;\n",
       "    }\n",
       "\n",
       "    .dataframe tbody tr th {\n",
       "        vertical-align: top;\n",
       "    }\n",
       "\n",
       "    .dataframe thead th {\n",
       "        text-align: right;\n",
       "    }\n",
       "</style>\n",
       "<table border=\"1\" class=\"dataframe\">\n",
       "  <thead>\n",
       "    <tr style=\"text-align: right;\">\n",
       "      <th></th>\n",
       "      <th>label</th>\n",
       "      <th>dietLabels</th>\n",
       "      <th>healthLabels</th>\n",
       "    </tr>\n",
       "  </thead>\n",
       "  <tbody>\n",
       "    <tr>\n",
       "      <th>0</th>\n",
       "      <td>Easy Mango-Blackberry Smoothie Recipe</td>\n",
       "      <td>[Balanced, High-Fiber, Low-Sodium]</td>\n",
       "      <td>[Vegetarian, Pescatarian, Mediterranean, Glute...</td>\n",
       "    </tr>\n",
       "    <tr>\n",
       "      <th>1</th>\n",
       "      <td>Maple Banana Frozen Yogurt</td>\n",
       "      <td>[Balanced, Low-Sodium]</td>\n",
       "      <td>[Vegetarian, Pescatarian, Mediterranean, Glute...</td>\n",
       "    </tr>\n",
       "    <tr>\n",
       "      <th>2</th>\n",
       "      <td>Crispy Frizzled Artichokes recipes</td>\n",
       "      <td>[Balanced, Low-Sodium]</td>\n",
       "      <td>[Sugar-Conscious, Low Potassium, Kidney-Friend...</td>\n",
       "    </tr>\n",
       "    <tr>\n",
       "      <th>3</th>\n",
       "      <td>Frothy Indian Coffee</td>\n",
       "      <td>[Balanced, Low-Sodium]</td>\n",
       "      <td>[Kidney-Friendly, Vegetarian, Pescatarian, Glu...</td>\n",
       "    </tr>\n",
       "    <tr>\n",
       "      <th>4</th>\n",
       "      <td>Ultimate Chickpea Noodle Soup recipes</td>\n",
       "      <td>[Balanced, High-Fiber]</td>\n",
       "      <td>[Vegan, Vegetarian, Pescatarian, Mediterranean...</td>\n",
       "    </tr>\n",
       "  </tbody>\n",
       "</table>\n",
       "</div>"
      ],
      "text/plain": [
       "                                   label                          dietLabels  \\\n",
       "0  Easy Mango-Blackberry Smoothie Recipe  [Balanced, High-Fiber, Low-Sodium]   \n",
       "1             Maple Banana Frozen Yogurt              [Balanced, Low-Sodium]   \n",
       "2     Crispy Frizzled Artichokes recipes              [Balanced, Low-Sodium]   \n",
       "3                   Frothy Indian Coffee              [Balanced, Low-Sodium]   \n",
       "4  Ultimate Chickpea Noodle Soup recipes              [Balanced, High-Fiber]   \n",
       "\n",
       "                                        healthLabels  \n",
       "0  [Vegetarian, Pescatarian, Mediterranean, Glute...  \n",
       "1  [Vegetarian, Pescatarian, Mediterranean, Glute...  \n",
       "2  [Sugar-Conscious, Low Potassium, Kidney-Friend...  \n",
       "3  [Kidney-Friendly, Vegetarian, Pescatarian, Glu...  \n",
       "4  [Vegan, Vegetarian, Pescatarian, Mediterranean...  "
      ]
     },
     "execution_count": 18,
     "metadata": {},
     "output_type": "execute_result"
    }
   ],
   "source": [
    "data_nueva = df[['label', 'dietLabels', 'healthLabels']].copy()\n",
    "data_nueva.head()"
   ]
  },
  {
   "cell_type": "code",
   "execution_count": 19,
   "metadata": {},
   "outputs": [],
   "source": [
    "X = np.array(data_nueva.dietLabels)"
   ]
  },
  {
   "cell_type": "markdown",
   "metadata": {},
   "source": [
    "Definimos el modelo"
   ]
  },
  {
   "cell_type": "code",
   "execution_count": 20,
   "metadata": {},
   "outputs": [
    {
     "name": "stderr",
     "output_type": "stream",
     "text": [
      "Downloading (…)925a9/.gitattributes: 100%|██████████| 690/690 [00:00<00:00, 385kB/s]\n",
      "Downloading (…)_Pooling/config.json: 100%|██████████| 190/190 [00:00<00:00, 1.23MB/s]\n",
      "Downloading (…)1a515925a9/README.md: 100%|██████████| 3.99k/3.99k [00:00<00:00, 16.1MB/s]\n",
      "Downloading (…)515925a9/config.json: 100%|██████████| 550/550 [00:00<00:00, 2.11MB/s]\n",
      "Downloading (…)ce_transformers.json: 100%|██████████| 122/122 [00:00<00:00, 1.22MB/s]\n",
      "Downloading pytorch_model.bin: 100%|██████████| 265M/265M [00:17<00:00, 15.6MB/s] \n",
      "Downloading (…)nce_bert_config.json: 100%|██████████| 53.0/53.0 [00:00<00:00, 361kB/s]\n",
      "Downloading (…)cial_tokens_map.json: 100%|██████████| 112/112 [00:00<00:00, 722kB/s]\n",
      "Downloading (…)925a9/tokenizer.json: 100%|██████████| 466k/466k [00:00<00:00, 1.63MB/s]\n",
      "Downloading (…)okenizer_config.json: 100%|██████████| 450/450 [00:00<00:00, 2.81MB/s]\n",
      "Downloading (…)1a515925a9/vocab.txt: 100%|██████████| 232k/232k [00:00<00:00, 11.1MB/s]\n",
      "Downloading (…)15925a9/modules.json: 100%|██████████| 229/229 [00:00<00:00, 1.53MB/s]\n"
     ]
    }
   ],
   "source": [
    "model = SentenceTransformer('distilbert-base-nli-mean-tokens')"
   ]
  },
  {
   "cell_type": "markdown",
   "metadata": {},
   "source": [
    "Hacemos el encodeado de los datos"
   ]
  },
  {
   "cell_type": "code",
   "execution_count": 24,
   "metadata": {},
   "outputs": [
    {
     "ename": "IndexError",
     "evalue": "list index out of range",
     "output_type": "error",
     "traceback": [
      "\u001b[0;31m---------------------------------------------------------------------------\u001b[0m",
      "\u001b[0;31mIndexError\u001b[0m                                Traceback (most recent call last)",
      "\u001b[1;32m/Users/srg/Downloads/Entrega11.ipynb Cell 38\u001b[0m line \u001b[0;36m1\n\u001b[0;32m----> <a href='vscode-notebook-cell:/Users/srg/Downloads/Entrega11.ipynb#X50sZmlsZQ%3D%3D?line=0'>1</a>\u001b[0m embeddings \u001b[39m=\u001b[39m model\u001b[39m.\u001b[39;49mencode(X)\n\u001b[1;32m      <a href='vscode-notebook-cell:/Users/srg/Downloads/Entrega11.ipynb#X50sZmlsZQ%3D%3D?line=1'>2</a>\u001b[0m embed_data \u001b[39m=\u001b[39m embeddings\n\u001b[1;32m      <a href='vscode-notebook-cell:/Users/srg/Downloads/Entrega11.ipynb#X50sZmlsZQ%3D%3D?line=2'>3</a>\u001b[0m X \u001b[39m=\u001b[39m np\u001b[39m.\u001b[39marray(embed_data)\n",
      "File \u001b[0;32m/opt/homebrew/Caskroom/miniforge/base/envs/pcd/lib/python3.11/site-packages/sentence_transformers/SentenceTransformer.py:161\u001b[0m, in \u001b[0;36mSentenceTransformer.encode\u001b[0;34m(self, sentences, batch_size, show_progress_bar, output_value, convert_to_numpy, convert_to_tensor, device, normalize_embeddings)\u001b[0m\n\u001b[1;32m    159\u001b[0m \u001b[39mfor\u001b[39;00m start_index \u001b[39min\u001b[39;00m trange(\u001b[39m0\u001b[39m, \u001b[39mlen\u001b[39m(sentences), batch_size, desc\u001b[39m=\u001b[39m\u001b[39m\"\u001b[39m\u001b[39mBatches\u001b[39m\u001b[39m\"\u001b[39m, disable\u001b[39m=\u001b[39m\u001b[39mnot\u001b[39;00m show_progress_bar):\n\u001b[1;32m    160\u001b[0m     sentences_batch \u001b[39m=\u001b[39m sentences_sorted[start_index:start_index\u001b[39m+\u001b[39mbatch_size]\n\u001b[0;32m--> 161\u001b[0m     features \u001b[39m=\u001b[39m \u001b[39mself\u001b[39;49m\u001b[39m.\u001b[39;49mtokenize(sentences_batch)\n\u001b[1;32m    162\u001b[0m     features \u001b[39m=\u001b[39m batch_to_device(features, device)\n\u001b[1;32m    164\u001b[0m     \u001b[39mwith\u001b[39;00m torch\u001b[39m.\u001b[39mno_grad():\n",
      "File \u001b[0;32m/opt/homebrew/Caskroom/miniforge/base/envs/pcd/lib/python3.11/site-packages/sentence_transformers/SentenceTransformer.py:319\u001b[0m, in \u001b[0;36mSentenceTransformer.tokenize\u001b[0;34m(self, texts)\u001b[0m\n\u001b[1;32m    315\u001b[0m \u001b[39mdef\u001b[39;00m \u001b[39mtokenize\u001b[39m(\u001b[39mself\u001b[39m, texts: Union[List[\u001b[39mstr\u001b[39m], List[Dict], List[Tuple[\u001b[39mstr\u001b[39m, \u001b[39mstr\u001b[39m]]]):\n\u001b[1;32m    316\u001b[0m \u001b[39m    \u001b[39m\u001b[39m\"\"\"\u001b[39;00m\n\u001b[1;32m    317\u001b[0m \u001b[39m    Tokenizes the texts\u001b[39;00m\n\u001b[1;32m    318\u001b[0m \u001b[39m    \"\"\"\u001b[39;00m\n\u001b[0;32m--> 319\u001b[0m     \u001b[39mreturn\u001b[39;00m \u001b[39mself\u001b[39;49m\u001b[39m.\u001b[39;49m_first_module()\u001b[39m.\u001b[39;49mtokenize(texts)\n",
      "File \u001b[0;32m/opt/homebrew/Caskroom/miniforge/base/envs/pcd/lib/python3.11/site-packages/sentence_transformers/models/Transformer.py:103\u001b[0m, in \u001b[0;36mTransformer.tokenize\u001b[0;34m(self, texts)\u001b[0m\n\u001b[1;32m    101\u001b[0m     \u001b[39mfor\u001b[39;00m text_tuple \u001b[39min\u001b[39;00m texts:\n\u001b[1;32m    102\u001b[0m         batch1\u001b[39m.\u001b[39mappend(text_tuple[\u001b[39m0\u001b[39m])\n\u001b[0;32m--> 103\u001b[0m         batch2\u001b[39m.\u001b[39mappend(text_tuple[\u001b[39m1\u001b[39;49m])\n\u001b[1;32m    104\u001b[0m     to_tokenize \u001b[39m=\u001b[39m [batch1, batch2]\n\u001b[1;32m    106\u001b[0m \u001b[39m#strip\u001b[39;00m\n",
      "\u001b[0;31mIndexError\u001b[0m: list index out of range"
     ]
    }
   ],
   "source": [
    "embeddings = model.encode(X)\n",
    "embed_data = embeddings\n",
    "X = np.array(embed_data)"
   ]
  },
  {
   "cell_type": "markdown",
   "metadata": {},
   "source": [
    "Creamos la matriz del coseno de similaridad"
   ]
  },
  {
   "cell_type": "code",
   "execution_count": 25,
   "metadata": {},
   "outputs": [
    {
     "ename": "ValueError",
     "evalue": "setting an array element with a sequence.",
     "output_type": "error",
     "traceback": [
      "\u001b[0;31m---------------------------------------------------------------------------\u001b[0m",
      "\u001b[0;31mTypeError\u001b[0m                                 Traceback (most recent call last)",
      "\u001b[0;31mTypeError\u001b[0m: float() argument must be a string or a real number, not 'list'",
      "\nThe above exception was the direct cause of the following exception:\n",
      "\u001b[0;31mValueError\u001b[0m                                Traceback (most recent call last)",
      "\u001b[1;32m/Users/srg/Downloads/Entrega11.ipynb Cell 40\u001b[0m line \u001b[0;36m1\n\u001b[0;32m----> <a href='vscode-notebook-cell:/Users/srg/Downloads/Entrega11.ipynb#X53sZmlsZQ%3D%3D?line=0'>1</a>\u001b[0m cos_sim_data \u001b[39m=\u001b[39m pd\u001b[39m.\u001b[39mDataFrame(cosine_similarity(X))\n",
      "File \u001b[0;32m/opt/homebrew/Caskroom/miniforge/base/envs/pcd/lib/python3.11/site-packages/sklearn/utils/_param_validation.py:214\u001b[0m, in \u001b[0;36mvalidate_params.<locals>.decorator.<locals>.wrapper\u001b[0;34m(*args, **kwargs)\u001b[0m\n\u001b[1;32m    208\u001b[0m \u001b[39mtry\u001b[39;00m:\n\u001b[1;32m    209\u001b[0m     \u001b[39mwith\u001b[39;00m config_context(\n\u001b[1;32m    210\u001b[0m         skip_parameter_validation\u001b[39m=\u001b[39m(\n\u001b[1;32m    211\u001b[0m             prefer_skip_nested_validation \u001b[39mor\u001b[39;00m global_skip_validation\n\u001b[1;32m    212\u001b[0m         )\n\u001b[1;32m    213\u001b[0m     ):\n\u001b[0;32m--> 214\u001b[0m         \u001b[39mreturn\u001b[39;00m func(\u001b[39m*\u001b[39;49margs, \u001b[39m*\u001b[39;49m\u001b[39m*\u001b[39;49mkwargs)\n\u001b[1;32m    215\u001b[0m \u001b[39mexcept\u001b[39;00m InvalidParameterError \u001b[39mas\u001b[39;00m e:\n\u001b[1;32m    216\u001b[0m     \u001b[39m# When the function is just a wrapper around an estimator, we allow\u001b[39;00m\n\u001b[1;32m    217\u001b[0m     \u001b[39m# the function to delegate validation to the estimator, but we replace\u001b[39;00m\n\u001b[1;32m    218\u001b[0m     \u001b[39m# the name of the estimator by the name of the function in the error\u001b[39;00m\n\u001b[1;32m    219\u001b[0m     \u001b[39m# message to avoid confusion.\u001b[39;00m\n\u001b[1;32m    220\u001b[0m     msg \u001b[39m=\u001b[39m re\u001b[39m.\u001b[39msub(\n\u001b[1;32m    221\u001b[0m         \u001b[39mr\u001b[39m\u001b[39m\"\u001b[39m\u001b[39mparameter of \u001b[39m\u001b[39m\\\u001b[39m\u001b[39mw+ must be\u001b[39m\u001b[39m\"\u001b[39m,\n\u001b[1;32m    222\u001b[0m         \u001b[39mf\u001b[39m\u001b[39m\"\u001b[39m\u001b[39mparameter of \u001b[39m\u001b[39m{\u001b[39;00mfunc\u001b[39m.\u001b[39m\u001b[39m__qualname__\u001b[39m\u001b[39m}\u001b[39;00m\u001b[39m must be\u001b[39m\u001b[39m\"\u001b[39m,\n\u001b[1;32m    223\u001b[0m         \u001b[39mstr\u001b[39m(e),\n\u001b[1;32m    224\u001b[0m     )\n",
      "File \u001b[0;32m/opt/homebrew/Caskroom/miniforge/base/envs/pcd/lib/python3.11/site-packages/sklearn/metrics/pairwise.py:1578\u001b[0m, in \u001b[0;36mcosine_similarity\u001b[0;34m(X, Y, dense_output)\u001b[0m\n\u001b[1;32m   1543\u001b[0m \u001b[39m\u001b[39m\u001b[39m\"\"\"Compute cosine similarity between samples in X and Y.\u001b[39;00m\n\u001b[1;32m   1544\u001b[0m \n\u001b[1;32m   1545\u001b[0m \u001b[39mCosine similarity, or the cosine kernel, computes similarity as the\u001b[39;00m\n\u001b[0;32m   (...)\u001b[0m\n\u001b[1;32m   1574\u001b[0m \u001b[39m    Returns the cosine similarity between samples in X and Y.\u001b[39;00m\n\u001b[1;32m   1575\u001b[0m \u001b[39m\"\"\"\u001b[39;00m\n\u001b[1;32m   1576\u001b[0m \u001b[39m# to avoid recursive import\u001b[39;00m\n\u001b[0;32m-> 1578\u001b[0m X, Y \u001b[39m=\u001b[39m check_pairwise_arrays(X, Y)\n\u001b[1;32m   1580\u001b[0m X_normalized \u001b[39m=\u001b[39m normalize(X, copy\u001b[39m=\u001b[39m\u001b[39mTrue\u001b[39;00m)\n\u001b[1;32m   1581\u001b[0m \u001b[39mif\u001b[39;00m X \u001b[39mis\u001b[39;00m Y:\n",
      "File \u001b[0;32m/opt/homebrew/Caskroom/miniforge/base/envs/pcd/lib/python3.11/site-packages/sklearn/metrics/pairwise.py:156\u001b[0m, in \u001b[0;36mcheck_pairwise_arrays\u001b[0;34m(X, Y, precomputed, dtype, accept_sparse, force_all_finite, copy)\u001b[0m\n\u001b[1;32m    153\u001b[0m     dtype \u001b[39m=\u001b[39m dtype_float\n\u001b[1;32m    155\u001b[0m \u001b[39mif\u001b[39;00m Y \u001b[39mis\u001b[39;00m X \u001b[39mor\u001b[39;00m Y \u001b[39mis\u001b[39;00m \u001b[39mNone\u001b[39;00m:\n\u001b[0;32m--> 156\u001b[0m     X \u001b[39m=\u001b[39m Y \u001b[39m=\u001b[39m check_array(\n\u001b[1;32m    157\u001b[0m         X,\n\u001b[1;32m    158\u001b[0m         accept_sparse\u001b[39m=\u001b[39;49maccept_sparse,\n\u001b[1;32m    159\u001b[0m         dtype\u001b[39m=\u001b[39;49mdtype,\n\u001b[1;32m    160\u001b[0m         copy\u001b[39m=\u001b[39;49mcopy,\n\u001b[1;32m    161\u001b[0m         force_all_finite\u001b[39m=\u001b[39;49mforce_all_finite,\n\u001b[1;32m    162\u001b[0m         estimator\u001b[39m=\u001b[39;49mestimator,\n\u001b[1;32m    163\u001b[0m     )\n\u001b[1;32m    164\u001b[0m \u001b[39melse\u001b[39;00m:\n\u001b[1;32m    165\u001b[0m     X \u001b[39m=\u001b[39m check_array(\n\u001b[1;32m    166\u001b[0m         X,\n\u001b[1;32m    167\u001b[0m         accept_sparse\u001b[39m=\u001b[39maccept_sparse,\n\u001b[0;32m   (...)\u001b[0m\n\u001b[1;32m    171\u001b[0m         estimator\u001b[39m=\u001b[39mestimator,\n\u001b[1;32m    172\u001b[0m     )\n",
      "File \u001b[0;32m/opt/homebrew/Caskroom/miniforge/base/envs/pcd/lib/python3.11/site-packages/sklearn/utils/validation.py:915\u001b[0m, in \u001b[0;36mcheck_array\u001b[0;34m(array, accept_sparse, accept_large_sparse, dtype, order, copy, force_all_finite, ensure_2d, allow_nd, ensure_min_samples, ensure_min_features, estimator, input_name)\u001b[0m\n\u001b[1;32m    913\u001b[0m         array \u001b[39m=\u001b[39m xp\u001b[39m.\u001b[39mastype(array, dtype, copy\u001b[39m=\u001b[39m\u001b[39mFalse\u001b[39;00m)\n\u001b[1;32m    914\u001b[0m     \u001b[39melse\u001b[39;00m:\n\u001b[0;32m--> 915\u001b[0m         array \u001b[39m=\u001b[39m _asarray_with_order(array, order\u001b[39m=\u001b[39;49morder, dtype\u001b[39m=\u001b[39;49mdtype, xp\u001b[39m=\u001b[39;49mxp)\n\u001b[1;32m    916\u001b[0m \u001b[39mexcept\u001b[39;00m ComplexWarning \u001b[39mas\u001b[39;00m complex_warning:\n\u001b[1;32m    917\u001b[0m     \u001b[39mraise\u001b[39;00m \u001b[39mValueError\u001b[39;00m(\n\u001b[1;32m    918\u001b[0m         \u001b[39m\"\u001b[39m\u001b[39mComplex data not supported\u001b[39m\u001b[39m\\n\u001b[39;00m\u001b[39m{}\u001b[39;00m\u001b[39m\\n\u001b[39;00m\u001b[39m\"\u001b[39m\u001b[39m.\u001b[39mformat(array)\n\u001b[1;32m    919\u001b[0m     ) \u001b[39mfrom\u001b[39;00m \u001b[39mcomplex_warning\u001b[39;00m\n",
      "File \u001b[0;32m/opt/homebrew/Caskroom/miniforge/base/envs/pcd/lib/python3.11/site-packages/sklearn/utils/_array_api.py:380\u001b[0m, in \u001b[0;36m_asarray_with_order\u001b[0;34m(array, dtype, order, copy, xp)\u001b[0m\n\u001b[1;32m    378\u001b[0m     array \u001b[39m=\u001b[39m numpy\u001b[39m.\u001b[39marray(array, order\u001b[39m=\u001b[39morder, dtype\u001b[39m=\u001b[39mdtype)\n\u001b[1;32m    379\u001b[0m \u001b[39melse\u001b[39;00m:\n\u001b[0;32m--> 380\u001b[0m     array \u001b[39m=\u001b[39m numpy\u001b[39m.\u001b[39;49masarray(array, order\u001b[39m=\u001b[39;49morder, dtype\u001b[39m=\u001b[39;49mdtype)\n\u001b[1;32m    382\u001b[0m \u001b[39m# At this point array is a NumPy ndarray. We convert it to an array\u001b[39;00m\n\u001b[1;32m    383\u001b[0m \u001b[39m# container that is consistent with the input's namespace.\u001b[39;00m\n\u001b[1;32m    384\u001b[0m \u001b[39mreturn\u001b[39;00m xp\u001b[39m.\u001b[39masarray(array)\n",
      "\u001b[0;31mValueError\u001b[0m: setting an array element with a sequence."
     ]
    }
   ],
   "source": [
    "cos_sim_data = pd.DataFrame(cosine_similarity(X))"
   ]
  },
  {
   "cell_type": "code",
   "execution_count": null,
   "metadata": {},
   "outputs": [],
   "source": []
  }
 ],
 "metadata": {
  "kernelspec": {
   "display_name": "Python 3 (ipykernel)",
   "language": "python",
   "name": "python3"
  },
  "language_info": {
   "codemirror_mode": {
    "name": "ipython",
    "version": 3
   },
   "file_extension": ".py",
   "mimetype": "text/x-python",
   "name": "python",
   "nbconvert_exporter": "python",
   "pygments_lexer": "ipython3",
   "version": "3.11.5"
  }
 },
 "nbformat": 4,
 "nbformat_minor": 5
}
