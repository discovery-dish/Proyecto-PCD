{
 "cells": [
  {
   "cell_type": "markdown",
   "id": "048e56ca",
   "metadata": {},
   "source": [
    "___\n",
    "\n",
    "# <font color= black> Proyecto en Ciencia de Datos.</font>\n",
    "<img style=\"float: right; margin: 0px 0px 15px 15px;\" src=\"https://i0.wp.com/cimtrajalisco.org/wp-content/uploads/2019/02/Logo_Horizontal-1024x472.jpg?fit=1024%2C472\" width=\"300px\" height=\"100px\" />\n",
    "\n",
    "# <font color= black>Discovery Dish &copy;</font>\n",
    "\n",
    "- <Strong> Sergio Daniel Dueñas Godinez </Strong>\n",
    "- <Strong> Andre Yahir Gonzalez Cuevas </Strong>\n",
    "- <Strong> Manuel Alejandro Murguia Orantes </Strong>\n",
    "\n",
    "___"
   ]
  },
  {
   "cell_type": "markdown",
   "id": "8f1c9cb0",
   "metadata": {},
   "source": [
    "## 1. Titulo del Proyecto\n",
    "\n",
    "**Discovery Dish** - Una red social donde puedes encontrar tu siguiente receta o comida en base a tus gustos\n",
    "\n",
    "## 2 . Introducción\n",
    "\n",
    "\n",
    "<p style=\"text-align: justify;\"> Nuestro proyecto final es crear una página web empleando HTML, CSS, JavaScript & Python. En dicha página web habrá una gran variedad de recetas que vayan desde platillos sencillos, ya sea individuales, para citas o familiares; hasta recetas de repostería y coctelería. La página web será alimentada por medio de una API que contenga todas las recetas. La página web será de libre acceso, por lo que toda persona tendrá total libertad de ver las recetas como desee, así como también tendrá un sistema de registro / inicio de sesión que brinde a los usuarios registrados nuevas opciones como puntuar recetas, dejar comentarios en otras recetas y editar sus perfiles. </p> \n",
    "\n",
    "<p style=\"text-align: justify;\"> Para la creación de la página usaremos un modelo de machine learning que haga el funcionamiento de la página web como si fuera una especie de red social. El modelo usará un sistema de recomendaciones que muestre a los usuarios diferentes platillos en base a sus gustos. El modelo se basará en las puntuaciones, búsquedas, e ingredientes más usados por los usuarios, es decir, un modelo content-based. </p>"
   ]
  },
  {
   "cell_type": "markdown",
   "id": "ba838645",
   "metadata": {},
   "source": [
    "## 3. Antecedentes\n",
    "\n",
    "<p style=\"text-align: justify;\"> Antes de la creación de los sistemas de recomendación, los desarrolladores y sitios web utilizaban enfoques más simples y manuales para proporcionar recomendaciones o sugerencias a los usuarios. Algunos ejemplos de modelos utilizados incluían la promoción de contenido \"Más Popular\", la selección manual de contenido relacionado y la presentación de novedades. Estos métodos, aunque útiles en su momento, tenían limitaciones evidentes. Las recomendaciones basadas en popularidad podrían pasar por alto los gustos individuales, mientras que la selección manual de contenido relacionado requería una inversión considerable de tiempo y recursos, y no siempre garantizaba recomendaciones precisas.\n",
    "    \n",
    "<p style=\"text-align: justify;\"> Con la creación de los sistemas de recomendación, se abrió paso a un mundo con un sin fin de modelos para hacer recomendaciones. A diferencia de los modelos vistos con anterioridad, los sistemas de recomendación se caracterizan por la experiencia y personalización que brindan. Estos sistemas tienen la capacidad de analizar vastas cantidades de datos de usuario, como búsquedas, clics, puntuaciones, comentarios y más. A partir de esta información, los modelos son capaces de generar patrones y tendencias, lo que les permite ofrecer recomendaciones altamente personalizadas basadas en los gustos y preferencias individuales de cada usuario.\n",
    "    \n",
    "<p style=\"text-align: justify;\"> Uno de los elementos más destacados de los sistemas de recomendación es la capacidad de aprendizaje automático. A través de algoritmos avanzados, estos sistemas pueden identificar relaciones complejas entre usuarios y elementos, y predecir qué productos, servicios o contenido podrían interesar a un usuario en función de su historial y comportamiento previo. Esto no solo mejora la satisfacción del usuario al proporcionar contenido relevante, sino que también puede tener un impacto significativo en la retención de usuarios y el aumento de las tasas de conversión.\n",
    "    \n",
    "<p style=\"text-align: justify;\"> La importancia de los sistemas de recomendación en la sociedad actual es innegable. Los encontramos en una amplia gama de aplicaciones, desde el comercio electrónico, donde sugieren productos relacionados y aumentan las ventas, hasta el entretenimiento, donde personalizan la experiencia de transmisión de contenido, y las redes sociales, donde conectan a usuarios con amigos y contenido relevante. Los sistemas de recomendación son una herramienta poderosa para empresas y plataformas que buscan mejorar la satisfacción del cliente, aumentar la participación de los usuarios y fomentar el crecimiento de sus negocios.\n",
    "    \n",
    "<p style=\"text-align: justify;\"> En este contexto, el presente proyecto se centra en la creación y desarrollo de un sistema de recomendación altamente personalizado. Este sistema se basa en algoritmos avanzados y análisis de datos para proporcionar a los usuarios recomendaciones precisas y relevantes, contribuyendo así a una experiencia de usuario más enriquecedora y a la consecución de objetivos específicos en el ámbito de aplicación."
   ]
  },
  {
   "cell_type": "markdown",
   "id": "7e96353e",
   "metadata": {},
   "source": [
    "## 4. Objetivos\n",
    "\n",
    "#### Generales\n",
    "\n",
    "- Mejorar la experiencia del usuario haciendo que su visita sea más personalizada y agradable al proporcionar recomendaciones relevantes y útiles.\n",
    "\n",
    "- Maximizar la eficiencia en la presentación de contenido al evitar mostrar elementos que no son relevantes para el usuario.\n",
    "    \n",
    "\n",
    "\n",
    "#### Específicos\n",
    "\n",
    "- Recopilar y analizar datos sobre las preferencias de los usuarios a través de la interacción con el sistema.\n",
    "\n",
    "- Generar un modelo capaz de generar recomendaciones precisas y relevantes para los usuarios\n",
    "\n",
    "- Adaptar las recomendaciones a las preferencias y el comportamiento de cada usuario de manera individual.\n",
    "\n",
    "- Asegurarse de que las recomendaciones incluyan una variedad de contenido para evitar la repetición y presentar opciones nuevas y diversas.\n",
    "\n",
    "- Establecer métricas de rendimiento y realizar evaluaciones periódicas para medir la efectividad del sistema de recomendaciones.\n",
    "\n",
    "- Permitir a los usuarios proporcionar retroalimentación sobre las recomendaciones para mejorar continuamente el sistema.\n",
    "\n",
    "- Proteger la privacidad de los usuarios y garantizar que los datos se almacenan y manejan de manera segura."
   ]
  },
  {
   "cell_type": "markdown",
   "id": "12a106ee",
   "metadata": {},
   "source": [
    "## 5. Planteamiento del Problema\n",
    "\n",
    "<p style=\"text-align: justify;\"> En el contexto de una nuestra página web de recetas, el problema identificado radica en la falta de recomendaciones de recetas altamente personalizadas y relevantes para los usuarios. A pesar de la abundancia de contenido de recetas disponibles en internet, los usuarios a menudo se sienten abrumados por la cantidad de opciones y encuentran dificultades para descubrir recetas que se ajusten a sus preferencias individuales. Este problema plantea desafíos significativos, ya que la satisfacción del usuario, la retención y la participación son cruciales para el éxito de la plataforma. Además, existe un potencial sin explotar para optimizar la experiencia del usuario y aumentar la interacción en la plataforma a través de recomendaciones de recetas precisas y personalizadas.\n",
    "    \n",
    "Para hacer las recomendaciones primero necesitamos una base de datos con las recetas que se bayan a usar como base para que el usuario de su rating y de ahí se le pueda recomendar más recetas. Para lograr esto usaremos una API llamada **Edamam**, la cúal contiene recetas y la información de esta, tanto de la receta en general como de los alimentos individuales que contiene la receta, por ahora usaremos la versión gratuita para la base de datos."
   ]
  },
  {
   "cell_type": "markdown",
   "id": "ba740165",
   "metadata": {},
   "source": [
    "## 6. Desarrollo de la Solución"
   ]
  },
  {
   "cell_type": "markdown",
   "id": "97eb24e3",
   "metadata": {},
   "source": [
    "Aquí se importaran las librerias a usar dentro del proyecto"
   ]
  },
  {
   "cell_type": "code",
   "execution_count": 16,
   "id": "57eac3a0",
   "metadata": {},
   "outputs": [],
   "source": [
    "import requests\n",
    "import pandas as pd\n",
    "import matplotlib.pyplot as plt\n",
    "import csv\n",
    "import warnings\n",
    "\n",
    "warnings.filterwarnings('ignore')"
   ]
  },
  {
   "cell_type": "markdown",
   "id": "4f712e49",
   "metadata": {},
   "source": [
    "Para crear nuestra base de datos, primero tenemos que obtener el acceso a la API usando las Keys que solicitamos, usando el url de la API obtenemos la base de nuestra informacion."
   ]
  },
  {
   "cell_type": "code",
   "execution_count": 2,
   "id": "c22f3d04",
   "metadata": {},
   "outputs": [],
   "source": [
    "# Dieta balanceada\n",
    "# URL de la API\n",
    "url = \"https://api.edamam.com/api/recipes/v2?type=public&app_id=0377f47a&app_key=0e2c51998deea4b8476d99ceaf4a8970&diet=balanced\"\n",
    "\n",
    "# Realizar la solicitud a la API\n",
    "response = requests.get(url)\n",
    "\n",
    "# Verificar si la solicitud fue exitosa (código de estado 200)\n",
    "if response.status_code == 200:\n",
    "    # Convertir la respuesta JSON en un DataFrame\n",
    "    data = response.json()\n",
    "    df_balanced = pd.json_normalize(data['hits'])\n",
    "else:\n",
    "    print(f\"Error en la solicitud: {response.status_code}\")\n",
    "\n",
    "# high-fiber ----------------------------------------------------\n",
    "\n",
    "# URL de la API\n",
    "url = \"https://api.edamam.com/api/recipes/v2?type=public&app_id=0377f47a&app_key=0e2c51998deea4b8476d99ceaf4a8970&diet=high-fiber\"\n",
    "\n",
    "# Realizar la solicitud a la API\n",
    "response = requests.get(url)\n",
    "\n",
    "# Verificar si la solicitud fue exitosa (código de estado 200)\n",
    "if response.status_code == 200:\n",
    "    # Convertir la respuesta JSON en un DataFrame\n",
    "    data = response.json()\n",
    "    df_highfiber = pd.json_normalize(data['hits'])\n",
    "else:\n",
    "    print(f\"Error en la solicitud: {response.status_code}\")\n",
    "    \n",
    "\n",
    "# high-protein ----------------------------------------------------\n",
    "\n",
    "# URL de la API\n",
    "url = \"https://api.edamam.com/api/recipes/v2?type=public&app_id=0377f47a&app_key=0e2c51998deea4b8476d99ceaf4a8970&diet=high-protein\"\n",
    "\n",
    "# Realizar la solicitud a la API\n",
    "response = requests.get(url)\n",
    "\n",
    "# Verificar si la solicitud fue exitosa (código de estado 200)\n",
    "if response.status_code == 200:\n",
    "    # Convertir la respuesta JSON en un DataFrame\n",
    "    data = response.json()\n",
    "    df_highprotein = pd.json_normalize(data['hits'])\n",
    "else:\n",
    "    print(f\"Error en la solicitud: {response.status_code}\")\n",
    "    \n",
    "    \n",
    "# low-carb ----------------------------------------------------\n",
    "\n",
    "# URL de la API\n",
    "url = \"https://api.edamam.com/api/recipes/v2?type=public&app_id=0377f47a&app_key=0e2c51998deea4b8476d99ceaf4a8970&diet=low-carb\"\n",
    "\n",
    "# Realizar la solicitud a la API\n",
    "response = requests.get(url)\n",
    "\n",
    "# Verificar si la solicitud fue exitosa (código de estado 200)\n",
    "if response.status_code == 200:\n",
    "    # Convertir la respuesta JSON en un DataFrame\n",
    "    data = response.json()\n",
    "    df_lowcarb = pd.json_normalize(data['hits'])\n",
    "else:\n",
    "    print(f\"Error en la solicitud: {response.status_code}\")\n",
    "    \n",
    "# low-fat ----------------------------------------------------\n",
    "\n",
    "# URL de la API\n",
    "url = \"https://api.edamam.com/api/recipes/v2?type=public&app_id=0377f47a&app_key=0e2c51998deea4b8476d99ceaf4a8970&diet=low-fat\"\n",
    "\n",
    "# Realizar la solicitud a la API\n",
    "response = requests.get(url)\n",
    "\n",
    "# Verificar si la solicitud fue exitosa (código de estado 200)\n",
    "if response.status_code == 200:\n",
    "    # Convertir la respuesta JSON en un DataFrame\n",
    "    data = response.json()\n",
    "    df_lowfat = pd.json_normalize(data['hits'])\n",
    "else:\n",
    "    print(f\"Error en la solicitud: {response.status_code}\")\n",
    "    \n",
    "# low-sodium ----------------------------------------------------\n",
    "\n",
    "# URL de la API\n",
    "url = \"https://api.edamam.com/api/recipes/v2?type=public&app_id=0377f47a&app_key=0e2c51998deea4b8476d99ceaf4a8970&diet=low-sodium\"\n",
    "\n",
    "# Realizar la solicitud a la API\n",
    "response = requests.get(url)\n",
    "\n",
    "# Verificar si la solicitud fue exitosa (código de estado 200)\n",
    "if response.status_code == 200:\n",
    "    # Convertir la respuesta JSON en un DataFrame\n",
    "    data = response.json()\n",
    "    df_lowsodium = pd.json_normalize(data['hits'])\n",
    "else:\n",
    "    print(f\"Error en la solicitud: {response.status_code}\")"
   ]
  },
  {
   "cell_type": "markdown",
   "id": "72c92749",
   "metadata": {},
   "source": [
    "Ahora solo nos quedamos con las variables que creemos que son necesarias, en este caso nos quedamos con el label, el tipo de dieta, y los nutrientes escenciales"
   ]
  },
  {
   "cell_type": "code",
   "execution_count": 3,
   "id": "1ff1c195",
   "metadata": {},
   "outputs": [],
   "source": [
    "def columnas(df):\n",
    "    df = df[['recipe.uri', \n",
    "            'recipe.label',\n",
    "            'recipe.dietLabels',\n",
    "            'recipe.healthLabels',\n",
    "            'recipe.totalNutrients.ENERC_KCAL.quantity',\n",
    "            'recipe.totalNutrients.FAT.quantity',\n",
    "            'recipe.totalNutrients.PROCNT.quantity',\n",
    "            'recipe.totalNutrients.CHOCDF.quantity',\n",
    "            'recipe.totalNutrients.FIBTG.quantity',\n",
    "            'recipe.mealType']]\n",
    "    \n",
    "    df = df.rename(columns={'recipe.uri': 'recipe_uri', \n",
    "                            'recipe.label': 'label',\n",
    "                            'recipe.dietLabels': 'dietLabels',\n",
    "                            'recipe.healthLabels': 'healthLabels',\n",
    "                            'recipe.totalNutrients.ENERC_KCAL.quantity': 'Energy(cal)',\n",
    "                            'recipe.totalNutrients.FAT.quantity': 'Fat(g)',\n",
    "                            'recipe.totalNutrients.PROCNT.quantity': 'Protein(g)',\n",
    "                            'recipe.totalNutrients.CHOCDF.quantity': 'Carbohydrates(g)',\n",
    "                            'recipe.totalNutrients.FIBTG.quantity': 'Fiber(g)',\n",
    "                            'recipe.mealType':'mealType'})\n",
    "\n",
    "    \n",
    "    print('Se limpió el dataset')\n",
    "    return df"
   ]
  },
  {
   "cell_type": "markdown",
   "id": "49a1ec40",
   "metadata": {},
   "source": [
    "Ahora aplicamos la funcion creada para ordenar a cada una de las columnas que usaremos"
   ]
  },
  {
   "cell_type": "code",
   "execution_count": 4,
   "id": "60cd0b4c",
   "metadata": {},
   "outputs": [
    {
     "name": "stdout",
     "output_type": "stream",
     "text": [
      "Se limpió el dataset\n",
      "Se limpió el dataset\n",
      "Se limpió el dataset\n",
      "Se limpió el dataset\n",
      "Se limpió el dataset\n",
      "Se limpió el dataset\n"
     ]
    }
   ],
   "source": [
    "df_balanced = columnas(df_balanced)\n",
    "df_highfiber = columnas(df_highfiber)\n",
    "df_highprotein = columnas(df_highprotein)\n",
    "df_lowcarb = columnas(df_lowcarb)\n",
    "df_lowfat = columnas(df_lowfat)\n",
    "df_lowsodium = columnas(df_lowsodium)"
   ]
  },
  {
   "cell_type": "markdown",
   "id": "9b67ff9f",
   "metadata": {},
   "source": [
    "Lo siguiente que hacemos es juntar las bases de datos creadas para que sean solo una"
   ]
  },
  {
   "cell_type": "code",
   "execution_count": 5,
   "id": "f21e02ff",
   "metadata": {},
   "outputs": [
    {
     "name": "stdout",
     "output_type": "stream",
     "text": [
      "Se juntó\n"
     ]
    }
   ],
   "source": [
    "def juntar_df(df1,df2,df3,df4,df5,df6):\n",
    "    \n",
    "    # Lista de DataFrames\n",
    "    dataframes = [df1, df2, df3, df4, df5, df6]\n",
    "\n",
    "    # Unir DataFrames por la columna 'enlace'\n",
    "    df = pd.concat(dataframes, ignore_index=True)\n",
    "\n",
    "    print('Se juntó')\n",
    "    return df\n",
    "\n",
    "#Se le aplica la funcion a los dfs\n",
    "df = juntar_df(df_balanced, df_highfiber, df_highprotein, df_lowcarb, df_lowfat, df_lowsodium)"
   ]
  },
  {
   "cell_type": "markdown",
   "id": "0c1ac910",
   "metadata": {},
   "source": [
    "Limpiamos el df de cualquier duplicado para que quede limpia"
   ]
  },
  {
   "cell_type": "code",
   "execution_count": 6,
   "id": "11bab190",
   "metadata": {},
   "outputs": [],
   "source": [
    "dup = df['label'].duplicated()\n",
    "\n",
    "df = df.drop_duplicates(subset=['label'], keep='first')\n",
    "\n",
    "df = df.loc[:, ['recipe_uri', 'label', 'dietLabels', 'healthLabels', 'mealType', 'Energy(cal)', 'Fat(g)', 'Protein(g)', 'Carbohydrates(g)', 'Fiber(g)']]"
   ]
  },
  {
   "cell_type": "markdown",
   "id": "d6b8f5f8",
   "metadata": {},
   "source": [
    "Vemos cual es el tamaño de nuestra base de datos"
   ]
  },
  {
   "cell_type": "code",
   "execution_count": 7,
   "id": "d18749ee",
   "metadata": {},
   "outputs": [
    {
     "data": {
      "text/plain": [
       "(86, 10)"
      ]
     },
     "execution_count": 7,
     "metadata": {},
     "output_type": "execute_result"
    }
   ],
   "source": [
    "df.shape"
   ]
  },
  {
   "cell_type": "code",
   "execution_count": 8,
   "id": "7e7ef06f",
   "metadata": {},
   "outputs": [
    {
     "data": {
      "text/html": [
       "<div>\n",
       "<style scoped>\n",
       "    .dataframe tbody tr th:only-of-type {\n",
       "        vertical-align: middle;\n",
       "    }\n",
       "\n",
       "    .dataframe tbody tr th {\n",
       "        vertical-align: top;\n",
       "    }\n",
       "\n",
       "    .dataframe thead th {\n",
       "        text-align: right;\n",
       "    }\n",
       "</style>\n",
       "<table border=\"1\" class=\"dataframe\">\n",
       "  <thead>\n",
       "    <tr style=\"text-align: right;\">\n",
       "      <th></th>\n",
       "      <th>recipe_uri</th>\n",
       "      <th>label</th>\n",
       "      <th>dietLabels</th>\n",
       "      <th>healthLabels</th>\n",
       "      <th>mealType</th>\n",
       "      <th>Energy(cal)</th>\n",
       "      <th>Fat(g)</th>\n",
       "      <th>Protein(g)</th>\n",
       "      <th>Carbohydrates(g)</th>\n",
       "      <th>Fiber(g)</th>\n",
       "    </tr>\n",
       "  </thead>\n",
       "  <tbody>\n",
       "    <tr>\n",
       "      <th>0</th>\n",
       "      <td>http://www.edamam.com/ontologies/edamam.owl#re...</td>\n",
       "      <td>Easy Mango-Blackberry Smoothie Recipe</td>\n",
       "      <td>[Balanced, High-Fiber, Low-Sodium]</td>\n",
       "      <td>[Vegetarian, Pescatarian, Mediterranean, Glute...</td>\n",
       "      <td>[breakfast]</td>\n",
       "      <td>274.596327</td>\n",
       "      <td>9.032777</td>\n",
       "      <td>11.235393</td>\n",
       "      <td>41.249251</td>\n",
       "      <td>8.635761</td>\n",
       "    </tr>\n",
       "    <tr>\n",
       "      <th>1</th>\n",
       "      <td>http://www.edamam.com/ontologies/edamam.owl#re...</td>\n",
       "      <td>Maple Banana Frozen Yogurt</td>\n",
       "      <td>[Balanced, Low-Sodium]</td>\n",
       "      <td>[Vegetarian, Pescatarian, Mediterranean, Glute...</td>\n",
       "      <td>[lunch/dinner]</td>\n",
       "      <td>494.733346</td>\n",
       "      <td>15.507892</td>\n",
       "      <td>18.264435</td>\n",
       "      <td>74.425804</td>\n",
       "      <td>6.016400</td>\n",
       "    </tr>\n",
       "    <tr>\n",
       "      <th>2</th>\n",
       "      <td>http://www.edamam.com/ontologies/edamam.owl#re...</td>\n",
       "      <td>Crispy Frizzled Artichokes recipes</td>\n",
       "      <td>[Balanced, Low-Sodium]</td>\n",
       "      <td>[Sugar-Conscious, Low Potassium, Kidney-Friend...</td>\n",
       "      <td>[lunch/dinner]</td>\n",
       "      <td>51.880314</td>\n",
       "      <td>2.100200</td>\n",
       "      <td>1.397880</td>\n",
       "      <td>11.768520</td>\n",
       "      <td>3.541200</td>\n",
       "    </tr>\n",
       "    <tr>\n",
       "      <th>3</th>\n",
       "      <td>http://www.edamam.com/ontologies/edamam.owl#re...</td>\n",
       "      <td>Frothy Indian Coffee</td>\n",
       "      <td>[Balanced, Low-Sodium]</td>\n",
       "      <td>[Kidney-Friendly, Vegetarian, Pescatarian, Glu...</td>\n",
       "      <td>[teatime]</td>\n",
       "      <td>187.236000</td>\n",
       "      <td>5.962500</td>\n",
       "      <td>6.130500</td>\n",
       "      <td>27.846000</td>\n",
       "      <td>0.000000</td>\n",
       "    </tr>\n",
       "    <tr>\n",
       "      <th>4</th>\n",
       "      <td>http://www.edamam.com/ontologies/edamam.owl#re...</td>\n",
       "      <td>Ultimate Chickpea Noodle Soup recipes</td>\n",
       "      <td>[Balanced, High-Fiber]</td>\n",
       "      <td>[Vegan, Vegetarian, Pescatarian, Mediterranean...</td>\n",
       "      <td>[lunch/dinner]</td>\n",
       "      <td>2788.287342</td>\n",
       "      <td>99.070496</td>\n",
       "      <td>104.456175</td>\n",
       "      <td>380.376323</td>\n",
       "      <td>54.626713</td>\n",
       "    </tr>\n",
       "  </tbody>\n",
       "</table>\n",
       "</div>"
      ],
      "text/plain": [
       "                                          recipe_uri  \\\n",
       "0  http://www.edamam.com/ontologies/edamam.owl#re...   \n",
       "1  http://www.edamam.com/ontologies/edamam.owl#re...   \n",
       "2  http://www.edamam.com/ontologies/edamam.owl#re...   \n",
       "3  http://www.edamam.com/ontologies/edamam.owl#re...   \n",
       "4  http://www.edamam.com/ontologies/edamam.owl#re...   \n",
       "\n",
       "                                   label                          dietLabels  \\\n",
       "0  Easy Mango-Blackberry Smoothie Recipe  [Balanced, High-Fiber, Low-Sodium]   \n",
       "1             Maple Banana Frozen Yogurt              [Balanced, Low-Sodium]   \n",
       "2     Crispy Frizzled Artichokes recipes              [Balanced, Low-Sodium]   \n",
       "3                   Frothy Indian Coffee              [Balanced, Low-Sodium]   \n",
       "4  Ultimate Chickpea Noodle Soup recipes              [Balanced, High-Fiber]   \n",
       "\n",
       "                                        healthLabels        mealType  \\\n",
       "0  [Vegetarian, Pescatarian, Mediterranean, Glute...     [breakfast]   \n",
       "1  [Vegetarian, Pescatarian, Mediterranean, Glute...  [lunch/dinner]   \n",
       "2  [Sugar-Conscious, Low Potassium, Kidney-Friend...  [lunch/dinner]   \n",
       "3  [Kidney-Friendly, Vegetarian, Pescatarian, Glu...       [teatime]   \n",
       "4  [Vegan, Vegetarian, Pescatarian, Mediterranean...  [lunch/dinner]   \n",
       "\n",
       "   Energy(cal)     Fat(g)  Protein(g)  Carbohydrates(g)   Fiber(g)  \n",
       "0   274.596327   9.032777   11.235393         41.249251   8.635761  \n",
       "1   494.733346  15.507892   18.264435         74.425804   6.016400  \n",
       "2    51.880314   2.100200    1.397880         11.768520   3.541200  \n",
       "3   187.236000   5.962500    6.130500         27.846000   0.000000  \n",
       "4  2788.287342  99.070496  104.456175        380.376323  54.626713  "
      ]
     },
     "execution_count": 8,
     "metadata": {},
     "output_type": "execute_result"
    }
   ],
   "source": [
    "df.head(5)"
   ]
  },
  {
   "cell_type": "markdown",
   "id": "d3a17bcf",
   "metadata": {},
   "source": [
    "### Dataset final a trabajar\n",
    "\n",
    "Al final decidimos quedarnos con las siguientes variables:\n",
    "\n",
    "- recipe_uri : esta columna representa el url de la receta (string, ontology identifier)\n",
    "- label: esta columna es el nombre de la receta (string)\n",
    "- dietLabels: es la categoria de tipo de dieta que cubre la receta (string, categorica) , puede ser: \n",
    "    - Balanced \n",
    "    - High-Fiber\n",
    "    - High-Protein\n",
    "    - Low-Carb\n",
    "    - Low-Fat\n",
    "    - Low-Sodium \n",
    "- healthLabels: es la cateogira sobre tipo de alimentacion que cubre (string, categorica)\n",
    "- MealType: es el tipo de comida que es en cuestion de hora del día (string, categorica), puede ser:\n",
    "    - breakfast \n",
    "    - brunch\n",
    "    - lunch/dinner\n",
    "    - snack\n",
    "    - teatime\n",
    "- Energy(kcal): es la energía en kcal (float, numerico)\n",
    "- Protein(g): es la proteina en gramos (float, numerico)\n",
    "- Fat(g): es la grasa en gramos (float, numerico)\n",
    "- Carbhydrates(g): es el total de carbohidratos en gramos (float, numerico)\n",
    "- Fiber(g): es la friba en gramos (float, numerico)\n",
    "\n",
    "Las razones para quedarnos con las variables fueron que todas son datos descriptivos de la receta y se usarán para poder informar al cliente o usario de la página sobre la receta. Por parte del modelo, el recipe_uri se usará como ID para poder identificar la receta en el momento de llamar la recomendación."
   ]
  },
  {
   "cell_type": "markdown",
   "id": "abd6e9e9",
   "metadata": {},
   "source": [
    "### EDA (Análisis Exploratorio de Datos)\n",
    "\n",
    "En este apartado se dara un paso a paso como exploramos los datos para su posterior analización identificando patrones, tendencias y características importantes."
   ]
  },
  {
   "cell_type": "markdown",
   "id": "da733f72",
   "metadata": {},
   "source": [
    "### Variable Calorías"
   ]
  },
  {
   "cell_type": "code",
   "execution_count": 9,
   "id": "dbbe66a3",
   "metadata": {},
   "outputs": [
    {
     "data": {
      "image/png": "[encoded data removed]",
      "text/plain": [
       "<Figure size 640x480 with 1 Axes>"
      ]
     },
     "metadata": {},
     "output_type": "display_data"
    }
   ],
   "source": [
    "# Obtener las calorías\n",
    "calories = df[\"Energy(cal)\"]\n",
    "\n",
    "# Crear el histograma\n",
    "plt.hist(calories)\n",
    "\n",
    "# Agregar un título\n",
    "plt.title(\"Distribución de calorías\")\n",
    "\n",
    "# Mostrar el gráfico\n",
    "plt.show()"
   ]
  },
  {
   "cell_type": "markdown",
   "id": "8f9de1b2",
   "metadata": {},
   "source": [
    "Con esta visualización podemos observar que las calorías siguen una distribución a la izquierda, es decir la mayoría de nuestras recetas tienen una cantidad menor a las 500 calorías. También podemos observar que la otra gran parte de nuestras recetas tienen entre 500 y 2000 calorías, mientras que una mínima cantidad de nuestras recetas se encuentran por encima de las 2000 calorías."
   ]
  },
  {
   "cell_type": "markdown",
   "id": "e71f54ef",
   "metadata": {},
   "source": [
    "### Calorías vs Grasas"
   ]
  },
  {
   "cell_type": "code",
   "execution_count": 10,
   "id": "09f6fd91",
   "metadata": {},
   "outputs": [
    {
     "data": {
      "image/png": "[encoded data removed]",
      "text/plain": [
       "<Figure size 640x480 with 1 Axes>"
      ]
     },
     "metadata": {},
     "output_type": "display_data"
    }
   ],
   "source": [
    "# Obtener las calorías y las grasas\n",
    "calories = df[\"Energy(cal)\"]\n",
    "fat = df[\"Fat(g)\"]\n",
    "\n",
    "# Crear el diagrama de dispersión\n",
    "plt.scatter(calories, fat)\n",
    "\n",
    "# Agregar un título\n",
    "plt.title(\"Relación entre calorías y grasas\")\n",
    "plt.xlabel('Calorias')\n",
    "plt.ylabel('Grasas')\n",
    "\n",
    "# Mostrar el gráfico\n",
    "plt.show()"
   ]
  },
  {
   "cell_type": "markdown",
   "id": "b6ef94cf",
   "metadata": {},
   "source": [
    "En esta visualización podemos observar que nuestros datos siguen una distribución semi lineal, es decir, entre menos calorías en la receta menos las grasas y viceversa. Digo semi porque también existen datos con gran cantidad de calorías pero muy pocas grasas. Esto nos indica que tenemos alimentos posiblemente saludables, pero tendríamos que observar más a detalle el contenido en cada receta para realmente saber si son altos en otros nutrientes."
   ]
  },
  {
   "cell_type": "markdown",
   "id": "c8a0ebe0",
   "metadata": {},
   "source": [
    "### Distribución de las Proteinas, Carbohidratos y Fibra"
   ]
  },
  {
   "cell_type": "code",
   "execution_count": 11,
   "id": "c54cec92",
   "metadata": {},
   "outputs": [
    {
     "data": {
      "image/png": "[encoded data removed]",
      "text/plain": [
       "<Figure size 800x1200 with 3 Axes>"
      ]
     },
     "metadata": {},
     "output_type": "display_data"
    }
   ],
   "source": [
    "# Obtener los datos\n",
    "fiber = df[\"Fiber(g)\"]\n",
    "protein = df[\"Protein(g)\"]\n",
    "carbo = df[\"Carbohydrates(g)\"]\n",
    "\n",
    "# Crear subgráficos\n",
    "fig, axes = plt.subplots(nrows=3, ncols=1, figsize=(8, 12))\n",
    "\n",
    "# Histograma para la fibra\n",
    "axes[0].hist(fiber, bins=20, color='blue', alpha=0.7)\n",
    "axes[0].set_title(\"Distribución de la variable fibra\")\n",
    "axes[0].set_xlabel(\"Cantidad de fibra (g)\")\n",
    "axes[0].set_ylabel(\"Frecuencia\")\n",
    "\n",
    "# Histograma para la proteína\n",
    "axes[1].hist(protein, bins=20, color='green', alpha=0.7)\n",
    "axes[1].set_title(\"Distribución de la variable proteína\")\n",
    "axes[1].set_xlabel(\"Cantidad de proteína (g)\")\n",
    "axes[1].set_ylabel(\"Frecuencia\")\n",
    "\n",
    "# Histograma para los carbohidratos\n",
    "axes[2].hist(carbo, bins=20, color='orange', alpha=0.7)\n",
    "axes[2].set_title(\"Distribución de la variable carbohidratos\")\n",
    "axes[2].set_xlabel(\"Cantidad de carbohidratos (g)\")\n",
    "axes[2].set_ylabel(\"Frecuencia\")\n",
    "\n",
    "# Ajustar el diseño\n",
    "plt.tight_layout()\n",
    "\n",
    "# Mostrar los subgráficos\n",
    "plt.show()"
   ]
  },
  {
   "cell_type": "markdown",
   "id": "33101e55",
   "metadata": {},
   "source": [
    "Gracias a estos histogramas podemos concluir que estas 3 variables cuentan con una distribución positiva, es decir, están sesgadas hacia la izquierda, lo que esto nos dice es que tanto la cantidad de carbohidratos, proteinas y fibras, son en su gran mayoría pocas. En el caso de proteina y carbohidratos se encuentran en gran parte entre 0 y 100 gramos, y en el caso de las fibras entre 0 y 10 gramos por receta."
   ]
  },
  {
   "cell_type": "code",
   "execution_count": 12,
   "id": "0aeb0d93",
   "metadata": {},
   "outputs": [
    {
     "data": {
      "image/png": "[encoded data removed]",
      "text/plain": [
       "<Figure size 1000x600 with 1 Axes>"
      ]
     },
     "metadata": {},
     "output_type": "display_data"
    }
   ],
   "source": [
    "# Contar el número de recetas por tipo de comida (MealType)\n",
    "mealtype_counts = df['mealType'].value_counts()\n",
    "\n",
    "# Crear un gráfico de barras\n",
    "plt.figure(figsize=(10, 6))\n",
    "mealtype_counts.plot(kind='bar', color='skyblue')\n",
    "plt.title('Número de recetas por tipo de comida')\n",
    "plt.xlabel('Tipo de comida')\n",
    "plt.ylabel('Número de recetas')\n",
    "plt.xticks(rotation=45)\n",
    "plt.show()"
   ]
  },
  {
   "cell_type": "markdown",
   "id": "06d615d7",
   "metadata": {},
   "source": [
    "Podemos ver que la mayoría de las recetas son del tipo dinner o cena y con diferencia muy grande en comparación a el resto de comidas."
   ]
  },
  {
   "cell_type": "markdown",
   "id": "4f51f28a",
   "metadata": {},
   "source": [
    "Por ultimo descargamos el dataframe creado como csv para usarlo en el ipynb."
   ]
  },
  {
   "cell_type": "code",
   "execution_count": 18,
   "id": "956034da",
   "metadata": {},
   "outputs": [],
   "source": [
    "df.to_csv('data.csv', index=False)"
   ]
  },
  {
   "cell_type": "markdown",
   "id": "cda58bb0",
   "metadata": {},
   "source": [
    "### Entrenamiento del modelo con MLflow\n",
    "\n",
    "En esta punto empezamos a trabajar con el modelo y lo que tenemos pensado hacer, aquí haremos pruebas iniciales para poder plazmar nuestras ideas en codigo para finalmente hacer experimentos con nuestros datos y subirlos a Mlflow donde podamos comparar todos los modelos hechos e incluso sus versiones."
   ]
  },
  {
   "cell_type": "code",
   "execution_count": 69,
   "id": "cd9e61a9",
   "metadata": {},
   "outputs": [],
   "source": [
    "#Librerias que usaremos\n",
    "import pandas as pd\n",
    "import numpy as np\n",
    "import ast\n",
    "import csv\n",
    "import seaborn as sns\n",
    "\n",
    "from sklearn.metrics.pairwise import cosine_similarity\n",
    "from sentence_transformers import SentenceTransformer\n",
    "\n",
    "from surprise import accuracy, Dataset, NormalPredictor, Reader\n",
    "from surprise import SVD, SVDpp, KNNBasic\n",
    "from surprise.model_selection import cross_validate, train_test_split"
   ]
  },
  {
   "cell_type": "code",
   "execution_count": 92,
   "id": "26bbe6e6",
   "metadata": {
    "scrolled": false
   },
   "outputs": [
    {
     "data": {
      "text/html": [
       "<div>\n",
       "<style scoped>\n",
       "    .dataframe tbody tr th:only-of-type {\n",
       "        vertical-align: middle;\n",
       "    }\n",
       "\n",
       "    .dataframe tbody tr th {\n",
       "        vertical-align: top;\n",
       "    }\n",
       "\n",
       "    .dataframe thead th {\n",
       "        text-align: right;\n",
       "    }\n",
       "</style>\n",
       "<table border=\"1\" class=\"dataframe\">\n",
       "  <thead>\n",
       "    <tr style=\"text-align: right;\">\n",
       "      <th></th>\n",
       "      <th>recipe_uri</th>\n",
       "      <th>label</th>\n",
       "      <th>dietLabels</th>\n",
       "      <th>healthLabels</th>\n",
       "      <th>mealType</th>\n",
       "      <th>Energy(cal)</th>\n",
       "      <th>Fat(g)</th>\n",
       "      <th>Protein(g)</th>\n",
       "      <th>Carbohydrates(g)</th>\n",
       "      <th>Fiber(g)</th>\n",
       "    </tr>\n",
       "  </thead>\n",
       "  <tbody>\n",
       "    <tr>\n",
       "      <th>0</th>\n",
       "      <td>http://www.edamam.com/ontologies/edamam.owl#re...</td>\n",
       "      <td>Easy Mango-Blackberry Smoothie Recipe</td>\n",
       "      <td>[Balanced, High-Fiber, Low-Sodium]</td>\n",
       "      <td>['Vegetarian', 'Pescatarian', 'Mediterranean',...</td>\n",
       "      <td>['breakfast']</td>\n",
       "      <td>274.596327</td>\n",
       "      <td>9.032777</td>\n",
       "      <td>11.235393</td>\n",
       "      <td>41.249251</td>\n",
       "      <td>8.635761</td>\n",
       "    </tr>\n",
       "    <tr>\n",
       "      <th>1</th>\n",
       "      <td>http://www.edamam.com/ontologies/edamam.owl#re...</td>\n",
       "      <td>Maple Banana Frozen Yogurt</td>\n",
       "      <td>[Balanced, Low-Sodium]</td>\n",
       "      <td>['Vegetarian', 'Pescatarian', 'Mediterranean',...</td>\n",
       "      <td>['lunch/dinner']</td>\n",
       "      <td>494.733346</td>\n",
       "      <td>15.507892</td>\n",
       "      <td>18.264435</td>\n",
       "      <td>74.425804</td>\n",
       "      <td>6.016400</td>\n",
       "    </tr>\n",
       "    <tr>\n",
       "      <th>2</th>\n",
       "      <td>http://www.edamam.com/ontologies/edamam.owl#re...</td>\n",
       "      <td>Crispy Frizzled Artichokes recipes</td>\n",
       "      <td>[Balanced, Low-Sodium]</td>\n",
       "      <td>['Sugar-Conscious', 'Low Potassium', 'Kidney-F...</td>\n",
       "      <td>['lunch/dinner']</td>\n",
       "      <td>51.880314</td>\n",
       "      <td>2.100200</td>\n",
       "      <td>1.397880</td>\n",
       "      <td>11.768520</td>\n",
       "      <td>3.541200</td>\n",
       "    </tr>\n",
       "    <tr>\n",
       "      <th>3</th>\n",
       "      <td>http://www.edamam.com/ontologies/edamam.owl#re...</td>\n",
       "      <td>Frothy Indian Coffee</td>\n",
       "      <td>[Balanced, Low-Sodium]</td>\n",
       "      <td>['Kidney-Friendly', 'Vegetarian', 'Pescatarian...</td>\n",
       "      <td>['teatime']</td>\n",
       "      <td>187.236000</td>\n",
       "      <td>5.962500</td>\n",
       "      <td>6.130500</td>\n",
       "      <td>27.846000</td>\n",
       "      <td>0.000000</td>\n",
       "    </tr>\n",
       "    <tr>\n",
       "      <th>4</th>\n",
       "      <td>http://www.edamam.com/ontologies/edamam.owl#re...</td>\n",
       "      <td>Ultimate Chickpea Noodle Soup recipes</td>\n",
       "      <td>[Balanced, High-Fiber]</td>\n",
       "      <td>['Vegan', 'Vegetarian', 'Pescatarian', 'Medite...</td>\n",
       "      <td>['lunch/dinner']</td>\n",
       "      <td>2788.287342</td>\n",
       "      <td>99.070496</td>\n",
       "      <td>104.456175</td>\n",
       "      <td>380.376323</td>\n",
       "      <td>54.626713</td>\n",
       "    </tr>\n",
       "  </tbody>\n",
       "</table>\n",
       "</div>"
      ],
      "text/plain": [
       "                                          recipe_uri  \\\n",
       "0  http://www.edamam.com/ontologies/edamam.owl#re...   \n",
       "1  http://www.edamam.com/ontologies/edamam.owl#re...   \n",
       "2  http://www.edamam.com/ontologies/edamam.owl#re...   \n",
       "3  http://www.edamam.com/ontologies/edamam.owl#re...   \n",
       "4  http://www.edamam.com/ontologies/edamam.owl#re...   \n",
       "\n",
       "                                   label                          dietLabels  \\\n",
       "0  Easy Mango-Blackberry Smoothie Recipe  [Balanced, High-Fiber, Low-Sodium]   \n",
       "1             Maple Banana Frozen Yogurt              [Balanced, Low-Sodium]   \n",
       "2     Crispy Frizzled Artichokes recipes              [Balanced, Low-Sodium]   \n",
       "3                   Frothy Indian Coffee              [Balanced, Low-Sodium]   \n",
       "4  Ultimate Chickpea Noodle Soup recipes              [Balanced, High-Fiber]   \n",
       "\n",
       "                                        healthLabels          mealType  \\\n",
       "0  ['Vegetarian', 'Pescatarian', 'Mediterranean',...     ['breakfast']   \n",
       "1  ['Vegetarian', 'Pescatarian', 'Mediterranean',...  ['lunch/dinner']   \n",
       "2  ['Sugar-Conscious', 'Low Potassium', 'Kidney-F...  ['lunch/dinner']   \n",
       "3  ['Kidney-Friendly', 'Vegetarian', 'Pescatarian...       ['teatime']   \n",
       "4  ['Vegan', 'Vegetarian', 'Pescatarian', 'Medite...  ['lunch/dinner']   \n",
       "\n",
       "   Energy(cal)     Fat(g)  Protein(g)  Carbohydrates(g)   Fiber(g)  \n",
       "0   274.596327   9.032777   11.235393         41.249251   8.635761  \n",
       "1   494.733346  15.507892   18.264435         74.425804   6.016400  \n",
       "2    51.880314   2.100200    1.397880         11.768520   3.541200  \n",
       "3   187.236000   5.962500    6.130500         27.846000   0.000000  \n",
       "4  2788.287342  99.070496  104.456175        380.376323  54.626713  "
      ]
     },
     "execution_count": 92,
     "metadata": {},
     "output_type": "execute_result"
    }
   ],
   "source": [
    "# Lo primero que hacemos el leer el csv que se creo en el documento EDA.ipynb\n",
    "df = pd.read_csv('data.csv', converters={'dietLabels': ast.literal_eval})\n",
    "df.head()"
   ]
  },
  {
   "cell_type": "markdown",
   "id": "40f4abbd",
   "metadata": {},
   "source": [
    "Ahora indicamos cuales son las variables a usar en el modelo"
   ]
  },
  {
   "cell_type": "code",
   "execution_count": 3,
   "id": "ff974284",
   "metadata": {},
   "outputs": [
    {
     "data": {
      "text/html": [
       "<div>\n",
       "<style scoped>\n",
       "    .dataframe tbody tr th:only-of-type {\n",
       "        vertical-align: middle;\n",
       "    }\n",
       "\n",
       "    .dataframe tbody tr th {\n",
       "        vertical-align: top;\n",
       "    }\n",
       "\n",
       "    .dataframe thead th {\n",
       "        text-align: right;\n",
       "    }\n",
       "</style>\n",
       "<table border=\"1\" class=\"dataframe\">\n",
       "  <thead>\n",
       "    <tr style=\"text-align: right;\">\n",
       "      <th></th>\n",
       "      <th>label</th>\n",
       "      <th>dietLabels</th>\n",
       "      <th>healthLabels</th>\n",
       "      <th>mealType</th>\n",
       "    </tr>\n",
       "  </thead>\n",
       "  <tbody>\n",
       "    <tr>\n",
       "      <th>0</th>\n",
       "      <td>Easy Mango-Blackberry Smoothie Recipe</td>\n",
       "      <td>[Balanced, High-Fiber, Low-Sodium]</td>\n",
       "      <td>['Vegetarian', 'Pescatarian', 'Mediterranean',...</td>\n",
       "      <td>['breakfast']</td>\n",
       "    </tr>\n",
       "    <tr>\n",
       "      <th>1</th>\n",
       "      <td>Maple Banana Frozen Yogurt</td>\n",
       "      <td>[Balanced, Low-Sodium]</td>\n",
       "      <td>['Vegetarian', 'Pescatarian', 'Mediterranean',...</td>\n",
       "      <td>['lunch/dinner']</td>\n",
       "    </tr>\n",
       "    <tr>\n",
       "      <th>2</th>\n",
       "      <td>Crispy Frizzled Artichokes recipes</td>\n",
       "      <td>[Balanced, Low-Sodium]</td>\n",
       "      <td>['Sugar-Conscious', 'Low Potassium', 'Kidney-F...</td>\n",
       "      <td>['lunch/dinner']</td>\n",
       "    </tr>\n",
       "    <tr>\n",
       "      <th>3</th>\n",
       "      <td>Frothy Indian Coffee</td>\n",
       "      <td>[Balanced, Low-Sodium]</td>\n",
       "      <td>['Kidney-Friendly', 'Vegetarian', 'Pescatarian...</td>\n",
       "      <td>['teatime']</td>\n",
       "    </tr>\n",
       "    <tr>\n",
       "      <th>4</th>\n",
       "      <td>Ultimate Chickpea Noodle Soup recipes</td>\n",
       "      <td>[Balanced, High-Fiber]</td>\n",
       "      <td>['Vegan', 'Vegetarian', 'Pescatarian', 'Medite...</td>\n",
       "      <td>['lunch/dinner']</td>\n",
       "    </tr>\n",
       "  </tbody>\n",
       "</table>\n",
       "</div>"
      ],
      "text/plain": [
       "                                   label                          dietLabels  \\\n",
       "0  Easy Mango-Blackberry Smoothie Recipe  [Balanced, High-Fiber, Low-Sodium]   \n",
       "1             Maple Banana Frozen Yogurt              [Balanced, Low-Sodium]   \n",
       "2     Crispy Frizzled Artichokes recipes              [Balanced, Low-Sodium]   \n",
       "3                   Frothy Indian Coffee              [Balanced, Low-Sodium]   \n",
       "4  Ultimate Chickpea Noodle Soup recipes              [Balanced, High-Fiber]   \n",
       "\n",
       "                                        healthLabels          mealType  \n",
       "0  ['Vegetarian', 'Pescatarian', 'Mediterranean',...     ['breakfast']  \n",
       "1  ['Vegetarian', 'Pescatarian', 'Mediterranean',...  ['lunch/dinner']  \n",
       "2  ['Sugar-Conscious', 'Low Potassium', 'Kidney-F...  ['lunch/dinner']  \n",
       "3  ['Kidney-Friendly', 'Vegetarian', 'Pescatarian...       ['teatime']  \n",
       "4  ['Vegan', 'Vegetarian', 'Pescatarian', 'Medite...  ['lunch/dinner']  "
      ]
     },
     "execution_count": 3,
     "metadata": {},
     "output_type": "execute_result"
    }
   ],
   "source": [
    "data_nueva = df[['label', 'dietLabels', 'healthLabels', 'mealType']].copy()\n",
    "data_nueva.head()"
   ]
  },
  {
   "cell_type": "markdown",
   "id": "79ff840b",
   "metadata": {},
   "source": [
    "Para tener una idea de lo que queremos hacer, primero haremos un sistema de recomendacion en base a las recetas"
   ]
  },
  {
   "cell_type": "code",
   "execution_count": 4,
   "id": "86cfda04",
   "metadata": {},
   "outputs": [],
   "source": [
    "data_nueva = df.astype({'label':'string', 'dietLabels':'string', 'healthLabels':'string', 'mealType':'string'})"
   ]
  },
  {
   "cell_type": "code",
   "execution_count": 5,
   "id": "3b43a8cb",
   "metadata": {},
   "outputs": [],
   "source": [
    "data_nueva['dietLabels'] = data_nueva['dietLabels'].apply(ast.literal_eval)\n",
    "\n",
    "# Se hacen cambios para poder hacer la recomendacion\n",
    "max_labels = 10\n",
    "data_nueva['dietLabels'] = data_nueva['dietLabels'].apply(lambda x: x[:max_labels] + [''] * (max_labels - len(x)))\n",
    "data_nueva['dietLabels'] = data_nueva['dietLabels'].apply(str)\n",
    "\n",
    "X = np.array(data_nueva['dietLabels'])"
   ]
  },
  {
   "cell_type": "markdown",
   "id": "6a252c71",
   "metadata": {},
   "source": [
    "Usaremos SentenceTransformer para hacer la recomendacion, ya que dicha libreria representa las oraciones y textos como vectores númericos."
   ]
  },
  {
   "cell_type": "code",
   "execution_count": 6,
   "id": "7a6ab3e9",
   "metadata": {},
   "outputs": [],
   "source": [
    "model = SentenceTransformer('distilbert-base-nli-mean-tokens')"
   ]
  },
  {
   "cell_type": "code",
   "execution_count": 7,
   "id": "416c51e9",
   "metadata": {},
   "outputs": [],
   "source": [
    "embeddings = model.encode(X)\n",
    "embed_data = embeddings\n",
    "X = np.array(embed_data)"
   ]
  },
  {
   "cell_type": "code",
   "execution_count": 8,
   "id": "ec596bd1",
   "metadata": {},
   "outputs": [],
   "source": [
    "cos_sim_data = pd.DataFrame(cosine_similarity(X))"
   ]
  },
  {
   "cell_type": "markdown",
   "id": "dcb3c27a",
   "metadata": {},
   "source": [
    "Creamos la funcion de recomendacion en base a las recetas"
   ]
  },
  {
   "cell_type": "code",
   "execution_count": 9,
   "id": "79c9288b",
   "metadata": {},
   "outputs": [],
   "source": [
    "def give_recommendations(index,print_recommendation = False,print_recommendation_plots= False,print_genres =False):\n",
    "  index_recomm =cos_sim_data.loc[index].sort_values(ascending=False).index.tolist()[1:6]\n",
    "  recepies_recomm =  data_nueva['label'].loc[index_recomm].values\n",
    "  result = {'Recetas':recepies_recomm,'Index':index_recomm}\n",
    "  if print_recommendation==True:\n",
    "    print('La receta base es: %s \\n'%(data_nueva['label'].loc[index]))\n",
    "    k=1\n",
    "    for recepie in recepies_recomm:\n",
    "      print('La receta %i recomendada es: %s \\n'%(k,recepie))\n",
    "  if print_recommendation_plots==True:\n",
    "    print('La visualizacion de la recomendacion es:\\n %s \\n'%(data['dietLabels'].loc[index])) # Uso de imagen con API (en la pagina web)\n",
    "    k=1\n",
    "    for q in range(len(recepies_recomm)):\n",
    "      plot_q = data_nueva['dietLabels'].loc[index_recomm[q]]\n",
    "      print('La visualizacion de la receta %i recomendada es:\\n %s \\n'%(k,plot_q)) # Uso de imagen con API (en la pagina web)\n",
    "      k=k+1\n",
    "  if print_genres==True:\n",
    "    print('Las categorias nutricionales de la receta son:\\n %s \\n'%(data['healthLabels'].loc[index]))\n",
    "    k=1\n",
    "    for q in range(len(recepies_recomm)):\n",
    "      plot_q = data['healthLabels'].loc[index_recomm[q]]\n",
    "      print('La visualizacion de la receta %i recomendada es:\\n %s \\n'%(k,plot_q))\n",
    "      k=k+1\n",
    "  return result"
   ]
  },
  {
   "cell_type": "code",
   "execution_count": 10,
   "id": "1dfd9491",
   "metadata": {},
   "outputs": [
    {
     "name": "stdout",
     "output_type": "stream",
     "text": [
      "La receta base es: Crispy Frizzled Artichokes recipes \n",
      "\n",
      "La receta 1 recomendada es: Frothy Indian Coffee \n",
      "\n",
      "La receta 1 recomendada es: Pão De Queijo (Brazilian Cheese Bread) \n",
      "\n",
      "La receta 1 recomendada es: Chocolate Milk from Scratch Recipe \n",
      "\n",
      "La receta 1 recomendada es: Seven-Yolk Pasta Dough \n",
      "\n",
      "La receta 1 recomendada es: Mixed Berry Ricotta Fool \n",
      "\n"
     ]
    },
    {
     "data": {
      "text/plain": [
       "{'Recetas': <StringArray>\n",
       " [                  'Frothy Indian Coffee',\n",
       "  'Pão De Queijo (Brazilian Cheese Bread)',\n",
       "      'Chocolate Milk from Scratch Recipe',\n",
       "                  'Seven-Yolk Pasta Dough',\n",
       "                'Mixed Berry Ricotta Fool']\n",
       " Length: 5, dtype: string,\n",
       " 'Index': [3, 6, 8, 9, 10]}"
      ]
     },
     "execution_count": 10,
     "metadata": {},
     "output_type": "execute_result"
    }
   ],
   "source": [
    "give_recommendations(2,True)"
   ]
  },
  {
   "cell_type": "markdown",
   "id": "3c98bbd2",
   "metadata": {},
   "source": [
    "Veamos como son las recomendacion qu podemos hacer en base a la receta"
   ]
  },
  {
   "cell_type": "code",
   "execution_count": 11,
   "id": "17f933ee",
   "metadata": {},
   "outputs": [
    {
     "name": "stdout",
     "output_type": "stream",
     "text": [
      "La receta base es: Crispy Frizzled Artichokes recipes \n",
      "\n",
      "La receta 1 recomendada es: Frothy Indian Coffee \n",
      "\n",
      "La receta 1 recomendada es: Pão De Queijo (Brazilian Cheese Bread) \n",
      "\n",
      "La receta 1 recomendada es: Chocolate Milk from Scratch Recipe \n",
      "\n",
      "La receta 1 recomendada es: Seven-Yolk Pasta Dough \n",
      "\n",
      "La receta 1 recomendada es: Mixed Berry Ricotta Fool \n",
      "\n"
     ]
    },
    {
     "data": {
      "text/plain": [
       "{'Recetas': <StringArray>\n",
       " [                  'Frothy Indian Coffee',\n",
       "  'Pão De Queijo (Brazilian Cheese Bread)',\n",
       "      'Chocolate Milk from Scratch Recipe',\n",
       "                  'Seven-Yolk Pasta Dough',\n",
       "                'Mixed Berry Ricotta Fool']\n",
       " Length: 5, dtype: string,\n",
       " 'Index': [3, 6, 8, 9, 10]}"
      ]
     },
     "execution_count": 11,
     "metadata": {},
     "output_type": "execute_result"
    }
   ],
   "source": [
    "def give_recommendations2(index, print_recommendation=False):\n",
    "    index_recomm = cos_sim_data.loc[index].sort_values(ascending=False).index.tolist()[1:6]\n",
    "    recipes_recomm = data_nueva['label'].loc[index_recomm].values\n",
    "    result = {'Recetas': recipes_recomm, 'Index': index_recomm}\n",
    "\n",
    "    if print_recommendation:\n",
    "        print(f'The base recipe is: {data_nueva[\"label\"].loc[index]}\\n')\n",
    "        for k, recipe in enumerate(recipes_recomm, start=1):\n",
    "            print(f'The recommended recipe {k} is: {recipe}\\n')\n",
    "\n",
    "    return result\n",
    "\n",
    "give_recommendations(2,True)"
   ]
  },
  {
   "cell_type": "markdown",
   "id": "fa51c4b2",
   "metadata": {},
   "source": [
    "Ahora usaremos la libreria surprise para poder hacer los modelos deseados. La libreria haca el sistem de recomendacion en base a ratings por lo cual tendremos que agregar nosotros unos ratings base, ya que en el producto final se espera que en la página web los usuarios puedan dar sus ratings a las recetas y de ahí poder hacer recomendaciones entonces por ahora tendremos que crear nosotros unos ratings base.\n",
    "\n",
    "Por lo tanto tenemos que crear por ahora usuarios dummies, que sean como ejemplo de lo que se espera de recolectar de la página web, en este caso siendo un csv con el ID del usuario, de los productos a los que le hace rating y las calificaciones que les da"
   ]
  },
  {
   "cell_type": "markdown",
   "id": "89ec14d6",
   "metadata": {},
   "source": [
    "Creamos el dataframe pensando, por ahora como ejemplo y para que se entienda la receta se dejara con nombre de ejemplo pero la que se usará para el modelo tendra la uri de la comida que funcionaría como su Id, por ejemplo:\n",
    "- http://www.edamam.com/ontologies/edamam.owl#recipe_2e9b699be433fab7da069629e1699455 &#8594; Easy Mango-Blackberry Smoothie Recipe"
   ]
  },
  {
   "cell_type": "code",
   "execution_count": 231,
   "id": "d0ea8c26",
   "metadata": {},
   "outputs": [
    {
     "data": {
      "text/html": [
       "<div>\n",
       "<style scoped>\n",
       "    .dataframe tbody tr th:only-of-type {\n",
       "        vertical-align: middle;\n",
       "    }\n",
       "\n",
       "    .dataframe tbody tr th {\n",
       "        vertical-align: top;\n",
       "    }\n",
       "\n",
       "    .dataframe thead th {\n",
       "        text-align: right;\n",
       "    }\n",
       "</style>\n",
       "<table border=\"1\" class=\"dataframe\">\n",
       "  <thead>\n",
       "    <tr style=\"text-align: right;\">\n",
       "      <th></th>\n",
       "      <th>id</th>\n",
       "      <th>recipes</th>\n",
       "      <th>n_recipes</th>\n",
       "      <th>ratings</th>\n",
       "      <th>n_ratings</th>\n",
       "    </tr>\n",
       "  </thead>\n",
       "  <tbody>\n",
       "    <tr>\n",
       "      <th>0</th>\n",
       "      <td>34</td>\n",
       "      <td>[http://www.edamam.com/ontologies/edamam.owl#r...</td>\n",
       "      <td>1</td>\n",
       "      <td>[5.0]</td>\n",
       "      <td>1</td>\n",
       "    </tr>\n",
       "    <tr>\n",
       "      <th>1</th>\n",
       "      <td>58</td>\n",
       "      <td>[http://www.edamam.com/ontologies/edamam.owl#r...</td>\n",
       "      <td>3</td>\n",
       "      <td>[5.0, 4.0, 5.0]</td>\n",
       "      <td>3</td>\n",
       "    </tr>\n",
       "    <tr>\n",
       "      <th>2</th>\n",
       "      <td>10</td>\n",
       "      <td>[http://www.edamam.com/ontologies/edamam.owl#r...</td>\n",
       "      <td>2</td>\n",
       "      <td>[5.0, 3.0]</td>\n",
       "      <td>2</td>\n",
       "    </tr>\n",
       "  </tbody>\n",
       "</table>\n",
       "</div>"
      ],
      "text/plain": [
       "   id                                            recipes  n_recipes  \\\n",
       "0  34  [http://www.edamam.com/ontologies/edamam.owl#r...          1   \n",
       "1  58  [http://www.edamam.com/ontologies/edamam.owl#r...          3   \n",
       "2  10  [http://www.edamam.com/ontologies/edamam.owl#r...          2   \n",
       "\n",
       "           ratings  n_ratings  \n",
       "0            [5.0]          1  \n",
       "1  [5.0, 4.0, 5.0]          3  \n",
       "2       [5.0, 3.0]          2  "
      ]
     },
     "execution_count": 231,
     "metadata": {},
     "output_type": "execute_result"
    }
   ],
   "source": [
    "# Se crea DataFrame vacío\n",
    "df_usuario = pd.DataFrame(columns=[\"id\", \"recipes\", \"n_recipes\", \"ratings\", \"n_ratings\"])\n",
    "\n",
    "# Se agregan las filas especificadas\n",
    "data = [\n",
    "    {\"id\": 34, \"recipes\": [\"http://www.edamam.com/ontologies/edamam.owl#recipe_2e9b699be433fab7da069629e1699455\"], \"n_recipes\": 1, \"ratings\": [5.0], \"n_ratings\": 1},\n",
    "    {\"id\": 58, \"recipes\": [\"http://www.edamam.com/ontologies/edamam.owl#recipe_067f0b7be628ae847366e4f3e614b319\", \"http://www.edamam.com/ontologies/edamam.owl#recipe_3bc095c814af01cfc5e12aa3c3bad9e6\", \"http://www.edamam.com/ontologies/edamam.owl#recipe_88c93d34a2f0c4a9ebf55c8d7c985458\"], \"n_recipes\": 3, \"ratings\": [5.0, 4.0, 5.0], \"n_ratings\": 3},\n",
    "    {\"id\": 10, \"recipes\": [\"http://www.edamam.com/ontologies/edamam.owl#recipe_ab7b274349df0ce399cd05b5167d7052\", \"http://www.edamam.com/ontologies/edamam.owl#recipe_3d45f44e2e398b038c1113b0fd9a484c\"], \"n_recipes\": 2, \"ratings\": [5.0, 3.0], \"n_ratings\": 2}\n",
    "]\n",
    "\n",
    "df_usuario = pd.DataFrame(data)\n",
    "# Df resultamte\n",
    "df_usuario"
   ]
  },
  {
   "cell_type": "markdown",
   "id": "c41f845d",
   "metadata": {},
   "source": [
    "Hacemos una funcion para que cada fila sea un usuario y su rating para poder usar los datos en surprise"
   ]
  },
  {
   "cell_type": "code",
   "execution_count": 232,
   "id": "d2f08755",
   "metadata": {},
   "outputs": [
    {
     "data": {
      "text/html": [
       "<div>\n",
       "<style scoped>\n",
       "    .dataframe tbody tr th:only-of-type {\n",
       "        vertical-align: middle;\n",
       "    }\n",
       "\n",
       "    .dataframe tbody tr th {\n",
       "        vertical-align: top;\n",
       "    }\n",
       "\n",
       "    .dataframe thead th {\n",
       "        text-align: right;\n",
       "    }\n",
       "</style>\n",
       "<table border=\"1\" class=\"dataframe\">\n",
       "  <thead>\n",
       "    <tr style=\"text-align: right;\">\n",
       "      <th></th>\n",
       "      <th>User</th>\n",
       "      <th>Recipe</th>\n",
       "      <th>Rating</th>\n",
       "    </tr>\n",
       "  </thead>\n",
       "  <tbody>\n",
       "    <tr>\n",
       "      <th>0</th>\n",
       "      <td>0</td>\n",
       "      <td>http://www.edamam.com/ontologies/edamam.owl#re...</td>\n",
       "      <td>5.0</td>\n",
       "    </tr>\n",
       "    <tr>\n",
       "      <th>1</th>\n",
       "      <td>1</td>\n",
       "      <td>http://www.edamam.com/ontologies/edamam.owl#re...</td>\n",
       "      <td>5.0</td>\n",
       "    </tr>\n",
       "    <tr>\n",
       "      <th>2</th>\n",
       "      <td>1</td>\n",
       "      <td>http://www.edamam.com/ontologies/edamam.owl#re...</td>\n",
       "      <td>4.0</td>\n",
       "    </tr>\n",
       "    <tr>\n",
       "      <th>3</th>\n",
       "      <td>1</td>\n",
       "      <td>http://www.edamam.com/ontologies/edamam.owl#re...</td>\n",
       "      <td>5.0</td>\n",
       "    </tr>\n",
       "    <tr>\n",
       "      <th>4</th>\n",
       "      <td>2</td>\n",
       "      <td>http://www.edamam.com/ontologies/edamam.owl#re...</td>\n",
       "      <td>5.0</td>\n",
       "    </tr>\n",
       "    <tr>\n",
       "      <th>5</th>\n",
       "      <td>2</td>\n",
       "      <td>http://www.edamam.com/ontologies/edamam.owl#re...</td>\n",
       "      <td>3.0</td>\n",
       "    </tr>\n",
       "  </tbody>\n",
       "</table>\n",
       "</div>"
      ],
      "text/plain": [
       "  User                                             Recipe  Rating\n",
       "0    0  http://www.edamam.com/ontologies/edamam.owl#re...     5.0\n",
       "1    1  http://www.edamam.com/ontologies/edamam.owl#re...     5.0\n",
       "2    1  http://www.edamam.com/ontologies/edamam.owl#re...     4.0\n",
       "3    1  http://www.edamam.com/ontologies/edamam.owl#re...     5.0\n",
       "4    2  http://www.edamam.com/ontologies/edamam.owl#re...     5.0\n",
       "5    2  http://www.edamam.com/ontologies/edamam.owl#re...     3.0"
      ]
     },
     "execution_count": 232,
     "metadata": {},
     "output_type": "execute_result"
    }
   ],
   "source": [
    "def getRecipeRatings(idx):\n",
    "    user_recipes = [item for item in df_usuario.loc[idx]['recipes']]\n",
    "    user_ratings = [float(rating) for rating in df_usuario.loc[idx]['ratings']]\n",
    "    df = pd.DataFrame(list(zip(user_recipes, user_ratings)), columns=['Recipe', 'Rating'])\n",
    "    df.insert(loc=0, column='User', value=df_usuario.loc[idx].name)  # Use the index as the 'User' value\n",
    "    return df\n",
    "\n",
    "recipe_ratings = pd.DataFrame(columns=['User', 'Recipe', 'Rating'])\n",
    "\n",
    "for idx, row in df_usuario.iterrows():\n",
    "    recipe_ratings = pd.concat([recipe_ratings, getRecipeRatings(idx)], ignore_index=True)\n",
    "recipe_ratings"
   ]
  },
  {
   "cell_type": "markdown",
   "id": "cd3d3f49",
   "metadata": {},
   "source": [
    "#### Usando surprise"
   ]
  },
  {
   "cell_type": "code",
   "execution_count": 233,
   "id": "7b83f981",
   "metadata": {},
   "outputs": [],
   "source": [
    "# Se indican cuales son los valores del rating\n",
    "reader = Reader(rating_scale=(0, 5))\n",
    "\n",
    "# Se indican las columnas del df que usara\n",
    "data_1 = Dataset.load_from_df(recipe_ratings[[\"User\", \"Recipe\", \"Rating\"]], reader)"
   ]
  },
  {
   "cell_type": "markdown",
   "id": "07624cca",
   "metadata": {},
   "source": [
    "Para medir que tan bueno es el modelo usaremos MAE (Mean Absolute Error) y RMSE (Root Mean Squared Error), las cuales se enfocan en medir los errores que cometio el modelo, RMSE se encargará de ver por los errores grandes, por lo que entre más alto sea su valor tendremos errores más grandes"
   ]
  },
  {
   "cell_type": "code",
   "execution_count": 277,
   "id": "a3c0614e",
   "metadata": {
    "scrolled": true
   },
   "outputs": [
    {
     "name": "stdout",
     "output_type": "stream",
     "text": [
      "Evaluating RMSE, MAE of algorithm SVD on 5 split(s).\n",
      "\n",
      "                  Fold 1  Fold 2  Fold 3  Fold 4  Fold 5  Mean    Std     \n",
      "RMSE (testset)    0.7690  0.6000  0.6529  0.7245  1.8290  0.9151  0.4606  \n",
      "MAE (testset)     0.7690  0.6000  0.6529  0.7245  1.8290  0.9151  0.4606  \n",
      "Fit time          0.00    0.00    0.00    0.00    0.00    0.00    0.00    \n",
      "Test time         0.00    0.00    0.00    0.00    0.00    0.00    0.00    \n"
     ]
    },
    {
     "data": {
      "text/plain": [
       "<surprise.prediction_algorithms.matrix_factorization.SVD at 0x226f1a9c1c0>"
      ]
     },
     "execution_count": 277,
     "metadata": {},
     "output_type": "execute_result"
    }
   ],
   "source": [
    "# Se divide nuestros datos en test y train\n",
    "trainset, testset = train_test_split(data_1, test_size=0.2)\n",
    "\n",
    "# Se indica el algoritmo SVD\n",
    "algo = SVD()\n",
    "cross_validate(algo, data_1, measures=['RMSE', 'MAE'], cv=5, verbose=True)\n",
    "# Se entrena el modelo en el conjunto de entrenamiento\n",
    "algo.fit(trainset)"
   ]
  },
  {
   "cell_type": "markdown",
   "id": "3637b207",
   "metadata": {},
   "source": [
    "Guardamos las metricas"
   ]
  },
  {
   "cell_type": "code",
   "execution_count": 278,
   "id": "b995334f",
   "metadata": {},
   "outputs": [
    {
     "name": "stdout",
     "output_type": "stream",
     "text": [
      "Evaluating RMSE, MAE of algorithm SVD on 5 split(s).\n",
      "\n",
      "                  Fold 1  Fold 2  Fold 3  Fold 4  Fold 5  Mean    Std     \n",
      "RMSE (testset)    0.5010  0.6999  1.8109  0.5826  0.6000  0.8389  0.4901  \n",
      "MAE (testset)     0.5000  0.6999  1.8109  0.5826  0.6000  0.8387  0.4903  \n",
      "Fit time          0.00    0.00    0.00    0.00    0.00    0.00    0.00    \n",
      "Test time         0.00    0.00    0.00    0.00    0.00    0.00    0.00    \n"
     ]
    }
   ],
   "source": [
    "cv_results_algo = cross_validate(algo, data_1, measures=['RMSE', 'MAE'], cv=5, verbose=True)\n",
    "mae_algo = cv_results_algo['test_mae'].mean()\n",
    "rmse_algo = cv_results_algo['test_rmse'].mean()"
   ]
  },
  {
   "cell_type": "code",
   "execution_count": 235,
   "id": "eac5ccb4",
   "metadata": {},
   "outputs": [],
   "source": [
    "# Se hacen las predicciones en el conjunto de prueba\n",
    "predictions = algo.test(testset)"
   ]
  },
  {
   "cell_type": "code",
   "execution_count": 245,
   "id": "48b90526",
   "metadata": {},
   "outputs": [
    {
     "name": "stdout",
     "output_type": "stream",
     "text": [
      "RMSE: 0.7689\n"
     ]
    },
    {
     "data": {
      "text/plain": [
       "0.7688787209890355"
      ]
     },
     "execution_count": 245,
     "metadata": {},
     "output_type": "execute_result"
    }
   ],
   "source": [
    "# Se evaluan el rendimiento del modelo\n",
    "accuracy.rmse(predictions)"
   ]
  },
  {
   "cell_type": "markdown",
   "id": "755175ef",
   "metadata": {},
   "source": [
    "Veamos cuales son las 5 recetas que recomendaría en forma de tabla"
   ]
  },
  {
   "cell_type": "code",
   "execution_count": 237,
   "id": "e7a3ac77",
   "metadata": {},
   "outputs": [
    {
     "name": "stdout",
     "output_type": "stream",
     "text": [
      "Receta: Maple Banana Frozen Yogurt (http://www.edamam.com/ontologies/edamam.owl#recipe_067f0b7be628ae847366e4f3e614b319), Calificación estimada: 4.2311212790109645\n",
      "Receta: Boozy Baked French Toast (http://www.edamam.com/ontologies/edamam.owl#recipe_88c93d34a2f0c4a9ebf55c8d7c985458), Calificación estimada: 4.2311212790109645\n"
     ]
    }
   ],
   "source": [
    "# Se ordenan las predicciones por calificación descendente y obtener las 5 mejores\n",
    "top_recetas = sorted(predictions, key=lambda x: x.est, reverse=True)[:5]\n",
    "\n",
    "# Se imprimen las 5 recetas recomendadas\n",
    "for receta in top_recetas:\n",
    "    url_receta = df.loc[df['recipe_uri'] == receta.iid, 'recipe_uri'].values[0]\n",
    "    label_receta = df.loc[df['recipe_uri'] == receta.iid, 'label'].values[0]\n",
    "    print(f\"Receta: {label_receta} ({url_receta}), Calificación estimada: {receta.est}\")"
   ]
  },
  {
   "cell_type": "markdown",
   "id": "47b1c10e",
   "metadata": {},
   "source": [
    "Veamos ahora las recomendaciones en una tabla"
   ]
  },
  {
   "cell_type": "code",
   "execution_count": 242,
   "id": "285c3046",
   "metadata": {},
   "outputs": [
    {
     "data": {
      "text/html": [
       "<div>\n",
       "<style scoped>\n",
       "    .dataframe tbody tr th:only-of-type {\n",
       "        vertical-align: middle;\n",
       "    }\n",
       "\n",
       "    .dataframe tbody tr th {\n",
       "        vertical-align: top;\n",
       "    }\n",
       "\n",
       "    .dataframe thead th {\n",
       "        text-align: right;\n",
       "    }\n",
       "</style>\n",
       "<table border=\"1\" class=\"dataframe\">\n",
       "  <thead>\n",
       "    <tr style=\"text-align: right;\">\n",
       "      <th></th>\n",
       "      <th>recipe_uri</th>\n",
       "      <th>label</th>\n",
       "      <th>dietLabels</th>\n",
       "      <th>healthLabels</th>\n",
       "      <th>mealType</th>\n",
       "      <th>Energy(cal)</th>\n",
       "      <th>Fat(g)</th>\n",
       "      <th>Protein(g)</th>\n",
       "      <th>Carbohydrates(g)</th>\n",
       "      <th>Fiber(g)</th>\n",
       "    </tr>\n",
       "  </thead>\n",
       "  <tbody>\n",
       "    <tr>\n",
       "      <th>1</th>\n",
       "      <td>http://www.edamam.com/ontologies/edamam.owl#re...</td>\n",
       "      <td>Maple Banana Frozen Yogurt</td>\n",
       "      <td>[Balanced, Low-Sodium]</td>\n",
       "      <td>['Vegetarian', 'Pescatarian', 'Mediterranean',...</td>\n",
       "      <td>['lunch/dinner']</td>\n",
       "      <td>494.733346</td>\n",
       "      <td>15.507892</td>\n",
       "      <td>18.264435</td>\n",
       "      <td>74.425804</td>\n",
       "      <td>6.0164</td>\n",
       "    </tr>\n",
       "    <tr>\n",
       "      <th>16</th>\n",
       "      <td>http://www.edamam.com/ontologies/edamam.owl#re...</td>\n",
       "      <td>Boozy Baked French Toast</td>\n",
       "      <td>[Balanced]</td>\n",
       "      <td>['Vegetarian', 'Pescatarian', 'Peanut-Free', '...</td>\n",
       "      <td>['breakfast']</td>\n",
       "      <td>2153.715000</td>\n",
       "      <td>64.857900</td>\n",
       "      <td>84.912000</td>\n",
       "      <td>303.004800</td>\n",
       "      <td>11.0400</td>\n",
       "    </tr>\n",
       "  </tbody>\n",
       "</table>\n",
       "</div>"
      ],
      "text/plain": [
       "                                           recipe_uri  \\\n",
       "1   http://www.edamam.com/ontologies/edamam.owl#re...   \n",
       "16  http://www.edamam.com/ontologies/edamam.owl#re...   \n",
       "\n",
       "                         label              dietLabels  \\\n",
       "1   Maple Banana Frozen Yogurt  [Balanced, Low-Sodium]   \n",
       "16    Boozy Baked French Toast              [Balanced]   \n",
       "\n",
       "                                         healthLabels          mealType  \\\n",
       "1   ['Vegetarian', 'Pescatarian', 'Mediterranean',...  ['lunch/dinner']   \n",
       "16  ['Vegetarian', 'Pescatarian', 'Peanut-Free', '...     ['breakfast']   \n",
       "\n",
       "    Energy(cal)     Fat(g)  Protein(g)  Carbohydrates(g)  Fiber(g)  \n",
       "1    494.733346  15.507892   18.264435         74.425804    6.0164  \n",
       "16  2153.715000  64.857900   84.912000        303.004800   11.0400  "
      ]
     },
     "execution_count": 242,
     "metadata": {},
     "output_type": "execute_result"
    }
   ],
   "source": [
    "# Se crea un DataFrame para almacenar las recomendaciones\n",
    "recomendaciones_df = pd.DataFrame(columns=df.columns)\n",
    "\n",
    "#Se llema el DataFrame con la información de las recetas recomendadas\n",
    "for receta in top_recetas:\n",
    "    uri_receta = receta.iid\n",
    "    info_receta = df[df['recipe_uri'] == uri_receta]\n",
    "    recomendaciones_df = pd.concat([recomendaciones_df, info_receta])\n",
    "\n",
    "# Se imprime la tabla de recomendaciones\n",
    "recomendaciones_df"
   ]
  },
  {
   "cell_type": "markdown",
   "id": "33902736",
   "metadata": {},
   "source": [
    "Ahora vamos a probar hacerlo con un modelo de KNNBasic, el cual se basa en recomendaciones por similitud de usuarios."
   ]
  },
  {
   "cell_type": "code",
   "execution_count": 248,
   "id": "4b3057ee",
   "metadata": {},
   "outputs": [
    {
     "name": "stdout",
     "output_type": "stream",
     "text": [
      "Evaluating RMSE, MAE of algorithm SVD on 5 split(s).\n",
      "\n",
      "                  Fold 1  Fold 2  Fold 3  Fold 4  Fold 5  Mean    Std     \n",
      "RMSE (testset)    0.5026  1.8116  0.7237  0.5738  0.6000  0.8423  0.4899  \n",
      "MAE (testset)     0.5000  1.8116  0.7237  0.5738  0.6000  0.8418  0.4902  \n",
      "Fit time          0.00    0.00    0.00    0.00    0.00    0.00    0.00    \n",
      "Test time         0.00    0.00    0.00    0.00    0.00    0.00    0.00    \n",
      "Computing the msd similarity matrix...\n",
      "Done computing similarity matrix.\n"
     ]
    },
    {
     "data": {
      "text/plain": [
       "<surprise.prediction_algorithms.knns.KNNBasic at 0x226efc1d2e0>"
      ]
     },
     "execution_count": 248,
     "metadata": {},
     "output_type": "execute_result"
    }
   ],
   "source": [
    "knn = KNNBasic()\n",
    "cross_validate(model, data_1, measures=['RMSE', 'MAE'], cv=5, verbose=True)\n",
    "# Se entrena el modelo en el conjunto de entrenamiento\n",
    "knn.fit(trainset)"
   ]
  },
  {
   "cell_type": "code",
   "execution_count": 280,
   "id": "1a0531e2",
   "metadata": {},
   "outputs": [
    {
     "name": "stdout",
     "output_type": "stream",
     "text": [
      "Computing the msd similarity matrix...\n",
      "Done computing similarity matrix.\n",
      "Computing the msd similarity matrix...\n",
      "Done computing similarity matrix.\n",
      "Computing the msd similarity matrix...\n",
      "Done computing similarity matrix.\n",
      "Computing the msd similarity matrix...\n",
      "Done computing similarity matrix.\n",
      "Computing the msd similarity matrix...\n",
      "Done computing similarity matrix.\n",
      "Evaluating RMSE, MAE of algorithm KNNBasic on 5 split(s).\n",
      "\n",
      "                  Fold 1  Fold 2  Fold 3  Fold 4  Fold 5  Mean    Std     \n",
      "RMSE (testset)    0.7500  1.8000  0.6000  0.6000  0.6000  0.8700  0.4686  \n",
      "MAE (testset)     0.7500  1.8000  0.6000  0.6000  0.6000  0.8700  0.4686  \n",
      "Fit time          0.01    0.00    0.00    0.00    0.00    0.00    0.00    \n",
      "Test time         0.00    0.00    0.00    0.00    0.00    0.00    0.00    \n"
     ]
    }
   ],
   "source": [
    "cv_results_knn = cross_validate(knn, data_1, measures=['RMSE', 'MAE'], cv=5, verbose=True)\n",
    "mae_knn = cv_results_knn['test_mae'].mean()\n",
    "rmse_knn = cv_results_knn['test_rmse'].mean()"
   ]
  },
  {
   "cell_type": "code",
   "execution_count": 249,
   "id": "e9cfcc77",
   "metadata": {},
   "outputs": [
    {
     "name": "stdout",
     "output_type": "stream",
     "text": [
      "RMSE: 0.7500\n"
     ]
    },
    {
     "data": {
      "text/plain": [
       "0.75"
      ]
     },
     "execution_count": 249,
     "metadata": {},
     "output_type": "execute_result"
    }
   ],
   "source": [
    "# Se hacen las predicciones en el conjunto de prueba\n",
    "predictions_knn = knn.test(testset)\n",
    "# Se evaluan el rendimiento del modelo\n",
    "accuracy.rmse(predictions_knn)"
   ]
  },
  {
   "cell_type": "code",
   "execution_count": 254,
   "id": "51dbfbd2",
   "metadata": {},
   "outputs": [
    {
     "name": "stdout",
     "output_type": "stream",
     "text": [
      "Receta: Maple Banana Frozen Yogurt (http://www.edamam.com/ontologies/edamam.owl#recipe_067f0b7be628ae847366e4f3e614b319), Calificación estimada: 4.25\n",
      "Receta: Boozy Baked French Toast (http://www.edamam.com/ontologies/edamam.owl#recipe_88c93d34a2f0c4a9ebf55c8d7c985458), Calificación estimada: 4.25\n"
     ]
    }
   ],
   "source": [
    "# Se imprimen las 5 recetas recomendadas con KNN\n",
    "for receta in top_recetas_knn:\n",
    "    url_receta = df.loc[df['recipe_uri'] == receta.iid, 'recipe_uri'].values[0]\n",
    "    label_receta = df.loc[df['recipe_uri'] == receta.iid, 'label'].values[0]\n",
    "    print(f\"Receta: {label_receta} ({url_receta}), Calificación estimada: {receta.est}\")"
   ]
  },
  {
   "cell_type": "markdown",
   "id": "0e1cf9f4",
   "metadata": {},
   "source": [
    "#### Ajuste de parametros usando GridSearchCV\n",
    "\n",
    "Con la libreria podemos ejecutar los algoritmos varias veces para que la libreria nos de los mejores parametros dado las metricas de los errores."
   ]
  },
  {
   "cell_type": "code",
   "execution_count": 257,
   "id": "53a9789a",
   "metadata": {},
   "outputs": [],
   "source": [
    "from surprise.model_selection import GridSearchCV\n",
    "\n",
    "param_grid = {'n_factors': [100,150],\n",
    "              'n_epochs': [20,25,30],\n",
    "              'lr_all':[0.005,0.01,0.1],\n",
    "              'reg_all':[0.02,0.05,0.1]}\n",
    "grid_search = GridSearchCV(SVD, param_grid, measures=['rmse','mae'], cv=3)\n",
    "grid_search.fit(data_1)   "
   ]
  },
  {
   "cell_type": "markdown",
   "id": "3fff9fec",
   "metadata": {},
   "source": [
    "Veamos cuales son los scores para los parametros dados"
   ]
  },
  {
   "cell_type": "code",
   "execution_count": 258,
   "id": "2cf530ca",
   "metadata": {},
   "outputs": [
    {
     "name": "stdout",
     "output_type": "stream",
     "text": [
      "0.8449548598859536\n",
      "0.7583324354262841\n"
     ]
    }
   ],
   "source": [
    "print(grid_search.best_score['rmse'])\n",
    "print(grid_search.best_score['mae'])"
   ]
  },
  {
   "cell_type": "markdown",
   "id": "dfae4cf1",
   "metadata": {},
   "source": [
    "Ahora veamos cuales son los mejores parametros"
   ]
  },
  {
   "cell_type": "code",
   "execution_count": 259,
   "id": "e45c6c09",
   "metadata": {},
   "outputs": [
    {
     "name": "stdout",
     "output_type": "stream",
     "text": [
      "{'n_factors': 100, 'n_epochs': 20, 'lr_all': 0.005, 'reg_all': 0.05}\n"
     ]
    }
   ],
   "source": [
    "print(grid_search.best_params['rmse'])"
   ]
  },
  {
   "cell_type": "markdown",
   "id": "db59b1fa",
   "metadata": {},
   "source": [
    "Ahora podemos usar los parametros dados con los modelos hechos"
   ]
  },
  {
   "cell_type": "code",
   "execution_count": 281,
   "id": "48398461",
   "metadata": {},
   "outputs": [
    {
     "name": "stdout",
     "output_type": "stream",
     "text": [
      "Evaluating RMSE, MAE of algorithm SVD on 5 split(s).\n",
      "\n",
      "                  Fold 1  Fold 2  Fold 3  Fold 4  Fold 5  Mean    Std     \n",
      "RMSE (testset)    0.5008  0.7161  1.8109  0.6000  0.5807  0.8417  0.4895  \n",
      "MAE (testset)     0.5000  0.7161  1.8109  0.6000  0.5807  0.8415  0.4896  \n",
      "Fit time          0.00    0.00    0.00    0.00    0.00    0.00    0.00    \n",
      "Test time         0.00    0.00    0.00    0.00    0.00    0.00    0.00    \n"
     ]
    },
    {
     "data": {
      "text/plain": [
       "{'test_rmse': array([0.50082951, 0.71606983, 1.81092548, 0.6       , 0.58065939]),\n",
       " 'test_mae': array([0.5       , 0.71606983, 1.81092548, 0.6       , 0.58065939]),\n",
       " 'fit_time': (0.003099679946899414, 0.0, 0.0, 0.0, 0.0),\n",
       " 'test_time': (0.0, 0.0, 0.0, 0.0, 0.0)}"
      ]
     },
     "execution_count": 281,
     "metadata": {},
     "output_type": "execute_result"
    }
   ],
   "source": [
    "svd_param = grid_search.best_estimator['rmse']\n",
    "\n",
    "cross_validate(svd, data_1, measures=['RMSE', 'MAE'], cv=5, verbose=True)"
   ]
  },
  {
   "cell_type": "code",
   "execution_count": 282,
   "id": "8ea14d3a",
   "metadata": {},
   "outputs": [
    {
     "name": "stdout",
     "output_type": "stream",
     "text": [
      "Evaluating RMSE, MAE of algorithm SVD on 5 split(s).\n",
      "\n",
      "                  Fold 1  Fold 2  Fold 3  Fold 4  Fold 5  Mean    Std     \n",
      "RMSE (testset)    0.7910  0.6000  1.7946  0.6699  0.5923  0.8895  0.4581  \n",
      "MAE (testset)     0.7873  0.6000  1.7946  0.6699  0.5923  0.8888  0.4582  \n",
      "Fit time          0.00    0.00    0.00    0.00    0.00    0.00    0.00    \n",
      "Test time         0.00    0.00    0.00    0.00    0.00    0.00    0.00    \n"
     ]
    }
   ],
   "source": [
    "cv_results_svd_param = cross_validate(svd_param, data_1, measures=['RMSE', 'MAE'], cv=5, verbose=True)\n",
    "mae_svd_param = cv_results_svd_param['test_mae'].mean()\n",
    "rmse_svd_param = cv_results_svd_param['test_rmse'].mean()"
   ]
  },
  {
   "cell_type": "markdown",
   "id": "cb907e92",
   "metadata": {},
   "source": [
    "Podemos ver que mejoraron muchos los valores del modelo, aunque teniendo en cuenta que el modelo es susceptible a cambios dada la naturalidad del proyecto, donde poco a poco se poblaran las bases de datos y podremos mejorar el modelo,"
   ]
  },
  {
   "cell_type": "markdown",
   "id": "32a0afdf",
   "metadata": {},
   "source": [
    "#### Ahora subamos los modelos como experimentos"
   ]
  },
  {
   "cell_type": "code",
   "execution_count": 270,
   "id": "5f7d8f30",
   "metadata": {},
   "outputs": [
    {
     "data": {
      "text/html": [
       "<pre style=\"white-space:pre;overflow-x:auto;line-height:normal;font-family:Menlo,'DejaVu Sans Mono',consolas,'Courier New',monospace\">Repository initialized!\n",
       "</pre>\n"
      ],
      "text/plain": [
       "Repository initialized!\n"
      ]
     },
     "metadata": {},
     "output_type": "display_data"
    }
   ],
   "source": [
    "import dagshub\n",
    "import mlflow\n",
    "\n",
    "dagshub.init(\"Proyecto-PCD\", \"SergioDuenass\", mlflow=True)"
   ]
  },
  {
   "cell_type": "code",
   "execution_count": 272,
   "id": "020cb0fd",
   "metadata": {},
   "outputs": [
    {
     "name": "stdout",
     "output_type": "stream",
     "text": [
      "1\n"
     ]
    }
   ],
   "source": [
    "experiment_name = \"proyecto_exp\"\n",
    "\n",
    "experiment_id = mlflow.create_experiment(experiment_name)\n",
    "\n",
    "print(experiment_id)"
   ]
  },
  {
   "cell_type": "markdown",
   "id": "60d46ebc",
   "metadata": {},
   "source": [
    "Se sube el primero modelo que uso SVD"
   ]
  },
  {
   "cell_type": "code",
   "execution_count": 279,
   "id": "ea94f281",
   "metadata": {},
   "outputs": [
    {
     "name": "stderr",
     "output_type": "stream",
     "text": [
      "C:\\Users\\andre\\anaconda3\\envs\\proyecto_2\\lib\\site-packages\\_distutils_hack\\__init__.py:33: UserWarning: Setuptools is replacing distutils.\n",
      "  warnings.warn(\"Setuptools is replacing distutils.\")\n"
     ]
    }
   ],
   "source": [
    "with mlflow.start_run(experiment_id=1, run_name=\"SVD\", nested=True) as run:\n",
    "    mlflow.sklearn.log_model(algo, \"SVD\")\n",
    "    mlflow.log_metric(\"MAE\", mae_algo)\n",
    "    mlflow.log_metric(\"RMSE\", rmse_algo)\n",
    "    mlflow.log_param(\"model_type\", \"SVD\")"
   ]
  },
  {
   "cell_type": "markdown",
   "id": "a58bb600",
   "metadata": {},
   "source": [
    "Se sube el segundo modelo que uso KNN"
   ]
  },
  {
   "cell_type": "code",
   "execution_count": 283,
   "id": "b361e800",
   "metadata": {},
   "outputs": [],
   "source": [
    "with mlflow.start_run(experiment_id=1, run_name=\"KNN\", nested=True) as run:\n",
    "    mlflow.sklearn.log_model(knn, \"SVD\")\n",
    "    mlflow.log_metric(\"MAE\", mae_knn)\n",
    "    mlflow.log_metric(\"RMSE\", rmse_knn)\n",
    "    mlflow.log_param(\"model_type\", \"KNN\")"
   ]
  },
  {
   "cell_type": "markdown",
   "id": "6975ed0e",
   "metadata": {},
   "source": [
    "Se sube el primero modelo que uso SVD con parametros"
   ]
  },
  {
   "cell_type": "code",
   "execution_count": 285,
   "id": "0ed00fdd",
   "metadata": {},
   "outputs": [],
   "source": [
    "with mlflow.start_run(experiment_id=1, run_name=\"SVD_Param\", nested=True) as run:\n",
    "    mlflow.sklearn.log_model(svd_param, \"SVD_Param\")\n",
    "    mlflow.log_metric(\"MAE\", mae_svd_param)\n",
    "    mlflow.log_metric(\"RMSE\", rmse_svd_param)\n",
    "    mlflow.log_param(\"model_type\", \"SVD_Param\")"
   ]
  },
  {
   "cell_type": "markdown",
   "id": "be7c529a",
   "metadata": {},
   "source": [
    "Ya con los modelos creados y los experimentos en nuestro Dagshub y Mlflow, podemos avanzar a la siguiente parte para elegir el modelo que usaremos y crear la API en base al modelo que se vaya a elegir."
   ]
  },
  {
   "cell_type": "markdown",
   "id": "c8935e32",
   "metadata": {},
   "source": [
    "### Selección del mejor modelo\n",
    "\n",
    "Seleccionamos el modelo SVD con parametros, ya que por ahora nuestra página y base es content base y en recomendaciones personalizadas para el usuario, en un futuro se esperaría usar KNN, ya que su enfoque en hacía recomendaciones colaborativas."
   ]
  },
  {
   "cell_type": "code",
   "execution_count": null,
   "id": "776897ab",
   "metadata": {},
   "outputs": [],
   "source": []
  },
  {
   "cell_type": "markdown",
   "id": "296b1a30",
   "metadata": {},
   "source": [
    "### Servir el modelo (API) con el mejor desempeño"
   ]
  },
  {
   "cell_type": "code",
   "execution_count": null,
   "id": "256833b2",
   "metadata": {},
   "outputs": [],
   "source": []
  },
  {
   "cell_type": "markdown",
   "id": "821c3043",
   "metadata": {},
   "source": [
    "### Conteneirizar del servicio"
   ]
  },
  {
   "cell_type": "code",
   "execution_count": null,
   "id": "545045aa",
   "metadata": {},
   "outputs": [],
   "source": []
  },
  {
   "cell_type": "markdown",
   "id": "7e8c82a1",
   "metadata": {},
   "source": [
    "### Despliegue del servicio en la nube"
   ]
  },
  {
   "cell_type": "code",
   "execution_count": null,
   "id": "32a28196",
   "metadata": {},
   "outputs": [],
   "source": []
  },
  {
   "cell_type": "markdown",
   "id": "d53b084c",
   "metadata": {},
   "source": [
    "## 7. Conclusiones"
   ]
  },
  {
   "cell_type": "code",
   "execution_count": null,
   "id": "7fe60dbc",
   "metadata": {},
   "outputs": [],
   "source": []
  },
  {
   "cell_type": "markdown",
   "id": "69581c29",
   "metadata": {},
   "source": [
    "## 8. Referencias:\n",
    "\n",
    "GitHub:\n",
    "- https://github.com/discovery-dish/Proyecto-PCD\n",
    "DagsHub:\n",
    "- https://dagshub.com/SergioDuenass/Proyecto-PCD\n",
    "\n",
    "Sitios web:\n",
    "- Recipe Search API – Documentation – Edamam. (s. f.). https://developer.edamam.com/edamam-docs-recipe-api\n",
    "- Postman. (s. f.). https://www.postman.com/equipmentshare/workspace/api-training/documentation/9607425-6a529560-a916-416d-9b7f-913acd07ca44\n",
    "- Hug, N. (2016). Welcome to Surprise’ Documentation! — Surprise 1 documentation. Surprise. https://surprise.readthedocs.io/en/stable/\n",
    "- Hug, N. & Jekyll. (2019). Overview. Surprise. https://surpriselib.com/\n",
    "- Dor. (2022, 8 febrero). Using SciKit-Surprise to create a simple recipe collaborative filtering recommender system. – Data Science Portfolio. https://www.alldatascience.com/recommender-systems/simple-recipe-recommender-system-with-scikit-surprise/"
   ]
  }
 ],
 "metadata": {
  "kernelspec": {
   "display_name": "Python 3 (ipykernel)",
   "language": "python",
   "name": "python3"
  },
  "language_info": {
   "codemirror_mode": {
    "name": "ipython",
    "version": 3
   },
   "file_extension": ".py",
   "mimetype": "text/x-python",
   "name": "python",
   "nbconvert_exporter": "python",
   "pygments_lexer": "ipython3",
   "version": "3.8.18"
  }
 },
 "nbformat": 4,
 "nbformat_minor": 5
}
