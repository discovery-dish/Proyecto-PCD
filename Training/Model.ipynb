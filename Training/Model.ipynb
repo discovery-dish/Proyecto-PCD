{
 "cells": [
  {
   "cell_type": "markdown",
   "id": "5a704574",
   "metadata": {},
   "source": [
    "___\n",
    "\n",
    "# <font color= black> Proyecto en Ciencia de Datos.</font>\n",
    "<img style=\"float: right; margin: 0px 0px 15px 15px;\" src=\"https://i0.wp.com/cimtrajalisco.org/wp-content/uploads/2019/02/Logo_Horizontal-1024x472.jpg?fit=1024%2C472\" width=\"300px\" height=\"100px\" />\n",
    "\n",
    "# <font color= black>Discovery Dish &copy;</font>\n",
    "\n",
    "- <Strong> Sergio Daniel Dueñas Godinez </Strong>\n",
    "- <Strong> Andre Yahir Gonzalez Cuevas </Strong>\n",
    "- <Strong> Manuel Alejandro Murguia Orantes </Strong>\n",
    "\n",
    "___"
   ]
  },
  {
   "cell_type": "markdown",
   "id": "b294821a",
   "metadata": {},
   "source": [
    "### Introducción\n",
    "\n",
    "\n",
    "<p style=\"text-align: justify;\"> Nuestro proyecto final es crear una página web empleando HTML, CSS, JavaScript & Python. En dicha página web habrá una gran variedad de recetas que vayan desde platillos sencillos, ya sea individuales, para citas o familiares; hasta recetas de repostería y coctelería. La página web será alimentada por medio de una API que contenga todas las recetas. La página web será de libre acceso, por lo que toda persona tendrá total libertad de ver las recetas como desee, así como también tendrá un sistema de registro / inicio de sesión que brinde a los usuarios registrados nuevas opciones como puntuar recetas, dejar comentarios en otras recetas y editar sus perfiles. </p> \n",
    "\n",
    "<p style=\"text-align: justify;\"> Para la creación de la página usaremos un modelo de machine learning que haga el funcionamiento de la página web como si fuera una especie de red social. El modelo usará un sistema de recomendaciones que muestre a los usuarios diferentes platillos en base a sus gustos. El modelo se basará en las puntuaciones, búsquedas, e ingredientes más usados por los usuarios, es decir, un modelo content-based. </p>\n",
    "\n",
    "### Antecedentes\n",
    "\n",
    "<p style=\"text-align: justify;\"> Antes de la creación de los sistemas de recomendación, los desarrolladores y sitios web utilizaban enfoques más simples y manuales para proporcionar recomendaciones o sugerencias a los usuarios. Algunos ejemplos de modelos utilizados incluían la promoción de contenido \"Más Popular\", la selección manual de contenido relacionado y la presentación de novedades. Estos métodos, aunque útiles en su momento, tenían limitaciones evidentes. Las recomendaciones basadas en popularidad podrían pasar por alto los gustos individuales, mientras que la selección manual de contenido relacionado requería una inversión considerable de tiempo y recursos, y no siempre garantizaba recomendaciones precisas.\n",
    "    \n",
    "<p style=\"text-align: justify;\"> Con la creación de los sistemas de recomendación, se abrió paso a un mundo con un sin fin de modelos para hacer recomendaciones. A diferencia de los modelos vistos con anterioridad, los sistemas de recomendación se caracterizan por la experiencia y personalización que brindan. Estos sistemas tienen la capacidad de analizar vastas cantidades de datos de usuario, como búsquedas, clics, puntuaciones, comentarios y más. A partir de esta información, los modelos son capaces de generar patrones y tendencias, lo que les permite ofrecer recomendaciones altamente personalizadas basadas en los gustos y preferencias individuales de cada usuario.\n",
    "    \n",
    "<p style=\"text-align: justify;\"> Uno de los elementos más destacados de los sistemas de recomendación es la capacidad de aprendizaje automático. A través de algoritmos avanzados, estos sistemas pueden identificar relaciones complejas entre usuarios y elementos, y predecir qué productos, servicios o contenido podrían interesar a un usuario en función de su historial y comportamiento previo. Esto no solo mejora la satisfacción del usuario al proporcionar contenido relevante, sino que también puede tener un impacto significativo en la retención de usuarios y el aumento de las tasas de conversión.\n",
    "    \n",
    "<p style=\"text-align: justify;\"> La importancia de los sistemas de recomendación en la sociedad actual es innegable. Los encontramos en una amplia gama de aplicaciones, desde el comercio electrónico, donde sugieren productos relacionados y aumentan las ventas, hasta el entretenimiento, donde personalizan la experiencia de transmisión de contenido, y las redes sociales, donde conectan a usuarios con amigos y contenido relevante. Los sistemas de recomendación son una herramienta poderosa para empresas y plataformas que buscan mejorar la satisfacción del cliente, aumentar la participación de los usuarios y fomentar el crecimiento de sus negocios.\n",
    "    \n",
    "<p style=\"text-align: justify;\"> En este contexto, el presente proyecto se centra en la creación y desarrollo de un sistema de recomendación altamente personalizado. Este sistema se basa en algoritmos avanzados y análisis de datos para proporcionar a los usuarios recomendaciones precisas y relevantes, contribuyendo así a una experiencia de usuario más enriquecedora y a la consecución de objetivos específicos en el ámbito de aplicación.\n",
    "    \n",
    "### Objetivos\n",
    "\n",
    "#### Generales\n",
    "\n",
    "- Mejorar la experiencia del usuario haciendo que su visita sea más personalizada y agradable al proporcionar recomendaciones relevantes y útiles.\n",
    "\n",
    "- Maximizar la eficiencia en la presentación de contenido al evitar mostrar elementos que no son relevantes para el usuario.\n",
    "    \n",
    "\n",
    "\n",
    "#### Específicos\n",
    "\n",
    "- Recopilar y analizar datos sobre las preferencias de los usuarios a través de la interacción con el sistema.\n",
    "\n",
    "- Generar un modelo capaz de generar recomendaciones precisas y relevantes para los usuarios\n",
    "\n",
    "- Adaptar las recomendaciones a las preferencias y el comportamiento de cada usuario de manera individual.\n",
    "\n",
    "- Asegurarse de que las recomendaciones incluyan una variedad de contenido para evitar la repetición y presentar opciones nuevas y diversas.\n",
    "\n",
    "- Establecer métricas de rendimiento y realizar evaluaciones periódicas para medir la efectividad del sistema de recomendaciones.\n",
    "\n",
    "- Permitir a los usuarios proporcionar retroalimentación sobre las recomendaciones para mejorar continuamente el sistema.\n",
    "\n",
    "- Proteger la privacidad de los usuarios y garantizar que los datos se almacenan y manejan de manera segura.\n",
    "    \n",
    "### Planteamiento del Problema\n",
    "\n",
    "<p style=\"text-align: justify;\"> En el contexto de una nuestra página web de recetas, el problema identificado radica en la falta de recomendaciones de recetas altamente personalizadas y relevantes para los usuarios. A pesar de la abundancia de contenido de recetas disponibles en internet, los usuarios a menudo se sienten abrumados por la cantidad de opciones y encuentran dificultades para descubrir recetas que se ajusten a sus preferencias individuales. Este problema plantea desafíos significativos, ya que la satisfacción del usuario, la retención y la participación son cruciales para el éxito de la plataforma. Además, existe un potencial sin explotar para optimizar la experiencia del usuario y aumentar la interacción en la plataforma a través de recomendaciones de recetas precisas y personalizadas."
   ]
  },
  {
   "cell_type": "markdown",
   "id": "cda58bb0",
   "metadata": {},
   "source": [
    "## Modelo\n",
    "\n",
    "En esta punto empezamos a trabajar con el modelo y lo que tenemos pensado hacer, aquí haremos pruebas iniciales para poder plazmar nuestras ideas en codigo para finalmente hacer experimentos con nuestros datos y subirlos a Mlflow donde podamos comparar todos los modelos hechos e incluso sus versiones."
   ]
  },
  {
   "cell_type": "code",
   "execution_count": 2,
   "id": "cd9e61a9",
   "metadata": {
    "ExecuteTime": {
     "end_time": "2023-11-27T23:18:21.762208600Z",
     "start_time": "2023-11-27T23:18:12.674546700Z"
    }
   },
   "outputs": [],
   "source": [
    "#Librerias que usaremos\n",
    "import pandas as pd\n",
    "import numpy as np\n",
    "import ast\n",
    "import csv\n",
    "import seaborn as sns\n",
    "\n",
    "from sklearn.metrics.pairwise import cosine_similarity\n",
    "from sentence_transformers import SentenceTransformer\n",
    "\n",
    "from surprise import accuracy, Dataset, NormalPredictor, Reader\n",
    "from surprise import SVD, SVDpp, KNNBasic\n",
    "from surprise.model_selection import cross_validate, train_test_split"
   ]
  },
  {
   "cell_type": "code",
   "execution_count": 3,
   "id": "26bbe6e6",
   "metadata": {
    "scrolled": false,
    "ExecuteTime": {
     "end_time": "2023-11-27T23:18:21.846531700Z",
     "start_time": "2023-11-27T23:18:21.771368100Z"
    }
   },
   "outputs": [
    {
     "data": {
      "text/plain": "                                          recipe_uri  \\\n0  http://www.edamam.com/ontologies/edamam.owl#re...   \n1  http://www.edamam.com/ontologies/edamam.owl#re...   \n2  http://www.edamam.com/ontologies/edamam.owl#re...   \n3  http://www.edamam.com/ontologies/edamam.owl#re...   \n4  http://www.edamam.com/ontologies/edamam.owl#re...   \n\n                                   label                          dietLabels  \\\n0  Easy Mango-Blackberry Smoothie Recipe  [Balanced, High-Fiber, Low-Sodium]   \n1             Maple Banana Frozen Yogurt              [Balanced, Low-Sodium]   \n2     Crispy Frizzled Artichokes recipes              [Balanced, Low-Sodium]   \n3                   Frothy Indian Coffee              [Balanced, Low-Sodium]   \n4  Ultimate Chickpea Noodle Soup recipes              [Balanced, High-Fiber]   \n\n                                        healthLabels          mealType  \\\n0  ['Vegetarian', 'Pescatarian', 'Mediterranean',...     ['breakfast']   \n1  ['Vegetarian', 'Pescatarian', 'Mediterranean',...  ['lunch/dinner']   \n2  ['Sugar-Conscious', 'Low Potassium', 'Kidney-F...  ['lunch/dinner']   \n3  ['Kidney-Friendly', 'Vegetarian', 'Pescatarian...       ['teatime']   \n4  ['Vegan', 'Vegetarian', 'Pescatarian', 'Medite...  ['lunch/dinner']   \n\n   Energy(cal)     Fat(g)  Protein(g)  Carbohydrates(g)   Fiber(g)  \n0   274.596327   9.032777   11.235393         41.249251   8.635761  \n1   494.733346  15.507892   18.264435         74.425804   6.016400  \n2    51.880314   2.100200    1.397880         11.768520   3.541200  \n3   187.236000   5.962500    6.130500         27.846000   0.000000  \n4  2788.287342  99.070496  104.456175        380.376323  54.626713  ",
      "text/html": "<div>\n<style scoped>\n    .dataframe tbody tr th:only-of-type {\n        vertical-align: middle;\n    }\n\n    .dataframe tbody tr th {\n        vertical-align: top;\n    }\n\n    .dataframe thead th {\n        text-align: right;\n    }\n</style>\n<table border=\"1\" class=\"dataframe\">\n  <thead>\n    <tr style=\"text-align: right;\">\n      <th></th>\n      <th>recipe_uri</th>\n      <th>label</th>\n      <th>dietLabels</th>\n      <th>healthLabels</th>\n      <th>mealType</th>\n      <th>Energy(cal)</th>\n      <th>Fat(g)</th>\n      <th>Protein(g)</th>\n      <th>Carbohydrates(g)</th>\n      <th>Fiber(g)</th>\n    </tr>\n  </thead>\n  <tbody>\n    <tr>\n      <th>0</th>\n      <td>http://www.edamam.com/ontologies/edamam.owl#re...</td>\n      <td>Easy Mango-Blackberry Smoothie Recipe</td>\n      <td>[Balanced, High-Fiber, Low-Sodium]</td>\n      <td>['Vegetarian', 'Pescatarian', 'Mediterranean',...</td>\n      <td>['breakfast']</td>\n      <td>274.596327</td>\n      <td>9.032777</td>\n      <td>11.235393</td>\n      <td>41.249251</td>\n      <td>8.635761</td>\n    </tr>\n    <tr>\n      <th>1</th>\n      <td>http://www.edamam.com/ontologies/edamam.owl#re...</td>\n      <td>Maple Banana Frozen Yogurt</td>\n      <td>[Balanced, Low-Sodium]</td>\n      <td>['Vegetarian', 'Pescatarian', 'Mediterranean',...</td>\n      <td>['lunch/dinner']</td>\n      <td>494.733346</td>\n      <td>15.507892</td>\n      <td>18.264435</td>\n      <td>74.425804</td>\n      <td>6.016400</td>\n    </tr>\n    <tr>\n      <th>2</th>\n      <td>http://www.edamam.com/ontologies/edamam.owl#re...</td>\n      <td>Crispy Frizzled Artichokes recipes</td>\n      <td>[Balanced, Low-Sodium]</td>\n      <td>['Sugar-Conscious', 'Low Potassium', 'Kidney-F...</td>\n      <td>['lunch/dinner']</td>\n      <td>51.880314</td>\n      <td>2.100200</td>\n      <td>1.397880</td>\n      <td>11.768520</td>\n      <td>3.541200</td>\n    </tr>\n    <tr>\n      <th>3</th>\n      <td>http://www.edamam.com/ontologies/edamam.owl#re...</td>\n      <td>Frothy Indian Coffee</td>\n      <td>[Balanced, Low-Sodium]</td>\n      <td>['Kidney-Friendly', 'Vegetarian', 'Pescatarian...</td>\n      <td>['teatime']</td>\n      <td>187.236000</td>\n      <td>5.962500</td>\n      <td>6.130500</td>\n      <td>27.846000</td>\n      <td>0.000000</td>\n    </tr>\n    <tr>\n      <th>4</th>\n      <td>http://www.edamam.com/ontologies/edamam.owl#re...</td>\n      <td>Ultimate Chickpea Noodle Soup recipes</td>\n      <td>[Balanced, High-Fiber]</td>\n      <td>['Vegan', 'Vegetarian', 'Pescatarian', 'Medite...</td>\n      <td>['lunch/dinner']</td>\n      <td>2788.287342</td>\n      <td>99.070496</td>\n      <td>104.456175</td>\n      <td>380.376323</td>\n      <td>54.626713</td>\n    </tr>\n  </tbody>\n</table>\n</div>"
     },
     "execution_count": 3,
     "metadata": {},
     "output_type": "execute_result"
    }
   ],
   "source": [
    "# Lo primero que hacemos el leer el csv que se creo en el documento EDA.ipynb\n",
    "df = pd.read_csv('data.csv', converters={'dietLabels': ast.literal_eval})\n",
    "df.head()"
   ]
  },
  {
   "cell_type": "markdown",
   "id": "40f4abbd",
   "metadata": {},
   "source": [
    "Ahora indicamos cuales son las variables a usar en el modelo"
   ]
  },
  {
   "cell_type": "code",
   "execution_count": 4,
   "id": "ff974284",
   "metadata": {
    "ExecuteTime": {
     "end_time": "2023-11-27T23:18:24.948773500Z",
     "start_time": "2023-11-27T23:18:24.917666900Z"
    }
   },
   "outputs": [
    {
     "data": {
      "text/plain": "                                   label                          dietLabels  \\\n0  Easy Mango-Blackberry Smoothie Recipe  [Balanced, High-Fiber, Low-Sodium]   \n1             Maple Banana Frozen Yogurt              [Balanced, Low-Sodium]   \n2     Crispy Frizzled Artichokes recipes              [Balanced, Low-Sodium]   \n3                   Frothy Indian Coffee              [Balanced, Low-Sodium]   \n4  Ultimate Chickpea Noodle Soup recipes              [Balanced, High-Fiber]   \n\n                                        healthLabels          mealType  \n0  ['Vegetarian', 'Pescatarian', 'Mediterranean',...     ['breakfast']  \n1  ['Vegetarian', 'Pescatarian', 'Mediterranean',...  ['lunch/dinner']  \n2  ['Sugar-Conscious', 'Low Potassium', 'Kidney-F...  ['lunch/dinner']  \n3  ['Kidney-Friendly', 'Vegetarian', 'Pescatarian...       ['teatime']  \n4  ['Vegan', 'Vegetarian', 'Pescatarian', 'Medite...  ['lunch/dinner']  ",
      "text/html": "<div>\n<style scoped>\n    .dataframe tbody tr th:only-of-type {\n        vertical-align: middle;\n    }\n\n    .dataframe tbody tr th {\n        vertical-align: top;\n    }\n\n    .dataframe thead th {\n        text-align: right;\n    }\n</style>\n<table border=\"1\" class=\"dataframe\">\n  <thead>\n    <tr style=\"text-align: right;\">\n      <th></th>\n      <th>label</th>\n      <th>dietLabels</th>\n      <th>healthLabels</th>\n      <th>mealType</th>\n    </tr>\n  </thead>\n  <tbody>\n    <tr>\n      <th>0</th>\n      <td>Easy Mango-Blackberry Smoothie Recipe</td>\n      <td>[Balanced, High-Fiber, Low-Sodium]</td>\n      <td>['Vegetarian', 'Pescatarian', 'Mediterranean',...</td>\n      <td>['breakfast']</td>\n    </tr>\n    <tr>\n      <th>1</th>\n      <td>Maple Banana Frozen Yogurt</td>\n      <td>[Balanced, Low-Sodium]</td>\n      <td>['Vegetarian', 'Pescatarian', 'Mediterranean',...</td>\n      <td>['lunch/dinner']</td>\n    </tr>\n    <tr>\n      <th>2</th>\n      <td>Crispy Frizzled Artichokes recipes</td>\n      <td>[Balanced, Low-Sodium]</td>\n      <td>['Sugar-Conscious', 'Low Potassium', 'Kidney-F...</td>\n      <td>['lunch/dinner']</td>\n    </tr>\n    <tr>\n      <th>3</th>\n      <td>Frothy Indian Coffee</td>\n      <td>[Balanced, Low-Sodium]</td>\n      <td>['Kidney-Friendly', 'Vegetarian', 'Pescatarian...</td>\n      <td>['teatime']</td>\n    </tr>\n    <tr>\n      <th>4</th>\n      <td>Ultimate Chickpea Noodle Soup recipes</td>\n      <td>[Balanced, High-Fiber]</td>\n      <td>['Vegan', 'Vegetarian', 'Pescatarian', 'Medite...</td>\n      <td>['lunch/dinner']</td>\n    </tr>\n  </tbody>\n</table>\n</div>"
     },
     "execution_count": 4,
     "metadata": {},
     "output_type": "execute_result"
    }
   ],
   "source": [
    "data_nueva = df[['label', 'dietLabels', 'healthLabels', 'mealType']].copy()\n",
    "data_nueva.head()"
   ]
  },
  {
   "cell_type": "markdown",
   "id": "79ff840b",
   "metadata": {},
   "source": [
    "Para tener una idea de lo que queremos hacer, primero haremos un sistema de recomendacion en base a las recetas"
   ]
  },
  {
   "cell_type": "code",
   "execution_count": 4,
   "id": "86cfda04",
   "metadata": {},
   "outputs": [],
   "source": [
    "data_nueva = df.astype({'label':'string', 'dietLabels':'string', 'healthLabels':'string', 'mealType':'string'})"
   ]
  },
  {
   "cell_type": "code",
   "execution_count": 5,
   "id": "3b43a8cb",
   "metadata": {},
   "outputs": [],
   "source": [
    "data_nueva['dietLabels'] = data_nueva['dietLabels'].apply(ast.literal_eval)\n",
    "\n",
    "# Se hacen cambios para poder hacer la recomendacion\n",
    "max_labels = 10\n",
    "data_nueva['dietLabels'] = data_nueva['dietLabels'].apply(lambda x: x[:max_labels] + [''] * (max_labels - len(x)))\n",
    "data_nueva['dietLabels'] = data_nueva['dietLabels'].apply(str)\n",
    "\n",
    "X = np.array(data_nueva['dietLabels'])"
   ]
  },
  {
   "cell_type": "markdown",
   "id": "6a252c71",
   "metadata": {},
   "source": [
    "Usaremos SentenceTransformer para hacer la recomendacion, ya que dicha libreria representa las oraciones y textos como vectores númericos."
   ]
  },
  {
   "cell_type": "code",
   "execution_count": 6,
   "id": "7a6ab3e9",
   "metadata": {},
   "outputs": [],
   "source": [
    "model = SentenceTransformer('distilbert-base-nli-mean-tokens')"
   ]
  },
  {
   "cell_type": "code",
   "execution_count": 7,
   "id": "416c51e9",
   "metadata": {},
   "outputs": [],
   "source": [
    "embeddings = model.encode(X)\n",
    "embed_data = embeddings\n",
    "X = np.array(embed_data)"
   ]
  },
  {
   "cell_type": "code",
   "execution_count": 8,
   "id": "ec596bd1",
   "metadata": {},
   "outputs": [],
   "source": [
    "cos_sim_data = pd.DataFrame(cosine_similarity(X))"
   ]
  },
  {
   "cell_type": "markdown",
   "id": "dcb3c27a",
   "metadata": {},
   "source": [
    "Creamos la funcion de recomendacion en base a las recetas"
   ]
  },
  {
   "cell_type": "code",
   "execution_count": 9,
   "id": "79c9288b",
   "metadata": {},
   "outputs": [],
   "source": [
    "def give_recommendations(index,print_recommendation = False,print_recommendation_plots= False,print_genres =False):\n",
    "  index_recomm =cos_sim_data.loc[index].sort_values(ascending=False).index.tolist()[1:6]\n",
    "  recepies_recomm =  data_nueva['label'].loc[index_recomm].values\n",
    "  result = {'Recetas':recepies_recomm,'Index':index_recomm}\n",
    "  if print_recommendation==True:\n",
    "    print('La receta base es: %s \\n'%(data_nueva['label'].loc[index]))\n",
    "    k=1\n",
    "    for recepie in recepies_recomm:\n",
    "      print('La receta %i recomendada es: %s \\n'%(k,recepie))\n",
    "  if print_recommendation_plots==True:\n",
    "    print('La visualizacion de la recomendacion es:\\n %s \\n'%(data['dietLabels'].loc[index])) # Uso de imagen con API (en la pagina web)\n",
    "    k=1\n",
    "    for q in range(len(recepies_recomm)):\n",
    "      plot_q = data_nueva['dietLabels'].loc[index_recomm[q]]\n",
    "      print('La visualizacion de la receta %i recomendada es:\\n %s \\n'%(k,plot_q)) # Uso de imagen con API (en la pagina web)\n",
    "      k=k+1\n",
    "  if print_genres==True:\n",
    "    print('Las categorias nutricionales de la receta son:\\n %s \\n'%(data['healthLabels'].loc[index]))\n",
    "    k=1\n",
    "    for q in range(len(recepies_recomm)):\n",
    "      plot_q = data['healthLabels'].loc[index_recomm[q]]\n",
    "      print('La visualizacion de la receta %i recomendada es:\\n %s \\n'%(k,plot_q))\n",
    "      k=k+1\n",
    "  return result"
   ]
  },
  {
   "cell_type": "code",
   "execution_count": 10,
   "id": "1dfd9491",
   "metadata": {},
   "outputs": [
    {
     "name": "stdout",
     "output_type": "stream",
     "text": [
      "La receta base es: Crispy Frizzled Artichokes recipes \n",
      "\n",
      "La receta 1 recomendada es: Frothy Indian Coffee \n",
      "\n",
      "La receta 1 recomendada es: Pão De Queijo (Brazilian Cheese Bread) \n",
      "\n",
      "La receta 1 recomendada es: Chocolate Milk from Scratch Recipe \n",
      "\n",
      "La receta 1 recomendada es: Seven-Yolk Pasta Dough \n",
      "\n",
      "La receta 1 recomendada es: Mixed Berry Ricotta Fool \n"
     ]
    },
    {
     "data": {
      "text/plain": [
       "{'Recetas': <StringArray>\n",
       " [                  'Frothy Indian Coffee',\n",
       "  'Pão De Queijo (Brazilian Cheese Bread)',\n",
       "      'Chocolate Milk from Scratch Recipe',\n",
       "                  'Seven-Yolk Pasta Dough',\n",
       "                'Mixed Berry Ricotta Fool']\n",
       " Length: 5, dtype: string,\n",
       " 'Index': [3, 6, 8, 9, 10]}"
      ]
     },
     "execution_count": 10,
     "metadata": {},
     "output_type": "execute_result"
    }
   ],
   "source": [
    "give_recommendations(2,True)"
   ]
  },
  {
   "cell_type": "markdown",
   "id": "3c98bbd2",
   "metadata": {},
   "source": [
    "Veamos como son las recomendacion qu podemos hacer en base a la receta"
   ]
  },
  {
   "cell_type": "code",
   "execution_count": 11,
   "id": "17f933ee",
   "metadata": {},
   "outputs": [
    {
     "name": "stdout",
     "output_type": "stream",
     "text": [
      "La receta base es: Crispy Frizzled Artichokes recipes \n",
      "\n",
      "La receta 1 recomendada es: Frothy Indian Coffee \n",
      "\n",
      "La receta 1 recomendada es: Pão De Queijo (Brazilian Cheese Bread) \n",
      "\n",
      "La receta 1 recomendada es: Chocolate Milk from Scratch Recipe \n",
      "\n",
      "La receta 1 recomendada es: Seven-Yolk Pasta Dough \n",
      "\n",
      "La receta 1 recomendada es: Mixed Berry Ricotta Fool \n"
     ]
    },
    {
     "data": {
      "text/plain": [
       "{'Recetas': <StringArray>\n",
       " [                  'Frothy Indian Coffee',\n",
       "  'Pão De Queijo (Brazilian Cheese Bread)',\n",
       "      'Chocolate Milk from Scratch Recipe',\n",
       "                  'Seven-Yolk Pasta Dough',\n",
       "                'Mixed Berry Ricotta Fool']\n",
       " Length: 5, dtype: string,\n",
       " 'Index': [3, 6, 8, 9, 10]}"
      ]
     },
     "execution_count": 11,
     "metadata": {},
     "output_type": "execute_result"
    }
   ],
   "source": [
    "def give_recommendations2(index, print_recommendation=False):\n",
    "    index_recomm = cos_sim_data.loc[index].sort_values(ascending=False).index.tolist()[1:6]\n",
    "    recipes_recomm = data_nueva['label'].loc[index_recomm].values\n",
    "    result = {'Recetas': recipes_recomm, 'Index': index_recomm}\n",
    "\n",
    "    if print_recommendation:\n",
    "        print(f'The base recipe is: {data_nueva[\"label\"].loc[index]}\\n')\n",
    "        for k, recipe in enumerate(recipes_recomm, start=1):\n",
    "            print(f'The recommended recipe {k} is: {recipe}\\n')\n",
    "\n",
    "    return result\n",
    "\n",
    "give_recommendations(2,True)"
   ]
  },
  {
   "cell_type": "markdown",
   "id": "fa51c4b2",
   "metadata": {},
   "source": [
    "Ahora usaremos la libreria surprise para poder hacer los modelos deseados. La libreria haca el sistem de recomendacion en base a ratings por lo cual tendremos que agregar nosotros unos ratings base, ya que en el producto final se espera que en la página web los usuarios puedan dar sus ratings a las recetas y de ahí poder hacer recomendaciones entonces por ahora tendremos que crear nosotros unos ratings base.\n",
    "\n",
    "Por lo tanto tenemos que crear por ahora usuarios dummies, que sean como ejemplo de lo que se espera de recolectar de la página web, en este caso siendo un csv con el ID del usuario, de los productos a los que le hace rating y las calificaciones que les da"
   ]
  },
  {
   "cell_type": "markdown",
   "id": "89ec14d6",
   "metadata": {},
   "source": [
    "Creamos el dataframe pensando, por ahora como ejemplo y para que se entienda la receta se dejara con nombre de ejemplo pero la que se usará para el modelo tendra la uri de la comida que funcionaría como su Id, por ejemplo:\n",
    "- http://www.edamam.com/ontologies/edamam.owl#recipe_2e9b699be433fab7da069629e1699455 &#8594; Easy Mango-Blackberry Smoothie Recipe"
   ]
  },
  {
   "cell_type": "code",
   "execution_count": 18,
   "id": "d0ea8c26",
   "metadata": {
    "ExecuteTime": {
     "end_time": "2023-11-27T23:29:01.630074600Z",
     "start_time": "2023-11-27T23:29:01.555806400Z"
    }
   },
   "outputs": [
    {
     "data": {
      "text/plain": "   id                                            recipes  n_recipes  \\\n0  34  [http://www.edamam.com/ontologies/edamam.owl#r...          1   \n1  58  [http://www.edamam.com/ontologies/edamam.owl#r...          3   \n2  10  [http://www.edamam.com/ontologies/edamam.owl#r...          2   \n\n           ratings  n_ratings  \n0            [5.0]          1  \n1  [5.0, 4.0, 5.0]          3  \n2       [5.0, 3.0]          2  ",
      "text/html": "<div>\n<style scoped>\n    .dataframe tbody tr th:only-of-type {\n        vertical-align: middle;\n    }\n\n    .dataframe tbody tr th {\n        vertical-align: top;\n    }\n\n    .dataframe thead th {\n        text-align: right;\n    }\n</style>\n<table border=\"1\" class=\"dataframe\">\n  <thead>\n    <tr style=\"text-align: right;\">\n      <th></th>\n      <th>id</th>\n      <th>recipes</th>\n      <th>n_recipes</th>\n      <th>ratings</th>\n      <th>n_ratings</th>\n    </tr>\n  </thead>\n  <tbody>\n    <tr>\n      <th>0</th>\n      <td>34</td>\n      <td>[http://www.edamam.com/ontologies/edamam.owl#r...</td>\n      <td>1</td>\n      <td>[5.0]</td>\n      <td>1</td>\n    </tr>\n    <tr>\n      <th>1</th>\n      <td>58</td>\n      <td>[http://www.edamam.com/ontologies/edamam.owl#r...</td>\n      <td>3</td>\n      <td>[5.0, 4.0, 5.0]</td>\n      <td>3</td>\n    </tr>\n    <tr>\n      <th>2</th>\n      <td>10</td>\n      <td>[http://www.edamam.com/ontologies/edamam.owl#r...</td>\n      <td>2</td>\n      <td>[5.0, 3.0]</td>\n      <td>2</td>\n    </tr>\n  </tbody>\n</table>\n</div>"
     },
     "execution_count": 18,
     "metadata": {},
     "output_type": "execute_result"
    }
   ],
   "source": [
    "# Se crea DataFrame vacío\n",
    "df_usuario = pd.DataFrame(columns=[\"id\", \"recipes\", \"n_recipes\", \"ratings\", \"n_ratings\"])\n",
    "\n",
    "# Se agregan las filas especificadas\n",
    "data = [\n",
    "    {\"id\": 34, \"recipes\": [\"http://www.edamam.com/ontologies/edamam.owl#recipe_2e9b699be433fab7da069629e1699455\"], \"n_recipes\": 1, \"ratings\": [5.0], \"n_ratings\": 1},\n",
    "    {\"id\": 58, \"recipes\": [\"http://www.edamam.com/ontologies/edamam.owl#recipe_067f0b7be628ae847366e4f3e614b319\", \"http://www.edamam.com/ontologies/edamam.owl#recipe_3bc095c814af01cfc5e12aa3c3bad9e6\", \"http://www.edamam.com/ontologies/edamam.owl#recipe_88c93d34a2f0c4a9ebf55c8d7c985458\"], \"n_recipes\": 3, \"ratings\": [5.0, 4.0, 5.0], \"n_ratings\": 3},\n",
    "    {\"id\": 10, \"recipes\": [\"http://www.edamam.com/ontologies/edamam.owl#recipe_ab7b274349df0ce399cd05b5167d7052\", \"http://www.edamam.com/ontologies/edamam.owl#recipe_3d45f44e2e398b038c1113b0fd9a484c\"], \"n_recipes\": 2, \"ratings\": [5.0, 3.0], \"n_ratings\": 2}\n",
    "]\n",
    "\n",
    "df_usuario = pd.DataFrame(data)\n",
    "# Df resultamte\n",
    "df_usuario"
   ]
  },
  {
   "cell_type": "markdown",
   "id": "c41f845d",
   "metadata": {},
   "source": [
    "Hacemos una funcion para que cada fila sea un usuario y su rating para poder usar los datos en surprise"
   ]
  },
  {
   "cell_type": "code",
   "execution_count": 19,
   "id": "d2f08755",
   "metadata": {
    "ExecuteTime": {
     "end_time": "2023-11-27T23:29:04.739802Z",
     "start_time": "2023-11-27T23:29:04.708806900Z"
    }
   },
   "outputs": [
    {
     "data": {
      "text/plain": "  User                                             Recipe  Rating\n0    0  http://www.edamam.com/ontologies/edamam.owl#re...     5.0\n1    1  http://www.edamam.com/ontologies/edamam.owl#re...     5.0\n2    1  http://www.edamam.com/ontologies/edamam.owl#re...     4.0\n3    1  http://www.edamam.com/ontologies/edamam.owl#re...     5.0\n4    2  http://www.edamam.com/ontologies/edamam.owl#re...     5.0\n5    2  http://www.edamam.com/ontologies/edamam.owl#re...     3.0",
      "text/html": "<div>\n<style scoped>\n    .dataframe tbody tr th:only-of-type {\n        vertical-align: middle;\n    }\n\n    .dataframe tbody tr th {\n        vertical-align: top;\n    }\n\n    .dataframe thead th {\n        text-align: right;\n    }\n</style>\n<table border=\"1\" class=\"dataframe\">\n  <thead>\n    <tr style=\"text-align: right;\">\n      <th></th>\n      <th>User</th>\n      <th>Recipe</th>\n      <th>Rating</th>\n    </tr>\n  </thead>\n  <tbody>\n    <tr>\n      <th>0</th>\n      <td>0</td>\n      <td>http://www.edamam.com/ontologies/edamam.owl#re...</td>\n      <td>5.0</td>\n    </tr>\n    <tr>\n      <th>1</th>\n      <td>1</td>\n      <td>http://www.edamam.com/ontologies/edamam.owl#re...</td>\n      <td>5.0</td>\n    </tr>\n    <tr>\n      <th>2</th>\n      <td>1</td>\n      <td>http://www.edamam.com/ontologies/edamam.owl#re...</td>\n      <td>4.0</td>\n    </tr>\n    <tr>\n      <th>3</th>\n      <td>1</td>\n      <td>http://www.edamam.com/ontologies/edamam.owl#re...</td>\n      <td>5.0</td>\n    </tr>\n    <tr>\n      <th>4</th>\n      <td>2</td>\n      <td>http://www.edamam.com/ontologies/edamam.owl#re...</td>\n      <td>5.0</td>\n    </tr>\n    <tr>\n      <th>5</th>\n      <td>2</td>\n      <td>http://www.edamam.com/ontologies/edamam.owl#re...</td>\n      <td>3.0</td>\n    </tr>\n  </tbody>\n</table>\n</div>"
     },
     "execution_count": 19,
     "metadata": {},
     "output_type": "execute_result"
    }
   ],
   "source": [
    "def getRecipeRatings(idx):\n",
    "    user_recipes = [item for item in df_usuario.loc[idx]['recipes']]\n",
    "    user_ratings = [float(rating) for rating in df_usuario.loc[idx]['ratings']]\n",
    "    df = pd.DataFrame(list(zip(user_recipes, user_ratings)), columns=['Recipe', 'Rating'])\n",
    "    df.insert(loc=0, column='User', value=df_usuario.loc[idx].name)  # Use the index as the 'User' value\n",
    "    return df\n",
    "\n",
    "recipe_ratings = pd.DataFrame(columns=['User', 'Recipe', 'Rating'])\n",
    "\n",
    "for idx, row in df_usuario.iterrows():\n",
    "    recipe_ratings = pd.concat([recipe_ratings, getRecipeRatings(idx)], ignore_index=True)\n",
    "recipe_ratings"
   ]
  },
  {
   "cell_type": "markdown",
   "id": "cd3d3f49",
   "metadata": {},
   "source": [
    "#### Usando surprise"
   ]
  },
  {
   "cell_type": "code",
   "execution_count": 20,
   "id": "7b83f981",
   "metadata": {
    "ExecuteTime": {
     "end_time": "2023-11-27T23:29:21.438108300Z",
     "start_time": "2023-11-27T23:29:21.401219300Z"
    }
   },
   "outputs": [],
   "source": [
    "# Se indican cuales son los valores del rating\n",
    "reader = Reader(rating_scale=(0, 5))\n",
    "\n",
    "# Se indican las columnas del df que usara\n",
    "data_1 = Dataset.load_from_df(recipe_ratings[[\"User\", \"Recipe\", \"Rating\"]], reader)"
   ]
  },
  {
   "cell_type": "markdown",
   "id": "07624cca",
   "metadata": {},
   "source": [
    "Para medir que tan bueno es el modelo usaremos MAE (Mean Absolute Error) y RMSE (Root Mean Squared Error), las cuales se enfocan en medir los errores que cometio el modelo, RMSE se encargará de ver por los errores grandes, por lo que entre más alto sea su valor tendremos errores más grandes"
   ]
  },
  {
   "cell_type": "code",
   "execution_count": 21,
   "id": "a3c0614e",
   "metadata": {
    "scrolled": true,
    "ExecuteTime": {
     "end_time": "2023-11-27T23:29:24.391832200Z",
     "start_time": "2023-11-27T23:29:24.337371900Z"
    }
   },
   "outputs": [
    {
     "name": "stdout",
     "output_type": "stream",
     "text": [
      "Evaluating RMSE, MAE of algorithm SVD on 5 split(s).\n",
      "\n",
      "                  Fold 1  Fold 2  Fold 3  Fold 4  Fold 5  Mean    Std     \n",
      "RMSE (testset)    0.5021  0.7278  0.5978  1.8090  0.6000  0.8473  0.4861  \n",
      "MAE (testset)     0.5000  0.7278  0.5978  1.8090  0.6000  0.8469  0.4864  \n",
      "Fit time          0.00    0.00    0.00    0.00    0.00    0.00    0.00    \n",
      "Test time         0.00    0.00    0.00    0.00    0.00    0.00    0.00    \n"
     ]
    },
    {
     "data": {
      "text/plain": "<surprise.prediction_algorithms.matrix_factorization.SVD at 0x12f7d700280>"
     },
     "execution_count": 21,
     "metadata": {},
     "output_type": "execute_result"
    }
   ],
   "source": [
    "# Se divide nuestros datos en test y train\n",
    "trainset, testset = train_test_split(data_1, test_size=0.2)\n",
    "\n",
    "# Se indica el algoritmo SVD\n",
    "algo = SVD()\n",
    "cross_validate(algo, data_1, measures=['RMSE', 'MAE'], cv=5, verbose=True)\n",
    "# Se entrena el modelo en el conjunto de entrenamiento\n",
    "algo.fit(trainset)"
   ]
  },
  {
   "cell_type": "markdown",
   "id": "3637b207",
   "metadata": {},
   "source": [
    "Guardamos las metricas"
   ]
  },
  {
   "cell_type": "code",
   "execution_count": 278,
   "id": "b995334f",
   "metadata": {},
   "outputs": [
    {
     "name": "stdout",
     "output_type": "stream",
     "text": [
      "Evaluating RMSE, MAE of algorithm SVD on 5 split(s).\n",
      "\n",
      "                  Fold 1  Fold 2  Fold 3  Fold 4  Fold 5  Mean    Std     \n",
      "RMSE (testset)    0.5010  0.6999  1.8109  0.5826  0.6000  0.8389  0.4901  \n",
      "MAE (testset)     0.5000  0.6999  1.8109  0.5826  0.6000  0.8387  0.4903  \n",
      "Fit time          0.00    0.00    0.00    0.00    0.00    0.00    0.00    \n",
      "Test time         0.00    0.00    0.00    0.00    0.00    0.00    0.00    \n"
     ]
    }
   ],
   "source": [
    "cv_results_algo = cross_validate(algo, data_1, measures=['RMSE', 'MAE'], cv=5, verbose=True)\n",
    "mae_algo = cv_results_algo['test_mae'].mean()\n",
    "rmse_algo = cv_results_algo['test_rmse'].mean()"
   ]
  },
  {
   "cell_type": "code",
   "execution_count": 235,
   "id": "eac5ccb4",
   "metadata": {},
   "outputs": [],
   "source": [
    "# Se hacen las predicciones en el conjunto de prueba\n",
    "predictions = algo.test(testset)"
   ]
  },
  {
   "cell_type": "code",
   "execution_count": 245,
   "id": "48b90526",
   "metadata": {},
   "outputs": [
    {
     "name": "stdout",
     "output_type": "stream",
     "text": [
      "RMSE: 0.7689\n"
     ]
    },
    {
     "data": {
      "text/plain": [
       "0.7688787209890355"
      ]
     },
     "execution_count": 245,
     "metadata": {},
     "output_type": "execute_result"
    }
   ],
   "source": [
    "# Se evaluan el rendimiento del modelo\n",
    "accuracy.rmse(predictions)"
   ]
  },
  {
   "cell_type": "markdown",
   "id": "33902736",
   "metadata": {},
   "source": [
    "Ahora vamos a probar hacerlo con un modelo de KNNBasic, el cual se basa en recomendaciones por similitud de usuarios."
   ]
  },
  {
   "cell_type": "code",
   "execution_count": 248,
   "id": "4b3057ee",
   "metadata": {},
   "outputs": [
    {
     "name": "stdout",
     "output_type": "stream",
     "text": [
      "Evaluating RMSE, MAE of algorithm SVD on 5 split(s).\n",
      "\n",
      "                  Fold 1  Fold 2  Fold 3  Fold 4  Fold 5  Mean    Std     \n",
      "RMSE (testset)    0.5026  1.8116  0.7237  0.5738  0.6000  0.8423  0.4899  \n",
      "MAE (testset)     0.5000  1.8116  0.7237  0.5738  0.6000  0.8418  0.4902  \n",
      "Fit time          0.00    0.00    0.00    0.00    0.00    0.00    0.00    \n",
      "Test time         0.00    0.00    0.00    0.00    0.00    0.00    0.00    \n",
      "Computing the msd similarity matrix...\n",
      "Done computing similarity matrix.\n"
     ]
    },
    {
     "data": {
      "text/plain": [
       "<surprise.prediction_algorithms.knns.KNNBasic at 0x226efc1d2e0>"
      ]
     },
     "execution_count": 248,
     "metadata": {},
     "output_type": "execute_result"
    }
   ],
   "source": [
    "knn = KNNBasic()\n",
    "cross_validate(model, data_1, measures=['RMSE', 'MAE'], cv=5, verbose=True)\n",
    "# Se entrena el modelo en el conjunto de entrenamiento\n",
    "knn.fit(trainset)"
   ]
  },
  {
   "cell_type": "code",
   "execution_count": 280,
   "id": "1a0531e2",
   "metadata": {},
   "outputs": [
    {
     "name": "stdout",
     "output_type": "stream",
     "text": [
      "Computing the msd similarity matrix...\n",
      "Done computing similarity matrix.\n",
      "Computing the msd similarity matrix...\n",
      "Done computing similarity matrix.\n",
      "Computing the msd similarity matrix...\n",
      "Done computing similarity matrix.\n",
      "Computing the msd similarity matrix...\n",
      "Done computing similarity matrix.\n",
      "Computing the msd similarity matrix...\n",
      "Done computing similarity matrix.\n",
      "Evaluating RMSE, MAE of algorithm KNNBasic on 5 split(s).\n",
      "\n",
      "                  Fold 1  Fold 2  Fold 3  Fold 4  Fold 5  Mean    Std     \n",
      "RMSE (testset)    0.7500  1.8000  0.6000  0.6000  0.6000  0.8700  0.4686  \n",
      "MAE (testset)     0.7500  1.8000  0.6000  0.6000  0.6000  0.8700  0.4686  \n",
      "Fit time          0.01    0.00    0.00    0.00    0.00    0.00    0.00    \n",
      "Test time         0.00    0.00    0.00    0.00    0.00    0.00    0.00    \n"
     ]
    }
   ],
   "source": [
    "cv_results_knn = cross_validate(knn, data_1, measures=['RMSE', 'MAE'], cv=5, verbose=True)\n",
    "mae_knn = cv_results_knn['test_mae'].mean()\n",
    "rmse_knn = cv_results_knn['test_rmse'].mean()"
   ]
  },
  {
   "cell_type": "code",
   "execution_count": 249,
   "id": "e9cfcc77",
   "metadata": {},
   "outputs": [
    {
     "name": "stdout",
     "output_type": "stream",
     "text": [
      "RMSE: 0.7500\n"
     ]
    },
    {
     "data": {
      "text/plain": [
       "0.75"
      ]
     },
     "execution_count": 249,
     "metadata": {},
     "output_type": "execute_result"
    }
   ],
   "source": [
    "# Se hacen las predicciones en el conjunto de prueba\n",
    "predictions_knn = knn.test(testset)\n",
    "# Se evaluan el rendimiento del modelo\n",
    "accuracy.rmse(predictions_knn)"
   ]
  },
  {
   "cell_type": "markdown",
   "id": "0e1cf9f4",
   "metadata": {},
   "source": [
    "#### Ajuste de parametros usando GridSearchCV\n",
    "\n",
    "Con la libreria podemos ejecutar los algoritmos varias veces para que la libreria nos de los mejores parametros dado las metricas de los errores."
   ]
  },
  {
   "cell_type": "code",
   "execution_count": 9,
   "id": "53a9789a",
   "metadata": {
    "ExecuteTime": {
     "end_time": "2023-11-27T23:20:49.649689200Z",
     "start_time": "2023-11-27T23:20:49.604624400Z"
    }
   },
   "outputs": [],
   "source": [
    "from surprise.model_selection import GridSearchCV\n",
    "\n",
    "param_grid = {'n_factors': [100,150],\n",
    "              'n_epochs': [20,25,30],\n",
    "              'lr_all':[0.005,0.01,0.1],\n",
    "              'reg_all':[0.02,0.05,0.1]}\n",
    "grid_search = GridSearchCV(SVD, param_grid, measures=['rmse','mae'], cv=3)\n",
    "grid_search.fit(data_1)   "
   ]
  },
  {
   "cell_type": "markdown",
   "id": "3fff9fec",
   "metadata": {},
   "source": [
    "Veamos cuales son los scores para los parametros dados"
   ]
  },
  {
   "cell_type": "code",
   "execution_count": 10,
   "id": "2cf530ca",
   "metadata": {
    "ExecuteTime": {
     "end_time": "2023-11-27T23:20:52.258474400Z",
     "start_time": "2023-11-27T23:20:52.236875600Z"
    }
   },
   "outputs": [
    {
     "name": "stdout",
     "output_type": "stream",
     "text": [
      "0.41935495495291314\n",
      "0.3646574070457529\n"
     ]
    }
   ],
   "source": [
    "print(grid_search.best_score['rmse'])\n",
    "print(grid_search.best_score['mae'])"
   ]
  },
  {
   "cell_type": "markdown",
   "id": "dfae4cf1",
   "metadata": {},
   "source": [
    "Ahora veamos cuales son los mejores parametros"
   ]
  },
  {
   "cell_type": "code",
   "execution_count": 11,
   "id": "e45c6c09",
   "metadata": {
    "ExecuteTime": {
     "end_time": "2023-11-27T23:20:53.469858500Z",
     "start_time": "2023-11-27T23:20:53.425257600Z"
    }
   },
   "outputs": [
    {
     "name": "stdout",
     "output_type": "stream",
     "text": [
      "{'n_factors': 100, 'n_epochs': 20, 'lr_all': 0.01, 'reg_all': 0.02}\n"
     ]
    }
   ],
   "source": [
    "print(grid_search.best_params['rmse'])"
   ]
  },
  {
   "cell_type": "markdown",
   "id": "db59b1fa",
   "metadata": {},
   "source": [
    "Ahora podemos usar los parametros dados con los modelos hechos"
   ]
  },
  {
   "cell_type": "code",
   "execution_count": 13,
   "id": "48398461",
   "metadata": {
    "ExecuteTime": {
     "end_time": "2023-11-27T23:21:52.070416800Z",
     "start_time": "2023-11-27T23:21:51.994461800Z"
    }
   },
   "outputs": [
    {
     "name": "stdout",
     "output_type": "stream",
     "text": [
      "Evaluating RMSE, MAE of algorithm SVD on 5 split(s).\n",
      "\n",
      "                  Fold 1  Fold 2  Fold 3  Fold 4  Fold 5  Mean    Std     \n",
      "RMSE (testset)    0.2799  0.2500  0.3112  0.2792  1.0000  0.4240  0.2886  \n",
      "MAE (testset)     0.2799  0.2500  0.3112  0.2792  1.0000  0.4240  0.2886  \n",
      "Fit time          0.00    0.00    0.00    0.00    0.00    0.00    0.00    \n",
      "Test time         0.00    0.00    0.00    0.00    0.00    0.00    0.00    \n"
     ]
    },
    {
     "data": {
      "text/plain": "{'test_rmse': array([0.27985933, 0.25      , 0.31116397, 0.27915019, 1.        ]),\n 'test_mae': array([0.27985933, 0.25      , 0.31116397, 0.27915019, 1.        ]),\n 'fit_time': (0.0010445117950439453, 0.0, 0.0, 0.0, 0.0),\n 'test_time': (0.0, 0.0, 0.0, 0.0, 0.0)}"
     },
     "execution_count": 13,
     "metadata": {},
     "output_type": "execute_result"
    }
   ],
   "source": [
    "svd_param = grid_search.best_estimator['rmse']\n",
    "svd = SVD()\n",
    "cross_validate(svd, data_1, measures=['RMSE', 'MAE'], cv=5, verbose=True)"
   ]
  },
  {
   "cell_type": "code",
   "execution_count": 14,
   "id": "8ea14d3a",
   "metadata": {
    "ExecuteTime": {
     "end_time": "2023-11-27T23:21:56.137189700Z",
     "start_time": "2023-11-27T23:21:56.120856400Z"
    }
   },
   "outputs": [
    {
     "name": "stdout",
     "output_type": "stream",
     "text": [
      "Evaluating RMSE, MAE of algorithm SVD on 5 split(s).\n",
      "\n",
      "                  Fold 1  Fold 2  Fold 3  Fold 4  Fold 5  Mean    Std     \n",
      "RMSE (testset)    1.0000  0.2500  0.3226  0.3128  0.3856  0.4542  0.2763  \n",
      "MAE (testset)     1.0000  0.2500  0.3226  0.3128  0.3856  0.4542  0.2763  \n",
      "Fit time          0.00    0.00    0.00    0.00    0.00    0.00    0.00    \n",
      "Test time         0.00    0.00    0.00    0.00    0.00    0.00    0.00    \n"
     ]
    }
   ],
   "source": [
    "cv_results_svd_param = cross_validate(svd_param, data_1, measures=['RMSE', 'MAE'], cv=5, verbose=True)\n",
    "mae_svd_param = cv_results_svd_param['test_mae'].mean()\n",
    "rmse_svd_param = cv_results_svd_param['test_rmse'].mean()"
   ]
  },
  {
   "cell_type": "code",
   "execution_count": 36,
   "outputs": [
    {
     "name": "stdout",
     "output_type": "stream",
     "text": [
      "Top 5 Recomendaciones para el Usuario 0:\n",
      "1. Receta: Maple Banana Frozen Yogurt\n",
      "2. Receta: Crispy Frizzled Artichokes recipes\n",
      "3. Receta: Boozy Baked French Toast\n",
      "4. Receta: Panisse Recipe\n",
      "5. Receta: Seven-Yolk Pasta Dough\n"
     ]
    }
   ],
   "source": [
    "user_id = 0  # Reemplaza 0 con el ID del usuario para el cual deseas hacer recomendaciones\n",
    "\n",
    "# Obtener las recetas que el usuario aún no ha calificado\n",
    "unrated_recipes = [recipe for recipe in recipe_ratings['Recipe'].unique() if recipe not in df_usuario.loc[user_id]['recipes']]\n",
    "\n",
    "# Realizar predicciones para las recetas no calificadas\n",
    "predictions = [svd_param.predict(user_id, recipe) for recipe in unrated_recipes]\n",
    "\n",
    "# Ordenar las predicciones por la calificación estimada\n",
    "sorted_predictions = sorted(predictions, key=lambda x: x.est, reverse=True)\n",
    "\n",
    "# Obtener las mejores N recomendaciones\n",
    "N = 5\n",
    "top_n_recommendations = []\n",
    "for prediction in sorted_predictions[:N]:\n",
    "    recipe_url = prediction[1]\n",
    "    recipe_label = df.loc[df['recipe_uri'] == recipe_url, 'label'].values[0]\n",
    "    top_n_recommendations.append((recipe_label, prediction[3]))\n",
    "\n",
    "print(f\"Top {N} Recomendaciones para el Usuario {user_id}:\")\n",
    "for i, (recipe_label, rating) in enumerate(top_n_recommendations):\n",
    "    print(f\"{i + 1}. Receta: {recipe_label}\")"
   ],
   "metadata": {
    "collapsed": false,
    "ExecuteTime": {
     "end_time": "2023-11-28T00:10:47.740050Z",
     "start_time": "2023-11-28T00:10:47.721410300Z"
    }
   },
   "id": "7a2d2ff10f1a98aa"
  },
  {
   "cell_type": "markdown",
   "id": "cb907e92",
   "metadata": {},
   "source": [
    "Podemos ver que mejoraron muchos los valores del modelo, aunque teniendo en cuenta que el modelo es susceptible a cambios dada la naturalidad del proyecto, donde poco a poco se poblaran las bases de datos y podremos mejorar el modelo,"
   ]
  },
  {
   "cell_type": "markdown",
   "id": "32a0afdf",
   "metadata": {},
   "source": [
    "#### Ahora subamos los modelos como experimentos"
   ]
  },
  {
   "cell_type": "code",
   "execution_count": 270,
   "id": "5f7d8f30",
   "metadata": {},
   "outputs": [
    {
     "data": {
      "text/html": [
       "<pre style=\"white-space:pre;overflow-x:auto;line-height:normal;font-family:Menlo,'DejaVu Sans Mono',consolas,'Courier New',monospace\">Repository initialized!\n",
       "</pre>\n"
      ],
      "text/plain": [
       "Repository initialized!\n"
      ]
     },
     "metadata": {},
     "output_type": "display_data"
    }
   ],
   "source": [
    "import dagshub\n",
    "import mlflow\n",
    "\n",
    "dagshub.init(\"Proyecto-PCD\", \"SergioDuenass\", mlflow=True)"
   ]
  },
  {
   "cell_type": "code",
   "execution_count": 272,
   "id": "020cb0fd",
   "metadata": {},
   "outputs": [
    {
     "name": "stdout",
     "output_type": "stream",
     "text": [
      "1\n"
     ]
    }
   ],
   "source": [
    "experiment_name = \"proyecto_exp\"\n",
    "\n",
    "experiment_id = mlflow.create_experiment(experiment_name)\n",
    "\n",
    "print(experiment_id)"
   ]
  },
  {
   "cell_type": "markdown",
   "id": "60d46ebc",
   "metadata": {},
   "source": [
    "Se sube el primero modelo que uso SVD"
   ]
  },
  {
   "cell_type": "code",
   "execution_count": 279,
   "id": "ea94f281",
   "metadata": {},
   "outputs": [
    {
     "name": "stderr",
     "output_type": "stream",
     "text": [
      "C:\\Users\\andre\\anaconda3\\envs\\proyecto_2\\lib\\site-packages\\_distutils_hack\\__init__.py:33: UserWarning: Setuptools is replacing distutils.\n",
      "  warnings.warn(\"Setuptools is replacing distutils.\")\n"
     ]
    }
   ],
   "source": [
    "with mlflow.start_run(experiment_id=1, run_name=\"SVD\", nested=True) as run:\n",
    "    mlflow.sklearn.log_model(algo, \"SVD\")\n",
    "    mlflow.log_metric(\"MAE\", mae_algo)\n",
    "    mlflow.log_metric(\"RMSE\", rmse_algo)\n",
    "    mlflow.log_param(\"model_type\", \"SVD\")"
   ]
  },
  {
   "cell_type": "markdown",
   "id": "a58bb600",
   "metadata": {},
   "source": [
    "Se sube el segundo modelo que uso KNN"
   ]
  },
  {
   "cell_type": "code",
   "execution_count": 283,
   "id": "b361e800",
   "metadata": {},
   "outputs": [],
   "source": [
    "with mlflow.start_run(experiment_id=1, run_name=\"KNN\", nested=True) as run:\n",
    "    mlflow.sklearn.log_model(knn, \"SVD\")\n",
    "    mlflow.log_metric(\"MAE\", mae_knn)\n",
    "    mlflow.log_metric(\"RMSE\", rmse_knn)\n",
    "    mlflow.log_param(\"model_type\", \"KNN\")"
   ]
  },
  {
   "cell_type": "markdown",
   "id": "6975ed0e",
   "metadata": {},
   "source": [
    "Se sube el primero modelo que uso SVD con parametros"
   ]
  },
  {
   "cell_type": "code",
   "execution_count": 285,
   "id": "0ed00fdd",
   "metadata": {},
   "outputs": [],
   "source": [
    "with mlflow.start_run(experiment_id=1, run_name=\"SVD_Param\", nested=True) as run:\n",
    "    mlflow.sklearn.log_model(svd_param, \"SVD_Param\")\n",
    "    mlflow.log_metric(\"MAE\", mae_svd_param)\n",
    "    mlflow.log_metric(\"RMSE\", rmse_svd_param)\n",
    "    mlflow.log_param(\"model_type\", \"SVD_Param\")"
   ]
  },
  {
   "cell_type": "markdown",
   "id": "be7c529a",
   "metadata": {},
   "source": [
    "Ya con los modelos creados y los experimentos en nuestro Dagshub y Mlflow, podemos avanzar a la siguiente parte para elegir el modelo que usaremos y crear la API en base al modelo que se vaya a elegir."
   ]
  }
 ],
 "metadata": {
  "kernelspec": {
   "display_name": "Python 3 (ipykernel)",
   "language": "python",
   "name": "python3"
  },
  "language_info": {
   "codemirror_mode": {
    "name": "ipython",
    "version": 3
   },
   "file_extension": ".py",
   "mimetype": "text/x-python",
   "name": "python",
   "nbconvert_exporter": "python",
   "pygments_lexer": "ipython3",
   "version": "3.8.18"
  }
 },
 "nbformat": 4,
 "nbformat_minor": 5
}
