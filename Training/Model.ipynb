{
 "cells": [
  {
   "cell_type": "markdown",
   "id": "5a704574",
   "metadata": {},
   "source": [
    "___\n",
    "\n",
    "# <font color= black> Proyecto en Ciencia de Datos.</font>\n",
    "<img style=\"float: right; margin: 0px 0px 15px 15px;\" src=\"https://i0.wp.com/cimtrajalisco.org/wp-content/uploads/2019/02/Logo_Horizontal-1024x472.jpg?fit=1024%2C472\" width=\"300px\" height=\"100px\" />\n",
    "\n",
    "# <font color= black>Discovery Dish &copy;</font>\n",
    "\n",
    "- <Strong> Sergio Daniel Dueñas Godinez </Strong>\n",
    "- <Strong> Andre Yahir Gonzalez Cuevas </Strong>\n",
    "- <Strong> Manuel Alejandro Murguia Orantes </Strong>\n",
    "\n",
    "___"
   ]
  },
  {
   "cell_type": "markdown",
   "id": "b294821a",
   "metadata": {},
   "source": [
    "### Introducción\n",
    "\n",
    "\n",
    "<p style=\"text-align: justify;\"> Nuestro proyecto final es crear una página web empleando HTML, CSS, JavaScript & Python. En dicha página web habrá una gran variedad de recetas que vayan desde platillos sencillos, ya sea individuales, para citas o familiares; hasta recetas de repostería y coctelería. La página web será alimentada por medio de una API que contenga todas las recetas. La página web será de libre acceso, por lo que toda persona tendrá total libertad de ver las recetas como desee, así como también tendrá un sistema de registro / inicio de sesión que brinde a los usuarios registrados nuevas opciones como puntuar recetas, dejar comentarios en otras recetas y editar sus perfiles. </p> \n",
    "\n",
    "<p style=\"text-align: justify;\"> Para la creación de la página usaremos un modelo de machine learning que haga el funcionamiento de la página web como si fuera una especie de red social. El modelo usará un sistema de recomendaciones que muestre a los usuarios diferentes platillos en base a sus gustos. El modelo se basará en las puntuaciones, búsquedas, e ingredientes más usados por los usuarios, es decir, un modelo content-based. </p>\n",
    "\n",
    "### Antecedentes\n",
    "\n",
    "<p style=\"text-align: justify;\"> Antes de la creación de los sistemas de recomendación, los desarrolladores y sitios web utilizaban enfoques más simples y manuales para proporcionar recomendaciones o sugerencias a los usuarios. Algunos ejemplos de modelos utilizados incluían la promoción de contenido \"Más Popular\", la selección manual de contenido relacionado y la presentación de novedades. Estos métodos, aunque útiles en su momento, tenían limitaciones evidentes. Las recomendaciones basadas en popularidad podrían pasar por alto los gustos individuales, mientras que la selección manual de contenido relacionado requería una inversión considerable de tiempo y recursos, y no siempre garantizaba recomendaciones precisas.\n",
    "    \n",
    "<p style=\"text-align: justify;\"> Con la creación de los sistemas de recomendación, se abrió paso a un mundo con un sin fin de modelos para hacer recomendaciones. A diferencia de los modelos vistos con anterioridad, los sistemas de recomendación se caracterizan por la experiencia y personalización que brindan. Estos sistemas tienen la capacidad de analizar vastas cantidades de datos de usuario, como búsquedas, clics, puntuaciones, comentarios y más. A partir de esta información, los modelos son capaces de generar patrones y tendencias, lo que les permite ofrecer recomendaciones altamente personalizadas basadas en los gustos y preferencias individuales de cada usuario.\n",
    "    \n",
    "<p style=\"text-align: justify;\"> Uno de los elementos más destacados de los sistemas de recomendación es la capacidad de aprendizaje automático. A través de algoritmos avanzados, estos sistemas pueden identificar relaciones complejas entre usuarios y elementos, y predecir qué productos, servicios o contenido podrían interesar a un usuario en función de su historial y comportamiento previo. Esto no solo mejora la satisfacción del usuario al proporcionar contenido relevante, sino que también puede tener un impacto significativo en la retención de usuarios y el aumento de las tasas de conversión.\n",
    "    \n",
    "<p style=\"text-align: justify;\"> La importancia de los sistemas de recomendación en la sociedad actual es innegable. Los encontramos en una amplia gama de aplicaciones, desde el comercio electrónico, donde sugieren productos relacionados y aumentan las ventas, hasta el entretenimiento, donde personalizan la experiencia de transmisión de contenido, y las redes sociales, donde conectan a usuarios con amigos y contenido relevante. Los sistemas de recomendación son una herramienta poderosa para empresas y plataformas que buscan mejorar la satisfacción del cliente, aumentar la participación de los usuarios y fomentar el crecimiento de sus negocios.\n",
    "    \n",
    "<p style=\"text-align: justify;\"> En este contexto, el presente proyecto se centra en la creación y desarrollo de un sistema de recomendación altamente personalizado. Este sistema se basa en algoritmos avanzados y análisis de datos para proporcionar a los usuarios recomendaciones precisas y relevantes, contribuyendo así a una experiencia de usuario más enriquecedora y a la consecución de objetivos específicos en el ámbito de aplicación.\n",
    "    \n",
    "### Objetivos\n",
    "\n",
    "#### Generales\n",
    "\n",
    "- Mejorar la experiencia del usuario haciendo que su visita sea más personalizada y agradable al proporcionar recomendaciones relevantes y útiles.\n",
    "\n",
    "- Maximizar la eficiencia en la presentación de contenido al evitar mostrar elementos que no son relevantes para el usuario.\n",
    "    \n",
    "\n",
    "\n",
    "#### Específicos\n",
    "\n",
    "- Recopilar y analizar datos sobre las preferencias de los usuarios a través de la interacción con el sistema.\n",
    "\n",
    "- Generar un modelo capaz de generar recomendaciones precisas y relevantes para los usuarios\n",
    "\n",
    "- Adaptar las recomendaciones a las preferencias y el comportamiento de cada usuario de manera individual.\n",
    "\n",
    "- Asegurarse de que las recomendaciones incluyan una variedad de contenido para evitar la repetición y presentar opciones nuevas y diversas.\n",
    "\n",
    "- Establecer métricas de rendimiento y realizar evaluaciones periódicas para medir la efectividad del sistema de recomendaciones.\n",
    "\n",
    "- Permitir a los usuarios proporcionar retroalimentación sobre las recomendaciones para mejorar continuamente el sistema.\n",
    "\n",
    "- Proteger la privacidad de los usuarios y garantizar que los datos se almacenan y manejan de manera segura.\n",
    "    \n",
    "### Planteamiento del Problema\n",
    "\n",
    "<p style=\"text-align: justify;\"> En el contexto de una nuestra página web de recetas, el problema identificado radica en la falta de recomendaciones de recetas altamente personalizadas y relevantes para los usuarios. A pesar de la abundancia de contenido de recetas disponibles en internet, los usuarios a menudo se sienten abrumados por la cantidad de opciones y encuentran dificultades para descubrir recetas que se ajusten a sus preferencias individuales. Este problema plantea desafíos significativos, ya que la satisfacción del usuario, la retención y la participación son cruciales para el éxito de la plataforma. Además, existe un potencial sin explotar para optimizar la experiencia del usuario y aumentar la interacción en la plataforma a través de recomendaciones de recetas precisas y personalizadas."
   ]
  },
  {
   "cell_type": "markdown",
   "id": "cda58bb0",
   "metadata": {},
   "source": [
    "## Modelo\n",
    "\n",
    "En esta punto empezamos a trabajar con el modelo y lo que tenemos pensado hacer, aquí haremos pruebas iniciales para poder plazmar nuestras ideas en codigo para finalmente hacer experimentos con nuestros datos y subirlos a Mlflow donde podamos comparar todos los modelos hechos e incluso sus versiones."
   ]
  },
  {
   "cell_type": "code",
   "execution_count": 69,
   "id": "cd9e61a9",
   "metadata": {},
   "outputs": [],
   "source": [
    "#Librerias que usaremos\n",
    "import pandas as pd\n",
    "import numpy as np\n",
    "import ast\n",
    "import csv\n",
    "import seaborn as sns\n",
    "\n",
    "from sklearn.metrics.pairwise import cosine_similarity\n",
    "from sentence_transformers import SentenceTransformer\n",
    "\n",
    "from surprise import accuracy, Dataset, NormalPredictor, Reader\n",
    "from surprise import SVD, SVDpp, KNNBasic\n",
    "from surprise.model_selection import cross_validate, train_test_split"
   ]
  },
  {
   "cell_type": "code",
   "execution_count": 92,
   "id": "26bbe6e6",
   "metadata": {
    "scrolled": false
   },
   "outputs": [
    {
     "data": {
      "text/html": [
       "<div>\n",
       "<style scoped>\n",
       "    .dataframe tbody tr th:only-of-type {\n",
       "        vertical-align: middle;\n",
       "    }\n",
       "\n",
       "    .dataframe tbody tr th {\n",
       "        vertical-align: top;\n",
       "    }\n",
       "\n",
       "    .dataframe thead th {\n",
       "        text-align: right;\n",
       "    }\n",
       "</style>\n",
       "<table border=\"1\" class=\"dataframe\">\n",
       "  <thead>\n",
       "    <tr style=\"text-align: right;\">\n",
       "      <th></th>\n",
       "      <th>recipe_uri</th>\n",
       "      <th>label</th>\n",
       "      <th>dietLabels</th>\n",
       "      <th>healthLabels</th>\n",
       "      <th>mealType</th>\n",
       "      <th>Energy(cal)</th>\n",
       "      <th>Fat(g)</th>\n",
       "      <th>Protein(g)</th>\n",
       "      <th>Carbohydrates(g)</th>\n",
       "      <th>Fiber(g)</th>\n",
       "    </tr>\n",
       "  </thead>\n",
       "  <tbody>\n",
       "    <tr>\n",
       "      <th>0</th>\n",
       "      <td>http://www.edamam.com/ontologies/edamam.owl#re...</td>\n",
       "      <td>Easy Mango-Blackberry Smoothie Recipe</td>\n",
       "      <td>[Balanced, High-Fiber, Low-Sodium]</td>\n",
       "      <td>['Vegetarian', 'Pescatarian', 'Mediterranean',...</td>\n",
       "      <td>['breakfast']</td>\n",
       "      <td>274.596327</td>\n",
       "      <td>9.032777</td>\n",
       "      <td>11.235393</td>\n",
       "      <td>41.249251</td>\n",
       "      <td>8.635761</td>\n",
       "    </tr>\n",
       "    <tr>\n",
       "      <th>1</th>\n",
       "      <td>http://www.edamam.com/ontologies/edamam.owl#re...</td>\n",
       "      <td>Maple Banana Frozen Yogurt</td>\n",
       "      <td>[Balanced, Low-Sodium]</td>\n",
       "      <td>['Vegetarian', 'Pescatarian', 'Mediterranean',...</td>\n",
       "      <td>['lunch/dinner']</td>\n",
       "      <td>494.733346</td>\n",
       "      <td>15.507892</td>\n",
       "      <td>18.264435</td>\n",
       "      <td>74.425804</td>\n",
       "      <td>6.016400</td>\n",
       "    </tr>\n",
       "    <tr>\n",
       "      <th>2</th>\n",
       "      <td>http://www.edamam.com/ontologies/edamam.owl#re...</td>\n",
       "      <td>Crispy Frizzled Artichokes recipes</td>\n",
       "      <td>[Balanced, Low-Sodium]</td>\n",
       "      <td>['Sugar-Conscious', 'Low Potassium', 'Kidney-F...</td>\n",
       "      <td>['lunch/dinner']</td>\n",
       "      <td>51.880314</td>\n",
       "      <td>2.100200</td>\n",
       "      <td>1.397880</td>\n",
       "      <td>11.768520</td>\n",
       "      <td>3.541200</td>\n",
       "    </tr>\n",
       "    <tr>\n",
       "      <th>3</th>\n",
       "      <td>http://www.edamam.com/ontologies/edamam.owl#re...</td>\n",
       "      <td>Frothy Indian Coffee</td>\n",
       "      <td>[Balanced, Low-Sodium]</td>\n",
       "      <td>['Kidney-Friendly', 'Vegetarian', 'Pescatarian...</td>\n",
       "      <td>['teatime']</td>\n",
       "      <td>187.236000</td>\n",
       "      <td>5.962500</td>\n",
       "      <td>6.130500</td>\n",
       "      <td>27.846000</td>\n",
       "      <td>0.000000</td>\n",
       "    </tr>\n",
       "    <tr>\n",
       "      <th>4</th>\n",
       "      <td>http://www.edamam.com/ontologies/edamam.owl#re...</td>\n",
       "      <td>Ultimate Chickpea Noodle Soup recipes</td>\n",
       "      <td>[Balanced, High-Fiber]</td>\n",
       "      <td>['Vegan', 'Vegetarian', 'Pescatarian', 'Medite...</td>\n",
       "      <td>['lunch/dinner']</td>\n",
       "      <td>2788.287342</td>\n",
       "      <td>99.070496</td>\n",
       "      <td>104.456175</td>\n",
       "      <td>380.376323</td>\n",
       "      <td>54.626713</td>\n",
       "    </tr>\n",
       "  </tbody>\n",
       "</table>\n",
       "</div>"
      ],
      "text/plain": [
       "                                          recipe_uri  \\\n",
       "0  http://www.edamam.com/ontologies/edamam.owl#re...   \n",
       "1  http://www.edamam.com/ontologies/edamam.owl#re...   \n",
       "2  http://www.edamam.com/ontologies/edamam.owl#re...   \n",
       "3  http://www.edamam.com/ontologies/edamam.owl#re...   \n",
       "4  http://www.edamam.com/ontologies/edamam.owl#re...   \n",
       "\n",
       "                                   label                          dietLabels  \\\n",
       "0  Easy Mango-Blackberry Smoothie Recipe  [Balanced, High-Fiber, Low-Sodium]   \n",
       "1             Maple Banana Frozen Yogurt              [Balanced, Low-Sodium]   \n",
       "2     Crispy Frizzled Artichokes recipes              [Balanced, Low-Sodium]   \n",
       "3                   Frothy Indian Coffee              [Balanced, Low-Sodium]   \n",
       "4  Ultimate Chickpea Noodle Soup recipes              [Balanced, High-Fiber]   \n",
       "\n",
       "                                        healthLabels          mealType  \\\n",
       "0  ['Vegetarian', 'Pescatarian', 'Mediterranean',...     ['breakfast']   \n",
       "1  ['Vegetarian', 'Pescatarian', 'Mediterranean',...  ['lunch/dinner']   \n",
       "2  ['Sugar-Conscious', 'Low Potassium', 'Kidney-F...  ['lunch/dinner']   \n",
       "3  ['Kidney-Friendly', 'Vegetarian', 'Pescatarian...       ['teatime']   \n",
       "4  ['Vegan', 'Vegetarian', 'Pescatarian', 'Medite...  ['lunch/dinner']   \n",
       "\n",
       "   Energy(cal)     Fat(g)  Protein(g)  Carbohydrates(g)   Fiber(g)  \n",
       "0   274.596327   9.032777   11.235393         41.249251   8.635761  \n",
       "1   494.733346  15.507892   18.264435         74.425804   6.016400  \n",
       "2    51.880314   2.100200    1.397880         11.768520   3.541200  \n",
       "3   187.236000   5.962500    6.130500         27.846000   0.000000  \n",
       "4  2788.287342  99.070496  104.456175        380.376323  54.626713  "
      ]
     },
     "execution_count": 92,
     "metadata": {},
     "output_type": "execute_result"
    }
   ],
   "source": [
    "# Lo primero que hacemos el leer el csv que se creo en el documento EDA.ipynb\n",
    "df = pd.read_csv('data.csv', converters={'dietLabels': ast.literal_eval})\n",
    "df.head()"
   ]
  },
  {
   "cell_type": "markdown",
   "id": "40f4abbd",
   "metadata": {},
   "source": [
    "Ahora indicamos cuales son las variables a usar en el modelo"
   ]
  },
  {
   "cell_type": "code",
   "execution_count": 3,
   "id": "ff974284",
   "metadata": {},
   "outputs": [
    {
     "data": {
      "text/html": [
       "<div>\n",
       "<style scoped>\n",
       "    .dataframe tbody tr th:only-of-type {\n",
       "        vertical-align: middle;\n",
       "    }\n",
       "\n",
       "    .dataframe tbody tr th {\n",
       "        vertical-align: top;\n",
       "    }\n",
       "\n",
       "    .dataframe thead th {\n",
       "        text-align: right;\n",
       "    }\n",
       "</style>\n",
       "<table border=\"1\" class=\"dataframe\">\n",
       "  <thead>\n",
       "    <tr style=\"text-align: right;\">\n",
       "      <th></th>\n",
       "      <th>label</th>\n",
       "      <th>dietLabels</th>\n",
       "      <th>healthLabels</th>\n",
       "      <th>mealType</th>\n",
       "    </tr>\n",
       "  </thead>\n",
       "  <tbody>\n",
       "    <tr>\n",
       "      <th>0</th>\n",
       "      <td>Easy Mango-Blackberry Smoothie Recipe</td>\n",
       "      <td>[Balanced, High-Fiber, Low-Sodium]</td>\n",
       "      <td>['Vegetarian', 'Pescatarian', 'Mediterranean',...</td>\n",
       "      <td>['breakfast']</td>\n",
       "    </tr>\n",
       "    <tr>\n",
       "      <th>1</th>\n",
       "      <td>Maple Banana Frozen Yogurt</td>\n",
       "      <td>[Balanced, Low-Sodium]</td>\n",
       "      <td>['Vegetarian', 'Pescatarian', 'Mediterranean',...</td>\n",
       "      <td>['lunch/dinner']</td>\n",
       "    </tr>\n",
       "    <tr>\n",
       "      <th>2</th>\n",
       "      <td>Crispy Frizzled Artichokes recipes</td>\n",
       "      <td>[Balanced, Low-Sodium]</td>\n",
       "      <td>['Sugar-Conscious', 'Low Potassium', 'Kidney-F...</td>\n",
       "      <td>['lunch/dinner']</td>\n",
       "    </tr>\n",
       "    <tr>\n",
       "      <th>3</th>\n",
       "      <td>Frothy Indian Coffee</td>\n",
       "      <td>[Balanced, Low-Sodium]</td>\n",
       "      <td>['Kidney-Friendly', 'Vegetarian', 'Pescatarian...</td>\n",
       "      <td>['teatime']</td>\n",
       "    </tr>\n",
       "    <tr>\n",
       "      <th>4</th>\n",
       "      <td>Ultimate Chickpea Noodle Soup recipes</td>\n",
       "      <td>[Balanced, High-Fiber]</td>\n",
       "      <td>['Vegan', 'Vegetarian', 'Pescatarian', 'Medite...</td>\n",
       "      <td>['lunch/dinner']</td>\n",
       "    </tr>\n",
       "  </tbody>\n",
       "</table>\n",
       "</div>"
      ],
      "text/plain": [
       "                                   label                          dietLabels  \\\n",
       "0  Easy Mango-Blackberry Smoothie Recipe  [Balanced, High-Fiber, Low-Sodium]   \n",
       "1             Maple Banana Frozen Yogurt              [Balanced, Low-Sodium]   \n",
       "2     Crispy Frizzled Artichokes recipes              [Balanced, Low-Sodium]   \n",
       "3                   Frothy Indian Coffee              [Balanced, Low-Sodium]   \n",
       "4  Ultimate Chickpea Noodle Soup recipes              [Balanced, High-Fiber]   \n",
       "\n",
       "                                        healthLabels          mealType  \n",
       "0  ['Vegetarian', 'Pescatarian', 'Mediterranean',...     ['breakfast']  \n",
       "1  ['Vegetarian', 'Pescatarian', 'Mediterranean',...  ['lunch/dinner']  \n",
       "2  ['Sugar-Conscious', 'Low Potassium', 'Kidney-F...  ['lunch/dinner']  \n",
       "3  ['Kidney-Friendly', 'Vegetarian', 'Pescatarian...       ['teatime']  \n",
       "4  ['Vegan', 'Vegetarian', 'Pescatarian', 'Medite...  ['lunch/dinner']  "
      ]
     },
     "execution_count": 3,
     "metadata": {},
     "output_type": "execute_result"
    }
   ],
   "source": [
    "data_nueva = df[['label', 'dietLabels', 'healthLabels', 'mealType']].copy()\n",
    "data_nueva.head()"
   ]
  },
  {
   "cell_type": "markdown",
   "id": "70ed2d24",
   "metadata": {},
   "source": [
    "Para tener una idea de lo que queremos hacer, primero haremos un sistema de recomendacion en base a las recetas"
   ]
  },
  {
   "cell_type": "code",
   "execution_count": 4,
   "id": "86cfda04",
   "metadata": {},
   "outputs": [],
   "source": [
    "data_nueva = df.astype({'label':'string', 'dietLabels':'string', 'healthLabels':'string', 'mealType':'string'})"
   ]
  },
  {
   "cell_type": "code",
   "execution_count": 5,
   "id": "3b43a8cb",
   "metadata": {},
   "outputs": [],
   "source": [
    "data_nueva['dietLabels'] = data_nueva['dietLabels'].apply(ast.literal_eval)\n",
    "\n",
    "# Se hacen cambios para poder hacer la recomendacion\n",
    "max_labels = 10\n",
    "data_nueva['dietLabels'] = data_nueva['dietLabels'].apply(lambda x: x[:max_labels] + [''] * (max_labels - len(x)))\n",
    "data_nueva['dietLabels'] = data_nueva['dietLabels'].apply(str)\n",
    "\n",
    "X = np.array(data_nueva['dietLabels'])"
   ]
  },
  {
   "cell_type": "markdown",
   "id": "09272259",
   "metadata": {},
   "source": [
    "Usaremos SentenceTransformer para hacer la recomendacion, ya que dicha libreria representa las oraciones y textos como vectores númericos."
   ]
  },
  {
   "cell_type": "code",
   "execution_count": 6,
   "id": "7a6ab3e9",
   "metadata": {},
   "outputs": [],
   "source": [
    "model = SentenceTransformer('distilbert-base-nli-mean-tokens')"
   ]
  },
  {
   "cell_type": "code",
   "execution_count": 7,
   "id": "416c51e9",
   "metadata": {},
   "outputs": [],
   "source": [
    "embeddings = model.encode(X)\n",
    "embed_data = embeddings\n",
    "X = np.array(embed_data)"
   ]
  },
  {
   "cell_type": "code",
   "execution_count": 8,
   "id": "ec596bd1",
   "metadata": {},
   "outputs": [],
   "source": [
    "cos_sim_data = pd.DataFrame(cosine_similarity(X))"
   ]
  },
  {
   "cell_type": "markdown",
   "id": "dfe31384",
   "metadata": {},
   "source": [
    "Creamos la funcion de recomendacion en base a las recetas"
   ]
  },
  {
   "cell_type": "code",
   "execution_count": 9,
   "id": "aec63487",
   "metadata": {},
   "outputs": [],
   "source": [
    "def give_recommendations(index,print_recommendation = False,print_recommendation_plots= False,print_genres =False):\n",
    "  index_recomm =cos_sim_data.loc[index].sort_values(ascending=False).index.tolist()[1:6]\n",
    "  recepies_recomm =  data_nueva['label'].loc[index_recomm].values\n",
    "  result = {'Recetas':recepies_recomm,'Index':index_recomm}\n",
    "  if print_recommendation==True:\n",
    "    print('La receta base es: %s \\n'%(data_nueva['label'].loc[index]))\n",
    "    k=1\n",
    "    for recepie in recepies_recomm:\n",
    "      print('La receta %i recomendada es: %s \\n'%(k,recepie))\n",
    "  if print_recommendation_plots==True:\n",
    "    print('La visualizacion de la recomendacion es:\\n %s \\n'%(data['dietLabels'].loc[index])) # Uso de imagen con API (en la pagina web)\n",
    "    k=1\n",
    "    for q in range(len(recepies_recomm)):\n",
    "      plot_q = data_nueva['dietLabels'].loc[index_recomm[q]]\n",
    "      print('La visualizacion de la receta %i recomendada es:\\n %s \\n'%(k,plot_q)) # Uso de imagen con API (en la pagina web)\n",
    "      k=k+1\n",
    "  if print_genres==True:\n",
    "    print('Las categorias nutricionales de la receta son:\\n %s \\n'%(data['healthLabels'].loc[index]))\n",
    "    k=1\n",
    "    for q in range(len(recepies_recomm)):\n",
    "      plot_q = data['healthLabels'].loc[index_recomm[q]]\n",
    "      print('La visualizacion de la receta %i recomendada es:\\n %s \\n'%(k,plot_q))\n",
    "      k=k+1\n",
    "  return result"
   ]
  },
  {
   "cell_type": "code",
   "execution_count": 10,
   "id": "c1d42b27",
   "metadata": {},
   "outputs": [
    {
     "name": "stdout",
     "output_type": "stream",
     "text": [
      "La receta base es: Crispy Frizzled Artichokes recipes \n",
      "\n",
      "La receta 1 recomendada es: Frothy Indian Coffee \n",
      "\n",
      "La receta 1 recomendada es: Pão De Queijo (Brazilian Cheese Bread) \n",
      "\n",
      "La receta 1 recomendada es: Chocolate Milk from Scratch Recipe \n",
      "\n",
      "La receta 1 recomendada es: Seven-Yolk Pasta Dough \n",
      "\n",
      "La receta 1 recomendada es: Mixed Berry Ricotta Fool \n",
      "\n"
     ]
    },
    {
     "data": {
      "text/plain": [
       "{'Recetas': <StringArray>\n",
       " [                  'Frothy Indian Coffee',\n",
       "  'Pão De Queijo (Brazilian Cheese Bread)',\n",
       "      'Chocolate Milk from Scratch Recipe',\n",
       "                  'Seven-Yolk Pasta Dough',\n",
       "                'Mixed Berry Ricotta Fool']\n",
       " Length: 5, dtype: string,\n",
       " 'Index': [3, 6, 8, 9, 10]}"
      ]
     },
     "execution_count": 10,
     "metadata": {},
     "output_type": "execute_result"
    }
   ],
   "source": [
    "give_recommendations(2,True)"
   ]
  },
  {
   "cell_type": "markdown",
   "id": "47ae0b31",
   "metadata": {},
   "source": [
    "Veamos como son las recomendacion qu podemos hacer en base a la receta"
   ]
  },
  {
   "cell_type": "code",
   "execution_count": 11,
   "id": "e60f3cac",
   "metadata": {},
   "outputs": [
    {
     "name": "stdout",
     "output_type": "stream",
     "text": [
      "La receta base es: Crispy Frizzled Artichokes recipes \n",
      "\n",
      "La receta 1 recomendada es: Frothy Indian Coffee \n",
      "\n",
      "La receta 1 recomendada es: Pão De Queijo (Brazilian Cheese Bread) \n",
      "\n",
      "La receta 1 recomendada es: Chocolate Milk from Scratch Recipe \n",
      "\n",
      "La receta 1 recomendada es: Seven-Yolk Pasta Dough \n",
      "\n",
      "La receta 1 recomendada es: Mixed Berry Ricotta Fool \n",
      "\n"
     ]
    },
    {
     "data": {
      "text/plain": [
       "{'Recetas': <StringArray>\n",
       " [                  'Frothy Indian Coffee',\n",
       "  'Pão De Queijo (Brazilian Cheese Bread)',\n",
       "      'Chocolate Milk from Scratch Recipe',\n",
       "                  'Seven-Yolk Pasta Dough',\n",
       "                'Mixed Berry Ricotta Fool']\n",
       " Length: 5, dtype: string,\n",
       " 'Index': [3, 6, 8, 9, 10]}"
      ]
     },
     "execution_count": 11,
     "metadata": {},
     "output_type": "execute_result"
    }
   ],
   "source": [
    "def give_recommendations2(index, print_recommendation=False):\n",
    "    index_recomm = cos_sim_data.loc[index].sort_values(ascending=False).index.tolist()[1:6]\n",
    "    recipes_recomm = data_nueva['label'].loc[index_recomm].values\n",
    "    result = {'Recetas': recipes_recomm, 'Index': index_recomm}\n",
    "\n",
    "    if print_recommendation:\n",
    "        print(f'The base recipe is: {data_nueva[\"label\"].loc[index]}\\n')\n",
    "        for k, recipe in enumerate(recipes_recomm, start=1):\n",
    "            print(f'The recommended recipe {k} is: {recipe}\\n')\n",
    "\n",
    "    return result\n",
    "\n",
    "give_recommendations(2,True)"
   ]
  },
  {
   "cell_type": "markdown",
   "id": "339bd619",
   "metadata": {},
   "source": [
    "Ahora usaremos la libreria surprise para poder hacer los modelos deseados. La libreria haca el sistem de recomendacion en base a ratings por lo cual tendremos que agregar nosotros unos ratings base, ya que en el producto final se espera que en la página web los usuarios puedan dar sus ratings a las recetas y de ahí poder hacer recomendaciones entonces por ahora tendremos que crear nosotros unos ratings base.\n",
    "\n",
    "Por lo tanto tenemos que crear por ahora usuarios dummies, que sean como ejemplo de lo que se espera de recolectar de la página web, en este caso siendo un csv con el ID del usuario, de los productos a los que le hace rating y las calificaciones que les da"
   ]
  },
  {
   "cell_type": "markdown",
   "id": "28fcfdd5",
   "metadata": {},
   "source": [
    "Creamos el dataframe pensando, por ahora como ejemplo y para que se entienda la receta se dejara con nombre de ejemplo pero la que se usará para el modelo tendra la uri de la comida que funcionaría como su Id, por ejemplo:\n",
    "- http://www.edamam.com/ontologies/edamam.owl#recipe_2e9b699be433fab7da069629e1699455 &#8594; Easy Mango-Blackberry Smoothie Recipe"
   ]
  },
  {
   "cell_type": "code",
   "execution_count": 231,
   "id": "1440afce",
   "metadata": {},
   "outputs": [
    {
     "data": {
      "text/html": [
       "<div>\n",
       "<style scoped>\n",
       "    .dataframe tbody tr th:only-of-type {\n",
       "        vertical-align: middle;\n",
       "    }\n",
       "\n",
       "    .dataframe tbody tr th {\n",
       "        vertical-align: top;\n",
       "    }\n",
       "\n",
       "    .dataframe thead th {\n",
       "        text-align: right;\n",
       "    }\n",
       "</style>\n",
       "<table border=\"1\" class=\"dataframe\">\n",
       "  <thead>\n",
       "    <tr style=\"text-align: right;\">\n",
       "      <th></th>\n",
       "      <th>id</th>\n",
       "      <th>recipes</th>\n",
       "      <th>n_recipes</th>\n",
       "      <th>ratings</th>\n",
       "      <th>n_ratings</th>\n",
       "    </tr>\n",
       "  </thead>\n",
       "  <tbody>\n",
       "    <tr>\n",
       "      <th>0</th>\n",
       "      <td>34</td>\n",
       "      <td>[http://www.edamam.com/ontologies/edamam.owl#r...</td>\n",
       "      <td>1</td>\n",
       "      <td>[5.0]</td>\n",
       "      <td>1</td>\n",
       "    </tr>\n",
       "    <tr>\n",
       "      <th>1</th>\n",
       "      <td>58</td>\n",
       "      <td>[http://www.edamam.com/ontologies/edamam.owl#r...</td>\n",
       "      <td>3</td>\n",
       "      <td>[5.0, 4.0, 5.0]</td>\n",
       "      <td>3</td>\n",
       "    </tr>\n",
       "    <tr>\n",
       "      <th>2</th>\n",
       "      <td>10</td>\n",
       "      <td>[http://www.edamam.com/ontologies/edamam.owl#r...</td>\n",
       "      <td>2</td>\n",
       "      <td>[5.0, 3.0]</td>\n",
       "      <td>2</td>\n",
       "    </tr>\n",
       "  </tbody>\n",
       "</table>\n",
       "</div>"
      ],
      "text/plain": [
       "   id                                            recipes  n_recipes  \\\n",
       "0  34  [http://www.edamam.com/ontologies/edamam.owl#r...          1   \n",
       "1  58  [http://www.edamam.com/ontologies/edamam.owl#r...          3   \n",
       "2  10  [http://www.edamam.com/ontologies/edamam.owl#r...          2   \n",
       "\n",
       "           ratings  n_ratings  \n",
       "0            [5.0]          1  \n",
       "1  [5.0, 4.0, 5.0]          3  \n",
       "2       [5.0, 3.0]          2  "
      ]
     },
     "execution_count": 231,
     "metadata": {},
     "output_type": "execute_result"
    }
   ],
   "source": [
    "# Se crea DataFrame vacío\n",
    "df_usuario = pd.DataFrame(columns=[\"id\", \"recipes\", \"n_recipes\", \"ratings\", \"n_ratings\"])\n",
    "\n",
    "# Se agregan las filas especificadas\n",
    "data = [\n",
    "    {\"id\": 34, \"recipes\": [\"http://www.edamam.com/ontologies/edamam.owl#recipe_2e9b699be433fab7da069629e1699455\"], \"n_recipes\": 1, \"ratings\": [5.0], \"n_ratings\": 1},\n",
    "    {\"id\": 58, \"recipes\": [\"http://www.edamam.com/ontologies/edamam.owl#recipe_067f0b7be628ae847366e4f3e614b319\", \"http://www.edamam.com/ontologies/edamam.owl#recipe_3bc095c814af01cfc5e12aa3c3bad9e6\", \"http://www.edamam.com/ontologies/edamam.owl#recipe_88c93d34a2f0c4a9ebf55c8d7c985458\"], \"n_recipes\": 3, \"ratings\": [5.0, 4.0, 5.0], \"n_ratings\": 3},\n",
    "    {\"id\": 10, \"recipes\": [\"http://www.edamam.com/ontologies/edamam.owl#recipe_ab7b274349df0ce399cd05b5167d7052\", \"http://www.edamam.com/ontologies/edamam.owl#recipe_3d45f44e2e398b038c1113b0fd9a484c\"], \"n_recipes\": 2, \"ratings\": [5.0, 3.0], \"n_ratings\": 2}\n",
    "]\n",
    "\n",
    "df_usuario = pd.DataFrame(data)\n",
    "# Df resultamte\n",
    "df_usuario"
   ]
  },
  {
   "cell_type": "markdown",
   "id": "4d5de9bd",
   "metadata": {},
   "source": [
    "Hacemos una funcion para que cada fila sea un usuario y su rating para poder usar los datos en surprise"
   ]
  },
  {
   "cell_type": "code",
   "execution_count": 232,
   "id": "15f0cb1f",
   "metadata": {},
   "outputs": [
    {
     "data": {
      "text/html": [
       "<div>\n",
       "<style scoped>\n",
       "    .dataframe tbody tr th:only-of-type {\n",
       "        vertical-align: middle;\n",
       "    }\n",
       "\n",
       "    .dataframe tbody tr th {\n",
       "        vertical-align: top;\n",
       "    }\n",
       "\n",
       "    .dataframe thead th {\n",
       "        text-align: right;\n",
       "    }\n",
       "</style>\n",
       "<table border=\"1\" class=\"dataframe\">\n",
       "  <thead>\n",
       "    <tr style=\"text-align: right;\">\n",
       "      <th></th>\n",
       "      <th>User</th>\n",
       "      <th>Recipe</th>\n",
       "      <th>Rating</th>\n",
       "    </tr>\n",
       "  </thead>\n",
       "  <tbody>\n",
       "    <tr>\n",
       "      <th>0</th>\n",
       "      <td>0</td>\n",
       "      <td>http://www.edamam.com/ontologies/edamam.owl#re...</td>\n",
       "      <td>5.0</td>\n",
       "    </tr>\n",
       "    <tr>\n",
       "      <th>1</th>\n",
       "      <td>1</td>\n",
       "      <td>http://www.edamam.com/ontologies/edamam.owl#re...</td>\n",
       "      <td>5.0</td>\n",
       "    </tr>\n",
       "    <tr>\n",
       "      <th>2</th>\n",
       "      <td>1</td>\n",
       "      <td>http://www.edamam.com/ontologies/edamam.owl#re...</td>\n",
       "      <td>4.0</td>\n",
       "    </tr>\n",
       "    <tr>\n",
       "      <th>3</th>\n",
       "      <td>1</td>\n",
       "      <td>http://www.edamam.com/ontologies/edamam.owl#re...</td>\n",
       "      <td>5.0</td>\n",
       "    </tr>\n",
       "    <tr>\n",
       "      <th>4</th>\n",
       "      <td>2</td>\n",
       "      <td>http://www.edamam.com/ontologies/edamam.owl#re...</td>\n",
       "      <td>5.0</td>\n",
       "    </tr>\n",
       "    <tr>\n",
       "      <th>5</th>\n",
       "      <td>2</td>\n",
       "      <td>http://www.edamam.com/ontologies/edamam.owl#re...</td>\n",
       "      <td>3.0</td>\n",
       "    </tr>\n",
       "  </tbody>\n",
       "</table>\n",
       "</div>"
      ],
      "text/plain": [
       "  User                                             Recipe  Rating\n",
       "0    0  http://www.edamam.com/ontologies/edamam.owl#re...     5.0\n",
       "1    1  http://www.edamam.com/ontologies/edamam.owl#re...     5.0\n",
       "2    1  http://www.edamam.com/ontologies/edamam.owl#re...     4.0\n",
       "3    1  http://www.edamam.com/ontologies/edamam.owl#re...     5.0\n",
       "4    2  http://www.edamam.com/ontologies/edamam.owl#re...     5.0\n",
       "5    2  http://www.edamam.com/ontologies/edamam.owl#re...     3.0"
      ]
     },
     "execution_count": 232,
     "metadata": {},
     "output_type": "execute_result"
    }
   ],
   "source": [
    "def getRecipeRatings(idx):\n",
    "    user_recipes = [item for item in df_usuario.loc[idx]['recipes']]\n",
    "    user_ratings = [float(rating) for rating in df_usuario.loc[idx]['ratings']]\n",
    "    df = pd.DataFrame(list(zip(user_recipes, user_ratings)), columns=['Recipe', 'Rating'])\n",
    "    df.insert(loc=0, column='User', value=df_usuario.loc[idx].name)  # Use the index as the 'User' value\n",
    "    return df\n",
    "\n",
    "recipe_ratings = pd.DataFrame(columns=['User', 'Recipe', 'Rating'])\n",
    "\n",
    "for idx, row in df_usuario.iterrows():\n",
    "    recipe_ratings = pd.concat([recipe_ratings, getRecipeRatings(idx)], ignore_index=True)\n",
    "recipe_ratings"
   ]
  },
  {
   "cell_type": "markdown",
   "id": "d0e40173",
   "metadata": {},
   "source": [
    "#### Usando surprise"
   ]
  },
  {
   "cell_type": "code",
   "execution_count": 233,
   "id": "fe676596",
   "metadata": {},
   "outputs": [],
   "source": [
    "# Se indican cuales son los valores del rating\n",
    "reader = Reader(rating_scale=(0, 5))\n",
    "\n",
    "# Se indican las columnas del df que usara\n",
    "data_1 = Dataset.load_from_df(recipe_ratings[[\"User\", \"Recipe\", \"Rating\"]], reader)"
   ]
  },
  {
   "cell_type": "markdown",
   "id": "42c33ed5",
   "metadata": {},
   "source": [
    "Para medir que tan bueno es el modelo usaremos MAE (Mean Absolute Error) y RMSE (Root Mean Squared Error), las cuales se enfocan en medir los errores que cometio el modelo, RMSE se encargará de ver por los errores grandes, por lo que entre más alto sea su valor tendremos errores más grandes"
   ]
  },
  {
   "cell_type": "code",
   "execution_count": 277,
   "id": "32ffd565",
   "metadata": {
    "scrolled": true
   },
   "outputs": [
    {
     "name": "stdout",
     "output_type": "stream",
     "text": [
      "Evaluating RMSE, MAE of algorithm SVD on 5 split(s).\n",
      "\n",
      "                  Fold 1  Fold 2  Fold 3  Fold 4  Fold 5  Mean    Std     \n",
      "RMSE (testset)    0.7690  0.6000  0.6529  0.7245  1.8290  0.9151  0.4606  \n",
      "MAE (testset)     0.7690  0.6000  0.6529  0.7245  1.8290  0.9151  0.4606  \n",
      "Fit time          0.00    0.00    0.00    0.00    0.00    0.00    0.00    \n",
      "Test time         0.00    0.00    0.00    0.00    0.00    0.00    0.00    \n"
     ]
    },
    {
     "data": {
      "text/plain": [
       "<surprise.prediction_algorithms.matrix_factorization.SVD at 0x226f1a9c1c0>"
      ]
     },
     "execution_count": 277,
     "metadata": {},
     "output_type": "execute_result"
    }
   ],
   "source": [
    "# Se divide nuestros datos en test y train\n",
    "trainset, testset = train_test_split(data_1, test_size=0.2)\n",
    "\n",
    "# Se indica el algoritmo SVD\n",
    "algo = SVD()\n",
    "cross_validate(algo, data_1, measures=['RMSE', 'MAE'], cv=5, verbose=True)\n",
    "# Se entrena el modelo en el conjunto de entrenamiento\n",
    "algo.fit(trainset)"
   ]
  },
  {
   "cell_type": "markdown",
   "id": "c1571b3e",
   "metadata": {},
   "source": [
    "Guardamos las metricas"
   ]
  },
  {
   "cell_type": "code",
   "execution_count": 278,
   "id": "5d964001",
   "metadata": {},
   "outputs": [
    {
     "name": "stdout",
     "output_type": "stream",
     "text": [
      "Evaluating RMSE, MAE of algorithm SVD on 5 split(s).\n",
      "\n",
      "                  Fold 1  Fold 2  Fold 3  Fold 4  Fold 5  Mean    Std     \n",
      "RMSE (testset)    0.5010  0.6999  1.8109  0.5826  0.6000  0.8389  0.4901  \n",
      "MAE (testset)     0.5000  0.6999  1.8109  0.5826  0.6000  0.8387  0.4903  \n",
      "Fit time          0.00    0.00    0.00    0.00    0.00    0.00    0.00    \n",
      "Test time         0.00    0.00    0.00    0.00    0.00    0.00    0.00    \n"
     ]
    }
   ],
   "source": [
    "cv_results_algo = cross_validate(algo, data_1, measures=['RMSE', 'MAE'], cv=5, verbose=True)\n",
    "mae_algo = cv_results_algo['test_mae'].mean()\n",
    "rmse_algo = cv_results_algo['test_rmse'].mean()"
   ]
  },
  {
   "cell_type": "code",
   "execution_count": 235,
   "id": "8ab03a50",
   "metadata": {},
   "outputs": [],
   "source": [
    "# Se hacen las predicciones en el conjunto de prueba\n",
    "predictions = algo.test(testset)"
   ]
  },
  {
   "cell_type": "code",
   "execution_count": 245,
   "id": "7d1cd03e",
   "metadata": {},
   "outputs": [
    {
     "name": "stdout",
     "output_type": "stream",
     "text": [
      "RMSE: 0.7689\n"
     ]
    },
    {
     "data": {
      "text/plain": [
       "0.7688787209890355"
      ]
     },
     "execution_count": 245,
     "metadata": {},
     "output_type": "execute_result"
    }
   ],
   "source": [
    "# Se evaluan el rendimiento del modelo\n",
    "accuracy.rmse(predictions)"
   ]
  },
  {
   "cell_type": "markdown",
   "id": "fa97c878",
   "metadata": {},
   "source": [
    "Veamos cuales son las 5 recetas que recomendaría en forma de tabla"
   ]
  },
  {
   "cell_type": "code",
   "execution_count": 237,
   "id": "4d8b838c",
   "metadata": {},
   "outputs": [
    {
     "name": "stdout",
     "output_type": "stream",
     "text": [
      "Receta: Maple Banana Frozen Yogurt (http://www.edamam.com/ontologies/edamam.owl#recipe_067f0b7be628ae847366e4f3e614b319), Calificación estimada: 4.2311212790109645\n",
      "Receta: Boozy Baked French Toast (http://www.edamam.com/ontologies/edamam.owl#recipe_88c93d34a2f0c4a9ebf55c8d7c985458), Calificación estimada: 4.2311212790109645\n"
     ]
    }
   ],
   "source": [
    "# Se ordenan las predicciones por calificación descendente y obtener las 5 mejores\n",
    "top_recetas = sorted(predictions, key=lambda x: x.est, reverse=True)[:5]\n",
    "\n",
    "# Se imprimen las 5 recetas recomendadas\n",
    "for receta in top_recetas:\n",
    "    url_receta = df.loc[df['recipe_uri'] == receta.iid, 'recipe_uri'].values[0]\n",
    "    label_receta = df.loc[df['recipe_uri'] == receta.iid, 'label'].values[0]\n",
    "    print(f\"Receta: {label_receta} ({url_receta}), Calificación estimada: {receta.est}\")"
   ]
  },
  {
   "cell_type": "markdown",
   "id": "067434c8",
   "metadata": {},
   "source": [
    "Veamos ahora las recomendaciones en una tabla"
   ]
  },
  {
   "cell_type": "code",
   "execution_count": 242,
   "id": "c78844c6",
   "metadata": {},
   "outputs": [
    {
     "data": {
      "text/html": [
       "<div>\n",
       "<style scoped>\n",
       "    .dataframe tbody tr th:only-of-type {\n",
       "        vertical-align: middle;\n",
       "    }\n",
       "\n",
       "    .dataframe tbody tr th {\n",
       "        vertical-align: top;\n",
       "    }\n",
       "\n",
       "    .dataframe thead th {\n",
       "        text-align: right;\n",
       "    }\n",
       "</style>\n",
       "<table border=\"1\" class=\"dataframe\">\n",
       "  <thead>\n",
       "    <tr style=\"text-align: right;\">\n",
       "      <th></th>\n",
       "      <th>recipe_uri</th>\n",
       "      <th>label</th>\n",
       "      <th>dietLabels</th>\n",
       "      <th>healthLabels</th>\n",
       "      <th>mealType</th>\n",
       "      <th>Energy(cal)</th>\n",
       "      <th>Fat(g)</th>\n",
       "      <th>Protein(g)</th>\n",
       "      <th>Carbohydrates(g)</th>\n",
       "      <th>Fiber(g)</th>\n",
       "    </tr>\n",
       "  </thead>\n",
       "  <tbody>\n",
       "    <tr>\n",
       "      <th>1</th>\n",
       "      <td>http://www.edamam.com/ontologies/edamam.owl#re...</td>\n",
       "      <td>Maple Banana Frozen Yogurt</td>\n",
       "      <td>[Balanced, Low-Sodium]</td>\n",
       "      <td>['Vegetarian', 'Pescatarian', 'Mediterranean',...</td>\n",
       "      <td>['lunch/dinner']</td>\n",
       "      <td>494.733346</td>\n",
       "      <td>15.507892</td>\n",
       "      <td>18.264435</td>\n",
       "      <td>74.425804</td>\n",
       "      <td>6.0164</td>\n",
       "    </tr>\n",
       "    <tr>\n",
       "      <th>16</th>\n",
       "      <td>http://www.edamam.com/ontologies/edamam.owl#re...</td>\n",
       "      <td>Boozy Baked French Toast</td>\n",
       "      <td>[Balanced]</td>\n",
       "      <td>['Vegetarian', 'Pescatarian', 'Peanut-Free', '...</td>\n",
       "      <td>['breakfast']</td>\n",
       "      <td>2153.715000</td>\n",
       "      <td>64.857900</td>\n",
       "      <td>84.912000</td>\n",
       "      <td>303.004800</td>\n",
       "      <td>11.0400</td>\n",
       "    </tr>\n",
       "  </tbody>\n",
       "</table>\n",
       "</div>"
      ],
      "text/plain": [
       "                                           recipe_uri  \\\n",
       "1   http://www.edamam.com/ontologies/edamam.owl#re...   \n",
       "16  http://www.edamam.com/ontologies/edamam.owl#re...   \n",
       "\n",
       "                         label              dietLabels  \\\n",
       "1   Maple Banana Frozen Yogurt  [Balanced, Low-Sodium]   \n",
       "16    Boozy Baked French Toast              [Balanced]   \n",
       "\n",
       "                                         healthLabels          mealType  \\\n",
       "1   ['Vegetarian', 'Pescatarian', 'Mediterranean',...  ['lunch/dinner']   \n",
       "16  ['Vegetarian', 'Pescatarian', 'Peanut-Free', '...     ['breakfast']   \n",
       "\n",
       "    Energy(cal)     Fat(g)  Protein(g)  Carbohydrates(g)  Fiber(g)  \n",
       "1    494.733346  15.507892   18.264435         74.425804    6.0164  \n",
       "16  2153.715000  64.857900   84.912000        303.004800   11.0400  "
      ]
     },
     "execution_count": 242,
     "metadata": {},
     "output_type": "execute_result"
    }
   ],
   "source": [
    "# Se crea un DataFrame para almacenar las recomendaciones\n",
    "recomendaciones_df = pd.DataFrame(columns=df.columns)\n",
    "\n",
    "#Se llema el DataFrame con la información de las recetas recomendadas\n",
    "for receta in top_recetas:\n",
    "    uri_receta = receta.iid\n",
    "    info_receta = df[df['recipe_uri'] == uri_receta]\n",
    "    recomendaciones_df = pd.concat([recomendaciones_df, info_receta])\n",
    "\n",
    "# Se imprime la tabla de recomendaciones\n",
    "recomendaciones_df"
   ]
  },
  {
   "cell_type": "markdown",
   "id": "96d1a895",
   "metadata": {},
   "source": [
    "Ahora vamos a probar hacerlo con un modelo de KNNBasic, el cual se basa en recomendaciones por similitud de usuarios."
   ]
  },
  {
   "cell_type": "code",
   "execution_count": 248,
   "id": "7d7a3b4a",
   "metadata": {},
   "outputs": [
    {
     "name": "stdout",
     "output_type": "stream",
     "text": [
      "Evaluating RMSE, MAE of algorithm SVD on 5 split(s).\n",
      "\n",
      "                  Fold 1  Fold 2  Fold 3  Fold 4  Fold 5  Mean    Std     \n",
      "RMSE (testset)    0.5026  1.8116  0.7237  0.5738  0.6000  0.8423  0.4899  \n",
      "MAE (testset)     0.5000  1.8116  0.7237  0.5738  0.6000  0.8418  0.4902  \n",
      "Fit time          0.00    0.00    0.00    0.00    0.00    0.00    0.00    \n",
      "Test time         0.00    0.00    0.00    0.00    0.00    0.00    0.00    \n",
      "Computing the msd similarity matrix...\n",
      "Done computing similarity matrix.\n"
     ]
    },
    {
     "data": {
      "text/plain": [
       "<surprise.prediction_algorithms.knns.KNNBasic at 0x226efc1d2e0>"
      ]
     },
     "execution_count": 248,
     "metadata": {},
     "output_type": "execute_result"
    }
   ],
   "source": [
    "knn = KNNBasic()\n",
    "cross_validate(model, data_1, measures=['RMSE', 'MAE'], cv=5, verbose=True)\n",
    "# Se entrena el modelo en el conjunto de entrenamiento\n",
    "knn.fit(trainset)"
   ]
  },
  {
   "cell_type": "code",
   "execution_count": 280,
   "id": "30bb0651",
   "metadata": {},
   "outputs": [
    {
     "name": "stdout",
     "output_type": "stream",
     "text": [
      "Computing the msd similarity matrix...\n",
      "Done computing similarity matrix.\n",
      "Computing the msd similarity matrix...\n",
      "Done computing similarity matrix.\n",
      "Computing the msd similarity matrix...\n",
      "Done computing similarity matrix.\n",
      "Computing the msd similarity matrix...\n",
      "Done computing similarity matrix.\n",
      "Computing the msd similarity matrix...\n",
      "Done computing similarity matrix.\n",
      "Evaluating RMSE, MAE of algorithm KNNBasic on 5 split(s).\n",
      "\n",
      "                  Fold 1  Fold 2  Fold 3  Fold 4  Fold 5  Mean    Std     \n",
      "RMSE (testset)    0.7500  1.8000  0.6000  0.6000  0.6000  0.8700  0.4686  \n",
      "MAE (testset)     0.7500  1.8000  0.6000  0.6000  0.6000  0.8700  0.4686  \n",
      "Fit time          0.01    0.00    0.00    0.00    0.00    0.00    0.00    \n",
      "Test time         0.00    0.00    0.00    0.00    0.00    0.00    0.00    \n"
     ]
    }
   ],
   "source": [
    "cv_results_knn = cross_validate(knn, data_1, measures=['RMSE', 'MAE'], cv=5, verbose=True)\n",
    "mae_knn = cv_results_knn['test_mae'].mean()\n",
    "rmse_knn = cv_results_knn['test_rmse'].mean()"
   ]
  },
  {
   "cell_type": "code",
   "execution_count": 249,
   "id": "aea95847",
   "metadata": {},
   "outputs": [
    {
     "name": "stdout",
     "output_type": "stream",
     "text": [
      "RMSE: 0.7500\n"
     ]
    },
    {
     "data": {
      "text/plain": [
       "0.75"
      ]
     },
     "execution_count": 249,
     "metadata": {},
     "output_type": "execute_result"
    }
   ],
   "source": [
    "# Se hacen las predicciones en el conjunto de prueba\n",
    "predictions_knn = knn.test(testset)\n",
    "# Se evaluan el rendimiento del modelo\n",
    "accuracy.rmse(predictions_knn)"
   ]
  },
  {
   "cell_type": "code",
   "execution_count": 254,
   "id": "592b373d",
   "metadata": {},
   "outputs": [
    {
     "name": "stdout",
     "output_type": "stream",
     "text": [
      "Receta: Maple Banana Frozen Yogurt (http://www.edamam.com/ontologies/edamam.owl#recipe_067f0b7be628ae847366e4f3e614b319), Calificación estimada: 4.25\n",
      "Receta: Boozy Baked French Toast (http://www.edamam.com/ontologies/edamam.owl#recipe_88c93d34a2f0c4a9ebf55c8d7c985458), Calificación estimada: 4.25\n"
     ]
    }
   ],
   "source": [
    "# Se imprimen las 5 recetas recomendadas con KNN\n",
    "for receta in top_recetas_knn:\n",
    "    url_receta = df.loc[df['recipe_uri'] == receta.iid, 'recipe_uri'].values[0]\n",
    "    label_receta = df.loc[df['recipe_uri'] == receta.iid, 'label'].values[0]\n",
    "    print(f\"Receta: {label_receta} ({url_receta}), Calificación estimada: {receta.est}\")"
   ]
  },
  {
   "cell_type": "markdown",
   "id": "5f5fd94b",
   "metadata": {},
   "source": [
    "#### Ajuste de parametros usando GridSearchCV\n",
    "\n",
    "Con la libreria podemos ejecutar los algoritmos varias veces para que la libreria nos de los mejores parametros dado las metricas de los errores."
   ]
  },
  {
   "cell_type": "code",
   "execution_count": 257,
   "id": "7d1c8414",
   "metadata": {},
   "outputs": [],
   "source": [
    "from surprise.model_selection import GridSearchCV\n",
    "\n",
    "param_grid = {'n_factors': [100,150],\n",
    "              'n_epochs': [20,25,30],\n",
    "              'lr_all':[0.005,0.01,0.1],\n",
    "              'reg_all':[0.02,0.05,0.1]}\n",
    "grid_search = GridSearchCV(SVD, param_grid, measures=['rmse','mae'], cv=3)\n",
    "grid_search.fit(data_1)   "
   ]
  },
  {
   "cell_type": "markdown",
   "id": "dabf274a",
   "metadata": {},
   "source": [
    "Veamos cuales son los scores para los parametros dados"
   ]
  },
  {
   "cell_type": "code",
   "execution_count": 258,
   "id": "756c1145",
   "metadata": {},
   "outputs": [
    {
     "name": "stdout",
     "output_type": "stream",
     "text": [
      "0.8449548598859536\n",
      "0.7583324354262841\n"
     ]
    }
   ],
   "source": [
    "print(grid_search.best_score['rmse'])\n",
    "print(grid_search.best_score['mae'])"
   ]
  },
  {
   "cell_type": "markdown",
   "id": "b9ea69a3",
   "metadata": {},
   "source": [
    "Ahora veamos cuales son los mejores parametros"
   ]
  },
  {
   "cell_type": "code",
   "execution_count": 259,
   "id": "a19b0a5f",
   "metadata": {},
   "outputs": [
    {
     "name": "stdout",
     "output_type": "stream",
     "text": [
      "{'n_factors': 100, 'n_epochs': 20, 'lr_all': 0.005, 'reg_all': 0.05}\n"
     ]
    }
   ],
   "source": [
    "print(grid_search.best_params['rmse'])"
   ]
  },
  {
   "cell_type": "markdown",
   "id": "980f34d9",
   "metadata": {},
   "source": [
    "Ahora podemos usar los parametros dados con los modelos hechos"
   ]
  },
  {
   "cell_type": "code",
   "execution_count": 281,
   "id": "09c84773",
   "metadata": {},
   "outputs": [
    {
     "name": "stdout",
     "output_type": "stream",
     "text": [
      "Evaluating RMSE, MAE of algorithm SVD on 5 split(s).\n",
      "\n",
      "                  Fold 1  Fold 2  Fold 3  Fold 4  Fold 5  Mean    Std     \n",
      "RMSE (testset)    0.5008  0.7161  1.8109  0.6000  0.5807  0.8417  0.4895  \n",
      "MAE (testset)     0.5000  0.7161  1.8109  0.6000  0.5807  0.8415  0.4896  \n",
      "Fit time          0.00    0.00    0.00    0.00    0.00    0.00    0.00    \n",
      "Test time         0.00    0.00    0.00    0.00    0.00    0.00    0.00    \n"
     ]
    },
    {
     "data": {
      "text/plain": [
       "{'test_rmse': array([0.50082951, 0.71606983, 1.81092548, 0.6       , 0.58065939]),\n",
       " 'test_mae': array([0.5       , 0.71606983, 1.81092548, 0.6       , 0.58065939]),\n",
       " 'fit_time': (0.003099679946899414, 0.0, 0.0, 0.0, 0.0),\n",
       " 'test_time': (0.0, 0.0, 0.0, 0.0, 0.0)}"
      ]
     },
     "execution_count": 281,
     "metadata": {},
     "output_type": "execute_result"
    }
   ],
   "source": [
    "svd_param = grid_search.best_estimator['rmse']\n",
    "\n",
    "cross_validate(svd, data_1, measures=['RMSE', 'MAE'], cv=5, verbose=True)"
   ]
  },
  {
   "cell_type": "code",
   "execution_count": 282,
   "id": "d9f3f53f",
   "metadata": {},
   "outputs": [
    {
     "name": "stdout",
     "output_type": "stream",
     "text": [
      "Evaluating RMSE, MAE of algorithm SVD on 5 split(s).\n",
      "\n",
      "                  Fold 1  Fold 2  Fold 3  Fold 4  Fold 5  Mean    Std     \n",
      "RMSE (testset)    0.7910  0.6000  1.7946  0.6699  0.5923  0.8895  0.4581  \n",
      "MAE (testset)     0.7873  0.6000  1.7946  0.6699  0.5923  0.8888  0.4582  \n",
      "Fit time          0.00    0.00    0.00    0.00    0.00    0.00    0.00    \n",
      "Test time         0.00    0.00    0.00    0.00    0.00    0.00    0.00    \n"
     ]
    }
   ],
   "source": [
    "cv_results_svd_param = cross_validate(svd_param, data_1, measures=['RMSE', 'MAE'], cv=5, verbose=True)\n",
    "mae_svd_param = cv_results_svd_param['test_mae'].mean()\n",
    "rmse_svd_param = cv_results_svd_param['test_rmse'].mean()"
   ]
  },
  {
   "cell_type": "markdown",
   "id": "e6af9122",
   "metadata": {},
   "source": [
    "Podemos ver que mejoraron muchos los valores del modelo, aunque teniendo en cuenta que el modelo es susceptible a cambios dada la naturalidad del proyecto, donde poco a poco se poblaran las bases de datos y podremos mejorar el modelo,"
   ]
  },
  {
   "cell_type": "markdown",
   "id": "b9918505",
   "metadata": {},
   "source": [
    "#### Ahora subamos los modelos como experimentos"
   ]
  },
  {
   "cell_type": "code",
   "execution_count": 270,
   "id": "f68b3f9f",
   "metadata": {},
   "outputs": [
    {
     "data": {
      "text/html": [
       "<pre style=\"white-space:pre;overflow-x:auto;line-height:normal;font-family:Menlo,'DejaVu Sans Mono',consolas,'Courier New',monospace\">Repository initialized!\n",
       "</pre>\n"
      ],
      "text/plain": [
       "Repository initialized!\n"
      ]
     },
     "metadata": {},
     "output_type": "display_data"
    }
   ],
   "source": [
    "import dagshub\n",
    "import mlflow\n",
    "\n",
    "dagshub.init(\"Proyecto-PCD\", \"SergioDuenass\", mlflow=True)"
   ]
  },
  {
   "cell_type": "code",
   "execution_count": 272,
   "id": "9c7f91ce",
   "metadata": {},
   "outputs": [
    {
     "name": "stdout",
     "output_type": "stream",
     "text": [
      "1\n"
     ]
    }
   ],
   "source": [
    "experiment_name = \"proyecto_exp\"\n",
    "\n",
    "experiment_id = mlflow.create_experiment(experiment_name)\n",
    "\n",
    "print(experiment_id)"
   ]
  },
  {
   "cell_type": "markdown",
   "id": "69c08fec",
   "metadata": {},
   "source": [
    "Se sube el primero modelo que uso SVD"
   ]
  },
  {
   "cell_type": "code",
   "execution_count": 279,
   "id": "ba874d4e",
   "metadata": {},
   "outputs": [
    {
     "name": "stderr",
     "output_type": "stream",
     "text": [
      "C:\\Users\\andre\\anaconda3\\envs\\proyecto_2\\lib\\site-packages\\_distutils_hack\\__init__.py:33: UserWarning: Setuptools is replacing distutils.\n",
      "  warnings.warn(\"Setuptools is replacing distutils.\")\n"
     ]
    }
   ],
   "source": [
    "with mlflow.start_run(experiment_id=1, run_name=\"SVD\", nested=True) as run:\n",
    "    mlflow.sklearn.log_model(algo, \"SVD\")\n",
    "    mlflow.log_metric(\"MAE\", mae_algo)\n",
    "    mlflow.log_metric(\"RMSE\", rmse_algo)\n",
    "    mlflow.log_param(\"model_type\", \"SVD\")"
   ]
  },
  {
   "cell_type": "markdown",
   "id": "dd906caf",
   "metadata": {},
   "source": [
    "Se sube el segundo modelo que uso KNN"
   ]
  },
  {
   "cell_type": "code",
   "execution_count": 283,
   "id": "dfb07dfd",
   "metadata": {},
   "outputs": [],
   "source": [
    "with mlflow.start_run(experiment_id=1, run_name=\"KNN\", nested=True) as run:\n",
    "    mlflow.sklearn.log_model(knn, \"SVD\")\n",
    "    mlflow.log_metric(\"MAE\", mae_knn)\n",
    "    mlflow.log_metric(\"RMSE\", rmse_knn)\n",
    "    mlflow.log_param(\"model_type\", \"KNN\")"
   ]
  },
  {
   "cell_type": "markdown",
   "id": "7e641b45",
   "metadata": {},
   "source": [
    "Se sube el primero modelo que uso SVD con parametros"
   ]
  },
  {
   "cell_type": "code",
   "execution_count": 285,
   "id": "735561da",
   "metadata": {},
   "outputs": [],
   "source": [
    "with mlflow.start_run(experiment_id=1, run_name=\"SVD_Param\", nested=True) as run:\n",
    "    mlflow.sklearn.log_model(svd_param, \"SVD_Param\")\n",
    "    mlflow.log_metric(\"MAE\", mae_svd_param)\n",
    "    mlflow.log_metric(\"RMSE\", rmse_svd_param)\n",
    "    mlflow.log_param(\"model_type\", \"SVD_Param\")"
   ]
  },
  {
   "cell_type": "markdown",
   "id": "3d02cdd6",
   "metadata": {},
   "source": [
    "Ya con los modelos creados y los experimentos en nuestro Dagshub y Mlflow, podemos avanzar a la siguiente parte para elegir el modelo que usaremos y crear la API en base al modelo que se vaya a elegir."
   ]
  }
 ],
 "metadata": {
  "kernelspec": {
   "display_name": "Python 3 (ipykernel)",
   "language": "python",
   "name": "python3"
  },
  "language_info": {
   "codemirror_mode": {
    "name": "ipython",
    "version": 3
   },
   "file_extension": ".py",
   "mimetype": "text/x-python",
   "name": "python",
   "nbconvert_exporter": "python",
   "pygments_lexer": "ipython3",
   "version": "3.8.18"
  }
 },
 "nbformat": 4,
 "nbformat_minor": 5
}
